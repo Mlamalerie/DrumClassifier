{
 "cells": [
  {
   "cell_type": "markdown",
   "source": [
    "# Data Cleaning\n",
    "\n",
    "Une fois qu'on a identifié les problèmes dans nos données, on procède à leur nettoyage.\n",
    "\n",
    "Cela consiste en :\n",
    "- la suppression des données dupliquées\n",
    "- le traitement des valeurs manquantes\n",
    "- la suppression des valeurs aberrantes\n",
    "\n",
    "Cette étape est cruciale pour garantir la qualité et la fiabilité des données avant de les utiliser pour l'analyse et la modélisation."
   ],
   "metadata": {
    "collapsed": false
   }
  },
  {
   "cell_type": "markdown",
   "source": [
    "## Import"
   ],
   "metadata": {
    "collapsed": false
   }
  },
  {
   "cell_type": "code",
   "execution_count": 20,
   "metadata": {
    "collapsed": true,
    "ExecuteTime": {
     "start_time": "2023-04-24T17:59:41.894192Z",
     "end_time": "2023-04-24T17:59:42.133119Z"
    }
   },
   "outputs": [],
   "source": [
    "import IPython.display as ipd\n",
    "from scipy.signal import hilbert\n",
    "import numpy as np\n",
    "from scipy.stats import skew\n",
    "import pandas as pd\n",
    "import matplotlib.pyplot as plt\n",
    "import seaborn as sns\n",
    "import scipy\n",
    "\n",
    "import numpy as np\n",
    "import pandas as pd\n",
    "from tqdm import tqdm\n",
    "from joblib import Parallel, delayed\n",
    "\n",
    "# change style\n",
    "plt.style.use('ggplot')\n",
    "import librosa\n",
    "import librosa.display\n",
    "from tqdm import tqdm\n",
    "from tools import play_audio, load_audio_file, pad_signal\n",
    "\n",
    "tqdm.pandas()\n",
    "import os\n",
    "from glob import glob\n",
    "import random\n",
    "from datetime import datetime\n",
    "\n",
    "from concurrent.futures import ThreadPoolExecutor, as_completed"
   ]
  },
  {
   "cell_type": "code",
   "execution_count": 21,
   "outputs": [],
   "source": [
    "from params import SOUNDS_DATASET_PATH, SAMPLE_RATE, CLASS_COLORS\n",
    "from tools import play_audio, load_audio_file, pad_signal\n"
   ],
   "metadata": {
    "collapsed": false,
    "ExecuteTime": {
     "start_time": "2023-04-24T17:59:41.909930Z",
     "end_time": "2023-04-24T17:59:42.133119Z"
    }
   }
  },
  {
   "cell_type": "markdown",
   "source": [
    "## Load Dataset"
   ],
   "metadata": {
    "collapsed": false
   }
  },
  {
   "cell_type": "code",
   "execution_count": 22,
   "outputs": [
    {
     "name": "stdout",
     "output_type": "stream",
     "text": [
      "Dataset path:  G:\\Shared drives\\PFE - ING3 Mlamali\\DrumClassifier - Sounds Dataset\\dataset_features_extracted.csv\n",
      "Dataset shape:  (10305, 100)\n"
     ]
    },
    {
     "data": {
      "text/plain": "                                                             file_name  \\\nfile_path                                                                \nG:\\Shared drives\\PFE - ING3 Mlamali\\DrumClassif...   KAMAL - Conga (1)   \nG:\\Shared drives\\PFE - ING3 Mlamali\\DrumClassif...   KAMAL - Conga (2)   \nG:\\Shared drives\\PFE - ING3 Mlamali\\DrumClassif...   KAMAL - Conga (3)   \nG:\\Shared drives\\PFE - ING3 Mlamali\\DrumClassif...   KAMAL - Conga (4)   \nG:\\Shared drives\\PFE - ING3 Mlamali\\DrumClassif...   KAMAL - Conga (5)   \n...                                                                ...   \nG:\\Shared drives\\PFE - ING3 Mlamali\\DrumClassif...   Mid Seed Shaker 9   \nG:\\Shared drives\\PFE - ING3 Mlamali\\DrumClassif...  Mid Seed Shaker 10   \nG:\\Shared drives\\PFE - ING3 Mlamali\\DrumClassif...  Mid Seed Shaker 11   \nG:\\Shared drives\\PFE - ING3 Mlamali\\DrumClassif...  Mid Seed Shaker 12   \nG:\\Shared drives\\PFE - ING3 Mlamali\\DrumClassif...  Mid Seed Shaker 13   \n\n                                                   file_extension   class  \\\nfile_path                                                                   \nG:\\Shared drives\\PFE - ING3 Mlamali\\DrumClassif...           .wav   Conga   \nG:\\Shared drives\\PFE - ING3 Mlamali\\DrumClassif...           .wav   Conga   \nG:\\Shared drives\\PFE - ING3 Mlamali\\DrumClassif...           .wav   Conga   \nG:\\Shared drives\\PFE - ING3 Mlamali\\DrumClassif...           .wav   Conga   \nG:\\Shared drives\\PFE - ING3 Mlamali\\DrumClassif...           .wav   Conga   \n...                                                           ...     ...   \nG:\\Shared drives\\PFE - ING3 Mlamali\\DrumClassif...           .aif  Shaker   \nG:\\Shared drives\\PFE - ING3 Mlamali\\DrumClassif...           .aif  Shaker   \nG:\\Shared drives\\PFE - ING3 Mlamali\\DrumClassif...           .aif  Shaker   \nG:\\Shared drives\\PFE - ING3 Mlamali\\DrumClassif...           .aif  Shaker   \nG:\\Shared drives\\PFE - ING3 Mlamali\\DrumClassif...           .aif  Shaker   \n\n                                                    split  duration  \\\nfile_path                                                             \nG:\\Shared drives\\PFE - ING3 Mlamali\\DrumClassif...  train  0.221905   \nG:\\Shared drives\\PFE - ING3 Mlamali\\DrumClassif...   test  0.075170   \nG:\\Shared drives\\PFE - ING3 Mlamali\\DrumClassif...  train  0.086417   \nG:\\Shared drives\\PFE - ING3 Mlamali\\DrumClassif...  train  0.063810   \nG:\\Shared drives\\PFE - ING3 Mlamali\\DrumClassif...  train  0.258231   \n...                                                   ...       ...   \nG:\\Shared drives\\PFE - ING3 Mlamali\\DrumClassif...  train  0.672880   \nG:\\Shared drives\\PFE - ING3 Mlamali\\DrumClassif...  train  0.929456   \nG:\\Shared drives\\PFE - ING3 Mlamali\\DrumClassif...  train  0.875011   \nG:\\Shared drives\\PFE - ING3 Mlamali\\DrumClassif...  train  0.875011   \nG:\\Shared drives\\PFE - ING3 Mlamali\\DrumClassif...   test  0.596576   \n\n                                                    log_sum_rms  log_mean_rms  \\\nfile_path                                                                       \nG:\\Shared drives\\PFE - ING3 Mlamali\\DrumClassif...   -36.586320     -1.829316   \nG:\\Shared drives\\PFE - ING3 Mlamali\\DrumClassif...    -5.535370     -0.790767   \nG:\\Shared drives\\PFE - ING3 Mlamali\\DrumClassif...    -6.860503     -0.857563   \nG:\\Shared drives\\PFE - ING3 Mlamali\\DrumClassif...    -9.422018     -1.570336   \nG:\\Shared drives\\PFE - ING3 Mlamali\\DrumClassif...   -23.961166     -1.041790   \n...                                                         ...           ...   \nG:\\Shared drives\\PFE - ING3 Mlamali\\DrumClassif...  -172.912320     -2.981247   \nG:\\Shared drives\\PFE - ING3 Mlamali\\DrumClassif...  -273.343200     -3.374607   \nG:\\Shared drives\\PFE - ING3 Mlamali\\DrumClassif...  -244.603880     -3.218472   \nG:\\Shared drives\\PFE - ING3 Mlamali\\DrumClassif...  -246.982820     -3.249774   \nG:\\Shared drives\\PFE - ING3 Mlamali\\DrumClassif...  -154.541100     -2.971944   \n\n                                                    log_max_rms  rms_log_std  \\\nfile_path                                                                      \nG:\\Shared drives\\PFE - ING3 Mlamali\\DrumClassif...    -0.739824     1.237576   \nG:\\Shared drives\\PFE - ING3 Mlamali\\DrumClassif...    -0.269122     0.479259   \nG:\\Shared drives\\PFE - ING3 Mlamali\\DrumClassif...    -0.265424     0.504127   \nG:\\Shared drives\\PFE - ING3 Mlamali\\DrumClassif...    -0.670527     0.721422   \nG:\\Shared drives\\PFE - ING3 Mlamali\\DrumClassif...    -0.465791     0.610694   \n...                                                         ...          ...   \nG:\\Shared drives\\PFE - ING3 Mlamali\\DrumClassif...    -0.822484     1.529523   \nG:\\Shared drives\\PFE - ING3 Mlamali\\DrumClassif...    -0.728820     1.568116   \nG:\\Shared drives\\PFE - ING3 Mlamali\\DrumClassif...    -0.734002     1.524488   \nG:\\Shared drives\\PFE - ING3 Mlamali\\DrumClassif...    -0.720161     1.605657   \nG:\\Shared drives\\PFE - ING3 Mlamali\\DrumClassif...    -0.724052     1.567551   \n\n                                                    rms_log_diff_mean  ...  \\\nfile_path                                                              ...   \nG:\\Shared drives\\PFE - ING3 Mlamali\\DrumClassif...           0.269076  ...   \nG:\\Shared drives\\PFE - ING3 Mlamali\\DrumClassif...           0.253621  ...   \nG:\\Shared drives\\PFE - ING3 Mlamali\\DrumClassif...           0.226923  ...   \nG:\\Shared drives\\PFE - ING3 Mlamali\\DrumClassif...           0.379499  ...   \nG:\\Shared drives\\PFE - ING3 Mlamali\\DrumClassif...           0.136201  ...   \n...                                                               ...  ...   \nG:\\Shared drives\\PFE - ING3 Mlamali\\DrumClassif...           0.173720  ...   \nG:\\Shared drives\\PFE - ING3 Mlamali\\DrumClassif...           0.125416  ...   \nG:\\Shared drives\\PFE - ING3 Mlamali\\DrumClassif...           0.125789  ...   \nG:\\Shared drives\\PFE - ING3 Mlamali\\DrumClassif...           0.150438  ...   \nG:\\Shared drives\\PFE - ING3 Mlamali\\DrumClassif...           0.157930  ...   \n\n                                                    spec_cent_mean  \\\nfile_path                                                            \nG:\\Shared drives\\PFE - ING3 Mlamali\\DrumClassif...     2771.188810   \nG:\\Shared drives\\PFE - ING3 Mlamali\\DrumClassif...     5363.585376   \nG:\\Shared drives\\PFE - ING3 Mlamali\\DrumClassif...     1688.612761   \nG:\\Shared drives\\PFE - ING3 Mlamali\\DrumClassif...     3074.094357   \nG:\\Shared drives\\PFE - ING3 Mlamali\\DrumClassif...     3994.841115   \n...                                                            ...   \nG:\\Shared drives\\PFE - ING3 Mlamali\\DrumClassif...     8552.850170   \nG:\\Shared drives\\PFE - ING3 Mlamali\\DrumClassif...     9341.562555   \nG:\\Shared drives\\PFE - ING3 Mlamali\\DrumClassif...     9270.489384   \nG:\\Shared drives\\PFE - ING3 Mlamali\\DrumClassif...     9135.135614   \nG:\\Shared drives\\PFE - ING3 Mlamali\\DrumClassif...     8850.324918   \n\n                                                    spec_cent_std  \\\nfile_path                                                           \nG:\\Shared drives\\PFE - ING3 Mlamali\\DrumClassif...    2460.565926   \nG:\\Shared drives\\PFE - ING3 Mlamali\\DrumClassif...    1400.401081   \nG:\\Shared drives\\PFE - ING3 Mlamali\\DrumClassif...     562.744633   \nG:\\Shared drives\\PFE - ING3 Mlamali\\DrumClassif...     675.055216   \nG:\\Shared drives\\PFE - ING3 Mlamali\\DrumClassif...    1705.392297   \n...                                                           ...   \nG:\\Shared drives\\PFE - ING3 Mlamali\\DrumClassif...    1995.923836   \nG:\\Shared drives\\PFE - ING3 Mlamali\\DrumClassif...    2284.763279   \nG:\\Shared drives\\PFE - ING3 Mlamali\\DrumClassif...    1901.198482   \nG:\\Shared drives\\PFE - ING3 Mlamali\\DrumClassif...    2430.710085   \nG:\\Shared drives\\PFE - ING3 Mlamali\\DrumClassif...    2022.008011   \n\n                                                    spec_bw_mean  spec_bw_std  \\\nfile_path                                                                       \nG:\\Shared drives\\PFE - ING3 Mlamali\\DrumClassif...   3513.523659  1573.305322   \nG:\\Shared drives\\PFE - ING3 Mlamali\\DrumClassif...   6281.286529   869.637190   \nG:\\Shared drives\\PFE - ING3 Mlamali\\DrumClassif...   2684.366488   708.933286   \nG:\\Shared drives\\PFE - ING3 Mlamali\\DrumClassif...   3106.637318   440.107261   \nG:\\Shared drives\\PFE - ING3 Mlamali\\DrumClassif...   4126.019895   665.609861   \n...                                                          ...          ...   \nG:\\Shared drives\\PFE - ING3 Mlamali\\DrumClassif...   4688.603735  1248.938149   \nG:\\Shared drives\\PFE - ING3 Mlamali\\DrumClassif...   5029.911848  1418.301615   \nG:\\Shared drives\\PFE - ING3 Mlamali\\DrumClassif...   5027.825233  1365.491043   \nG:\\Shared drives\\PFE - ING3 Mlamali\\DrumClassif...   4792.150083  1420.777824   \nG:\\Shared drives\\PFE - ING3 Mlamali\\DrumClassif...   4661.250245  1210.422452   \n\n                                                    spec_flatness_mean  \\\nfile_path                                                                \nG:\\Shared drives\\PFE - ING3 Mlamali\\DrumClassif...            0.011382   \nG:\\Shared drives\\PFE - ING3 Mlamali\\DrumClassif...            0.006250   \nG:\\Shared drives\\PFE - ING3 Mlamali\\DrumClassif...            0.000881   \nG:\\Shared drives\\PFE - ING3 Mlamali\\DrumClassif...            0.005416   \nG:\\Shared drives\\PFE - ING3 Mlamali\\DrumClassif...            0.001800   \n...                                                                ...   \nG:\\Shared drives\\PFE - ING3 Mlamali\\DrumClassif...            0.154277   \nG:\\Shared drives\\PFE - ING3 Mlamali\\DrumClassif...            0.202218   \nG:\\Shared drives\\PFE - ING3 Mlamali\\DrumClassif...            0.198355   \nG:\\Shared drives\\PFE - ING3 Mlamali\\DrumClassif...            0.175519   \nG:\\Shared drives\\PFE - ING3 Mlamali\\DrumClassif...            0.162604   \n\n                                                    spec_flatness_std  \\\nfile_path                                                               \nG:\\Shared drives\\PFE - ING3 Mlamali\\DrumClassif...           0.027191   \nG:\\Shared drives\\PFE - ING3 Mlamali\\DrumClassif...           0.002458   \nG:\\Shared drives\\PFE - ING3 Mlamali\\DrumClassif...           0.001732   \nG:\\Shared drives\\PFE - ING3 Mlamali\\DrumClassif...           0.005467   \nG:\\Shared drives\\PFE - ING3 Mlamali\\DrumClassif...           0.003827   \n...                                                               ...   \nG:\\Shared drives\\PFE - ING3 Mlamali\\DrumClassif...           0.100315   \nG:\\Shared drives\\PFE - ING3 Mlamali\\DrumClassif...           0.129527   \nG:\\Shared drives\\PFE - ING3 Mlamali\\DrumClassif...           0.105156   \nG:\\Shared drives\\PFE - ING3 Mlamali\\DrumClassif...           0.128083   \nG:\\Shared drives\\PFE - ING3 Mlamali\\DrumClassif...           0.102460   \n\n                                                    spec_rolloff_mean  \\\nfile_path                                                               \nG:\\Shared drives\\PFE - ING3 Mlamali\\DrumClassif...         322.998047   \nG:\\Shared drives\\PFE - ING3 Mlamali\\DrumClassif...         461.425781   \nG:\\Shared drives\\PFE - ING3 Mlamali\\DrumClassif...         406.439209   \nG:\\Shared drives\\PFE - ING3 Mlamali\\DrumClassif...         509.619141   \nG:\\Shared drives\\PFE - ING3 Mlamali\\DrumClassif...         197.543733   \n...                                                               ...   \nG:\\Shared drives\\PFE - ING3 Mlamali\\DrumClassif...        3548.523370   \nG:\\Shared drives\\PFE - ING3 Mlamali\\DrumClassif...        3778.412543   \nG:\\Shared drives\\PFE - ING3 Mlamali\\DrumClassif...        3781.343801   \nG:\\Shared drives\\PFE - ING3 Mlamali\\DrumClassif...        3836.593467   \nG:\\Shared drives\\PFE - ING3 Mlamali\\DrumClassif...        3854.029259   \n\n                                                    spec_rolloff_std  \\\nfile_path                                                              \nG:\\Shared drives\\PFE - ING3 Mlamali\\DrumClassif...        135.162666   \nG:\\Shared drives\\PFE - ING3 Mlamali\\DrumClassif...         25.366763   \nG:\\Shared drives\\PFE - ING3 Mlamali\\DrumClassif...         12.908702   \nG:\\Shared drives\\PFE - ING3 Mlamali\\DrumClassif...        152.600726   \nG:\\Shared drives\\PFE - ING3 Mlamali\\DrumClassif...         17.565161   \n...                                                              ...   \nG:\\Shared drives\\PFE - ING3 Mlamali\\DrumClassif...       1844.713284   \nG:\\Shared drives\\PFE - ING3 Mlamali\\DrumClassif...       2690.802937   \nG:\\Shared drives\\PFE - ING3 Mlamali\\DrumClassif...       2479.147790   \nG:\\Shared drives\\PFE - ING3 Mlamali\\DrumClassif...       2557.461554   \nG:\\Shared drives\\PFE - ING3 Mlamali\\DrumClassif...       2275.831355   \n\n                                                    spec_contrast_mean  \\\nfile_path                                                                \nG:\\Shared drives\\PFE - ING3 Mlamali\\DrumClassif...           16.910134   \nG:\\Shared drives\\PFE - ING3 Mlamali\\DrumClassif...           13.454006   \nG:\\Shared drives\\PFE - ING3 Mlamali\\DrumClassif...           15.434837   \nG:\\Shared drives\\PFE - ING3 Mlamali\\DrumClassif...           15.496504   \nG:\\Shared drives\\PFE - ING3 Mlamali\\DrumClassif...           20.689341   \n...                                                                ...   \nG:\\Shared drives\\PFE - ING3 Mlamali\\DrumClassif...           13.433769   \nG:\\Shared drives\\PFE - ING3 Mlamali\\DrumClassif...           13.046287   \nG:\\Shared drives\\PFE - ING3 Mlamali\\DrumClassif...           12.827034   \nG:\\Shared drives\\PFE - ING3 Mlamali\\DrumClassif...           13.166101   \nG:\\Shared drives\\PFE - ING3 Mlamali\\DrumClassif...           13.113481   \n\n                                                    spec_contrast_std  \nfile_path                                                              \nG:\\Shared drives\\PFE - ING3 Mlamali\\DrumClassif...           6.121380  \nG:\\Shared drives\\PFE - ING3 Mlamali\\DrumClassif...           5.019219  \nG:\\Shared drives\\PFE - ING3 Mlamali\\DrumClassif...           6.394566  \nG:\\Shared drives\\PFE - ING3 Mlamali\\DrumClassif...           6.475287  \nG:\\Shared drives\\PFE - ING3 Mlamali\\DrumClassif...           9.458610  \n...                                                               ...  \nG:\\Shared drives\\PFE - ING3 Mlamali\\DrumClassif...           5.270034  \nG:\\Shared drives\\PFE - ING3 Mlamali\\DrumClassif...           5.105602  \nG:\\Shared drives\\PFE - ING3 Mlamali\\DrumClassif...           5.013560  \nG:\\Shared drives\\PFE - ING3 Mlamali\\DrumClassif...           5.536690  \nG:\\Shared drives\\PFE - ING3 Mlamali\\DrumClassif...           5.624652  \n\n[10305 rows x 100 columns]",
      "text/html": "<div>\n<style scoped>\n    .dataframe tbody tr th:only-of-type {\n        vertical-align: middle;\n    }\n\n    .dataframe tbody tr th {\n        vertical-align: top;\n    }\n\n    .dataframe thead th {\n        text-align: right;\n    }\n</style>\n<table border=\"1\" class=\"dataframe\">\n  <thead>\n    <tr style=\"text-align: right;\">\n      <th></th>\n      <th>file_name</th>\n      <th>file_extension</th>\n      <th>class</th>\n      <th>split</th>\n      <th>duration</th>\n      <th>log_sum_rms</th>\n      <th>log_mean_rms</th>\n      <th>log_max_rms</th>\n      <th>rms_log_std</th>\n      <th>rms_log_diff_mean</th>\n      <th>...</th>\n      <th>spec_cent_mean</th>\n      <th>spec_cent_std</th>\n      <th>spec_bw_mean</th>\n      <th>spec_bw_std</th>\n      <th>spec_flatness_mean</th>\n      <th>spec_flatness_std</th>\n      <th>spec_rolloff_mean</th>\n      <th>spec_rolloff_std</th>\n      <th>spec_contrast_mean</th>\n      <th>spec_contrast_std</th>\n    </tr>\n    <tr>\n      <th>file_path</th>\n      <th></th>\n      <th></th>\n      <th></th>\n      <th></th>\n      <th></th>\n      <th></th>\n      <th></th>\n      <th></th>\n      <th></th>\n      <th></th>\n      <th></th>\n      <th></th>\n      <th></th>\n      <th></th>\n      <th></th>\n      <th></th>\n      <th></th>\n      <th></th>\n      <th></th>\n      <th></th>\n      <th></th>\n    </tr>\n  </thead>\n  <tbody>\n    <tr>\n      <th>G:\\Shared drives\\PFE - ING3 Mlamali\\DrumClassifier - Sounds Dataset\\Conga\\KAMAL - Conga (1).wav</th>\n      <td>KAMAL - Conga (1)</td>\n      <td>.wav</td>\n      <td>Conga</td>\n      <td>train</td>\n      <td>0.221905</td>\n      <td>-36.586320</td>\n      <td>-1.829316</td>\n      <td>-0.739824</td>\n      <td>1.237576</td>\n      <td>0.269076</td>\n      <td>...</td>\n      <td>2771.188810</td>\n      <td>2460.565926</td>\n      <td>3513.523659</td>\n      <td>1573.305322</td>\n      <td>0.011382</td>\n      <td>0.027191</td>\n      <td>322.998047</td>\n      <td>135.162666</td>\n      <td>16.910134</td>\n      <td>6.121380</td>\n    </tr>\n    <tr>\n      <th>G:\\Shared drives\\PFE - ING3 Mlamali\\DrumClassifier - Sounds Dataset\\Conga\\KAMAL - Conga (2).wav</th>\n      <td>KAMAL - Conga (2)</td>\n      <td>.wav</td>\n      <td>Conga</td>\n      <td>test</td>\n      <td>0.075170</td>\n      <td>-5.535370</td>\n      <td>-0.790767</td>\n      <td>-0.269122</td>\n      <td>0.479259</td>\n      <td>0.253621</td>\n      <td>...</td>\n      <td>5363.585376</td>\n      <td>1400.401081</td>\n      <td>6281.286529</td>\n      <td>869.637190</td>\n      <td>0.006250</td>\n      <td>0.002458</td>\n      <td>461.425781</td>\n      <td>25.366763</td>\n      <td>13.454006</td>\n      <td>5.019219</td>\n    </tr>\n    <tr>\n      <th>G:\\Shared drives\\PFE - ING3 Mlamali\\DrumClassifier - Sounds Dataset\\Conga\\KAMAL - Conga (3).wav</th>\n      <td>KAMAL - Conga (3)</td>\n      <td>.wav</td>\n      <td>Conga</td>\n      <td>train</td>\n      <td>0.086417</td>\n      <td>-6.860503</td>\n      <td>-0.857563</td>\n      <td>-0.265424</td>\n      <td>0.504127</td>\n      <td>0.226923</td>\n      <td>...</td>\n      <td>1688.612761</td>\n      <td>562.744633</td>\n      <td>2684.366488</td>\n      <td>708.933286</td>\n      <td>0.000881</td>\n      <td>0.001732</td>\n      <td>406.439209</td>\n      <td>12.908702</td>\n      <td>15.434837</td>\n      <td>6.394566</td>\n    </tr>\n    <tr>\n      <th>G:\\Shared drives\\PFE - ING3 Mlamali\\DrumClassifier - Sounds Dataset\\Conga\\KAMAL - Conga (4).wav</th>\n      <td>KAMAL - Conga (4)</td>\n      <td>.wav</td>\n      <td>Conga</td>\n      <td>train</td>\n      <td>0.063810</td>\n      <td>-9.422018</td>\n      <td>-1.570336</td>\n      <td>-0.670527</td>\n      <td>0.721422</td>\n      <td>0.379499</td>\n      <td>...</td>\n      <td>3074.094357</td>\n      <td>675.055216</td>\n      <td>3106.637318</td>\n      <td>440.107261</td>\n      <td>0.005416</td>\n      <td>0.005467</td>\n      <td>509.619141</td>\n      <td>152.600726</td>\n      <td>15.496504</td>\n      <td>6.475287</td>\n    </tr>\n    <tr>\n      <th>G:\\Shared drives\\PFE - ING3 Mlamali\\DrumClassifier - Sounds Dataset\\Conga\\KAMAL - Conga (5).wav</th>\n      <td>KAMAL - Conga (5)</td>\n      <td>.wav</td>\n      <td>Conga</td>\n      <td>train</td>\n      <td>0.258231</td>\n      <td>-23.961166</td>\n      <td>-1.041790</td>\n      <td>-0.465791</td>\n      <td>0.610694</td>\n      <td>0.136201</td>\n      <td>...</td>\n      <td>3994.841115</td>\n      <td>1705.392297</td>\n      <td>4126.019895</td>\n      <td>665.609861</td>\n      <td>0.001800</td>\n      <td>0.003827</td>\n      <td>197.543733</td>\n      <td>17.565161</td>\n      <td>20.689341</td>\n      <td>9.458610</td>\n    </tr>\n    <tr>\n      <th>...</th>\n      <td>...</td>\n      <td>...</td>\n      <td>...</td>\n      <td>...</td>\n      <td>...</td>\n      <td>...</td>\n      <td>...</td>\n      <td>...</td>\n      <td>...</td>\n      <td>...</td>\n      <td>...</td>\n      <td>...</td>\n      <td>...</td>\n      <td>...</td>\n      <td>...</td>\n      <td>...</td>\n      <td>...</td>\n      <td>...</td>\n      <td>...</td>\n      <td>...</td>\n      <td>...</td>\n    </tr>\n    <tr>\n      <th>G:\\Shared drives\\PFE - ING3 Mlamali\\DrumClassifier - Sounds Dataset\\Shaker\\Mid Seed Shaker 9.aif</th>\n      <td>Mid Seed Shaker 9</td>\n      <td>.aif</td>\n      <td>Shaker</td>\n      <td>train</td>\n      <td>0.672880</td>\n      <td>-172.912320</td>\n      <td>-2.981247</td>\n      <td>-0.822484</td>\n      <td>1.529523</td>\n      <td>0.173720</td>\n      <td>...</td>\n      <td>8552.850170</td>\n      <td>1995.923836</td>\n      <td>4688.603735</td>\n      <td>1248.938149</td>\n      <td>0.154277</td>\n      <td>0.100315</td>\n      <td>3548.523370</td>\n      <td>1844.713284</td>\n      <td>13.433769</td>\n      <td>5.270034</td>\n    </tr>\n    <tr>\n      <th>G:\\Shared drives\\PFE - ING3 Mlamali\\DrumClassifier - Sounds Dataset\\Shaker\\Mid Seed Shaker 10.aif</th>\n      <td>Mid Seed Shaker 10</td>\n      <td>.aif</td>\n      <td>Shaker</td>\n      <td>train</td>\n      <td>0.929456</td>\n      <td>-273.343200</td>\n      <td>-3.374607</td>\n      <td>-0.728820</td>\n      <td>1.568116</td>\n      <td>0.125416</td>\n      <td>...</td>\n      <td>9341.562555</td>\n      <td>2284.763279</td>\n      <td>5029.911848</td>\n      <td>1418.301615</td>\n      <td>0.202218</td>\n      <td>0.129527</td>\n      <td>3778.412543</td>\n      <td>2690.802937</td>\n      <td>13.046287</td>\n      <td>5.105602</td>\n    </tr>\n    <tr>\n      <th>G:\\Shared drives\\PFE - ING3 Mlamali\\DrumClassifier - Sounds Dataset\\Shaker\\Mid Seed Shaker 11.aif</th>\n      <td>Mid Seed Shaker 11</td>\n      <td>.aif</td>\n      <td>Shaker</td>\n      <td>train</td>\n      <td>0.875011</td>\n      <td>-244.603880</td>\n      <td>-3.218472</td>\n      <td>-0.734002</td>\n      <td>1.524488</td>\n      <td>0.125789</td>\n      <td>...</td>\n      <td>9270.489384</td>\n      <td>1901.198482</td>\n      <td>5027.825233</td>\n      <td>1365.491043</td>\n      <td>0.198355</td>\n      <td>0.105156</td>\n      <td>3781.343801</td>\n      <td>2479.147790</td>\n      <td>12.827034</td>\n      <td>5.013560</td>\n    </tr>\n    <tr>\n      <th>G:\\Shared drives\\PFE - ING3 Mlamali\\DrumClassifier - Sounds Dataset\\Shaker\\Mid Seed Shaker 12.aif</th>\n      <td>Mid Seed Shaker 12</td>\n      <td>.aif</td>\n      <td>Shaker</td>\n      <td>train</td>\n      <td>0.875011</td>\n      <td>-246.982820</td>\n      <td>-3.249774</td>\n      <td>-0.720161</td>\n      <td>1.605657</td>\n      <td>0.150438</td>\n      <td>...</td>\n      <td>9135.135614</td>\n      <td>2430.710085</td>\n      <td>4792.150083</td>\n      <td>1420.777824</td>\n      <td>0.175519</td>\n      <td>0.128083</td>\n      <td>3836.593467</td>\n      <td>2557.461554</td>\n      <td>13.166101</td>\n      <td>5.536690</td>\n    </tr>\n    <tr>\n      <th>G:\\Shared drives\\PFE - ING3 Mlamali\\DrumClassifier - Sounds Dataset\\Shaker\\Mid Seed Shaker 13.aif</th>\n      <td>Mid Seed Shaker 13</td>\n      <td>.aif</td>\n      <td>Shaker</td>\n      <td>test</td>\n      <td>0.596576</td>\n      <td>-154.541100</td>\n      <td>-2.971944</td>\n      <td>-0.724052</td>\n      <td>1.567551</td>\n      <td>0.157930</td>\n      <td>...</td>\n      <td>8850.324918</td>\n      <td>2022.008011</td>\n      <td>4661.250245</td>\n      <td>1210.422452</td>\n      <td>0.162604</td>\n      <td>0.102460</td>\n      <td>3854.029259</td>\n      <td>2275.831355</td>\n      <td>13.113481</td>\n      <td>5.624652</td>\n    </tr>\n  </tbody>\n</table>\n<p>10305 rows × 100 columns</p>\n</div>"
     },
     "execution_count": 22,
     "metadata": {},
     "output_type": "execute_result"
    }
   ],
   "source": [
    "dataset_csv_path = os.path.join(SOUNDS_DATASET_PATH, 'dataset_features_extracted.csv')\n",
    "print(\"Dataset path: \", dataset_csv_path)\n",
    "df_drums = pd.read_csv(dataset_csv_path)\n",
    "\n",
    "df_drums = df_drums\n",
    "\n",
    "# set index to file_path\n",
    "df_drums.set_index('file_path', inplace=True)\n",
    "print(\"Dataset shape: \", df_drums.shape)\n",
    "df_drums"
   ],
   "metadata": {
    "collapsed": false,
    "ExecuteTime": {
     "start_time": "2023-04-24T17:59:41.930280Z",
     "end_time": "2023-04-24T17:59:42.221446Z"
    }
   }
  },
  {
   "cell_type": "code",
   "execution_count": 23,
   "outputs": [
    {
     "name": "stdout",
     "output_type": "stream",
     "text": [
      "<class 'pandas.core.frame.DataFrame'>\n",
      "Index: 10305 entries, G:\\Shared drives\\PFE - ING3 Mlamali\\DrumClassifier - Sounds Dataset\\Conga\\KAMAL - Conga (1).wav to G:\\Shared drives\\PFE - ING3 Mlamali\\DrumClassifier - Sounds Dataset\\Shaker\\Mid Seed Shaker 13.aif\n",
      "Data columns (total 100 columns):\n",
      " #   Column              Non-Null Count  Dtype  \n",
      "---  ------              --------------  -----  \n",
      " 0   file_name           10305 non-null  object \n",
      " 1   file_extension      10305 non-null  object \n",
      " 2   class               10305 non-null  object \n",
      " 3   split               10305 non-null  object \n",
      " 4   duration            10300 non-null  float64\n",
      " 5   log_sum_rms         10300 non-null  float64\n",
      " 6   log_mean_rms        10300 non-null  float64\n",
      " 7   log_max_rms         10300 non-null  float64\n",
      " 8   rms_log_std         10300 non-null  float64\n",
      " 9   rms_log_diff_mean   10300 non-null  float64\n",
      " 10  log_crest_factor    10300 non-null  float64\n",
      " 11  zcr_sum             10300 non-null  float64\n",
      " 12  zcr_mean            10300 non-null  float64\n",
      " 13  zcr_std             10300 non-null  float64\n",
      " 14  zcr_loudest_frame   10300 non-null  float64\n",
      " 15  temp_cent           10300 non-null  float64\n",
      " 16  attack_time         10300 non-null  float64\n",
      " 17  pitch               10300 non-null  float64\n",
      " 18  mfcc_mean_1         10300 non-null  float64\n",
      " 19  mfcc_mean_2         10300 non-null  float64\n",
      " 20  mfcc_mean_3         10300 non-null  float64\n",
      " 21  mfcc_mean_4         10300 non-null  float64\n",
      " 22  mfcc_mean_5         10300 non-null  float64\n",
      " 23  mfcc_mean_6         10300 non-null  float64\n",
      " 24  mfcc_mean_7         10300 non-null  float64\n",
      " 25  mfcc_mean_8         10300 non-null  float64\n",
      " 26  mfcc_mean_9         10300 non-null  float64\n",
      " 27  mfcc_mean_10        10300 non-null  float64\n",
      " 28  mfcc_mean_11        10300 non-null  float64\n",
      " 29  mfcc_mean_12        10300 non-null  float64\n",
      " 30  mfcc_std_1          10300 non-null  float64\n",
      " 31  mfcc_std_2          10300 non-null  float64\n",
      " 32  mfcc_std_3          10300 non-null  float64\n",
      " 33  mfcc_std_4          10300 non-null  float64\n",
      " 34  mfcc_std_5          10300 non-null  float64\n",
      " 35  mfcc_std_6          10300 non-null  float64\n",
      " 36  mfcc_std_7          10300 non-null  float64\n",
      " 37  mfcc_std_8          10300 non-null  float64\n",
      " 38  mfcc_std_9          10300 non-null  float64\n",
      " 39  mfcc_std_10         10300 non-null  float64\n",
      " 40  mfcc_std_11         10300 non-null  float64\n",
      " 41  mfcc_std_12         10300 non-null  float64\n",
      " 42  mfcc_max_1          10300 non-null  float64\n",
      " 43  mfcc_max_2          10300 non-null  float64\n",
      " 44  mfcc_max_3          10300 non-null  float64\n",
      " 45  mfcc_max_4          10300 non-null  float64\n",
      " 46  mfcc_max_5          10300 non-null  float64\n",
      " 47  mfcc_max_6          10300 non-null  float64\n",
      " 48  mfcc_max_7          10300 non-null  float64\n",
      " 49  mfcc_max_8          10300 non-null  float64\n",
      " 50  mfcc_max_9          10300 non-null  float64\n",
      " 51  mfcc_max_10         10300 non-null  float64\n",
      " 52  mfcc_max_11         10300 non-null  float64\n",
      " 53  mfcc_max_12         10300 non-null  float64\n",
      " 54  mfcc_min_1          10300 non-null  float64\n",
      " 55  mfcc_min_2          10300 non-null  float64\n",
      " 56  mfcc_min_3          10300 non-null  float64\n",
      " 57  mfcc_min_4          10300 non-null  float64\n",
      " 58  mfcc_min_5          10300 non-null  float64\n",
      " 59  mfcc_min_6          10300 non-null  float64\n",
      " 60  mfcc_min_7          10300 non-null  float64\n",
      " 61  mfcc_min_8          10300 non-null  float64\n",
      " 62  mfcc_min_9          10300 non-null  float64\n",
      " 63  mfcc_min_10         10300 non-null  float64\n",
      " 64  mfcc_min_11         10300 non-null  float64\n",
      " 65  mfcc_min_12         10300 non-null  float64\n",
      " 66  mfcc_skew_1         10300 non-null  float64\n",
      " 67  mfcc_skew_2         10300 non-null  float64\n",
      " 68  mfcc_skew_3         10300 non-null  float64\n",
      " 69  mfcc_skew_4         10300 non-null  float64\n",
      " 70  mfcc_skew_5         10300 non-null  float64\n",
      " 71  mfcc_skew_6         10300 non-null  float64\n",
      " 72  mfcc_skew_7         10300 non-null  float64\n",
      " 73  mfcc_skew_8         10300 non-null  float64\n",
      " 74  mfcc_skew_9         10300 non-null  float64\n",
      " 75  mfcc_skew_10        10300 non-null  float64\n",
      " 76  mfcc_skew_11        10300 non-null  float64\n",
      " 77  mfcc_skew_12        10300 non-null  float64\n",
      " 78  mfcc_kurtosis_1     10300 non-null  float64\n",
      " 79  mfcc_kurtosis_2     10300 non-null  float64\n",
      " 80  mfcc_kurtosis_3     10300 non-null  float64\n",
      " 81  mfcc_kurtosis_4     10300 non-null  float64\n",
      " 82  mfcc_kurtosis_5     10300 non-null  float64\n",
      " 83  mfcc_kurtosis_6     10300 non-null  float64\n",
      " 84  mfcc_kurtosis_7     10300 non-null  float64\n",
      " 85  mfcc_kurtosis_8     10300 non-null  float64\n",
      " 86  mfcc_kurtosis_9     10300 non-null  float64\n",
      " 87  mfcc_kurtosis_10    10300 non-null  float64\n",
      " 88  mfcc_kurtosis_11    10300 non-null  float64\n",
      " 89  mfcc_kurtosis_12    10300 non-null  float64\n",
      " 90  spec_cent_mean      10300 non-null  float64\n",
      " 91  spec_cent_std       10300 non-null  float64\n",
      " 92  spec_bw_mean        10300 non-null  float64\n",
      " 93  spec_bw_std         10300 non-null  float64\n",
      " 94  spec_flatness_mean  10300 non-null  float64\n",
      " 95  spec_flatness_std   10300 non-null  float64\n",
      " 96  spec_rolloff_mean   10300 non-null  float64\n",
      " 97  spec_rolloff_std    10300 non-null  float64\n",
      " 98  spec_contrast_mean  10300 non-null  float64\n",
      " 99  spec_contrast_std   10300 non-null  float64\n",
      "dtypes: float64(96), object(4)\n",
      "memory usage: 7.9+ MB\n"
     ]
    }
   ],
   "source": [
    "df_drums.info(verbose=2)"
   ],
   "metadata": {
    "collapsed": false,
    "ExecuteTime": {
     "start_time": "2023-04-24T17:59:42.192810Z",
     "end_time": "2023-04-24T17:59:42.247207Z"
    }
   }
  },
  {
   "cell_type": "code",
   "execution_count": 24,
   "outputs": [
    {
     "data": {
      "text/plain": "                      count         mean          std           min  \\\nduration            10300.0     1.505497     2.334286  4.643991e-02   \nlog_sum_rms         10300.0  -335.899485   703.517150 -1.970231e+04   \nlog_mean_rms        10300.0    -2.081146     1.048484 -1.622318e+01   \nlog_max_rms         10300.0    -0.461928     0.252767 -2.434703e+00   \nrms_log_std         10300.0     1.030937     0.560313  2.827795e-02   \n...                     ...          ...          ...           ...   \nspec_flatness_std   10300.0     0.087381     0.123430  5.068475e-11   \nspec_rolloff_mean   10300.0  1349.102279  1648.331682  6.258669e-01   \nspec_rolloff_std    10300.0   556.483660   814.097824  0.000000e+00   \nspec_contrast_mean  10300.0    15.721801     2.577595  7.243022e+00   \nspec_contrast_std   10300.0     6.592150     2.410713  7.046922e-01   \n\n                           25%         50%          75%           max  \nduration              0.295669    0.600317     1.699575     45.354331  \nlog_sum_rms        -314.865220 -102.666063   -38.765468     19.588580  \nlog_mean_rms         -2.701789   -1.947092    -1.310723      0.230454  \nlog_max_rms          -0.610201   -0.461931    -0.254773      0.436991  \nrms_log_std           0.659551    0.929494     1.304707      9.146350  \n...                        ...         ...          ...           ...  \nspec_flatness_std     0.004067    0.026495     0.129138      0.500000  \nspec_rolloff_mean   101.883765  742.100830  1975.289346  13330.109579  \nspec_rolloff_std     50.563365  272.314390   800.815404   8177.052036  \nspec_contrast_mean   14.115603   15.236456    16.752756     31.094175  \nspec_contrast_std     5.013140    6.026763     7.598058     23.587968  \n\n[96 rows x 8 columns]",
      "text/html": "<div>\n<style scoped>\n    .dataframe tbody tr th:only-of-type {\n        vertical-align: middle;\n    }\n\n    .dataframe tbody tr th {\n        vertical-align: top;\n    }\n\n    .dataframe thead th {\n        text-align: right;\n    }\n</style>\n<table border=\"1\" class=\"dataframe\">\n  <thead>\n    <tr style=\"text-align: right;\">\n      <th></th>\n      <th>count</th>\n      <th>mean</th>\n      <th>std</th>\n      <th>min</th>\n      <th>25%</th>\n      <th>50%</th>\n      <th>75%</th>\n      <th>max</th>\n    </tr>\n  </thead>\n  <tbody>\n    <tr>\n      <th>duration</th>\n      <td>10300.0</td>\n      <td>1.505497</td>\n      <td>2.334286</td>\n      <td>4.643991e-02</td>\n      <td>0.295669</td>\n      <td>0.600317</td>\n      <td>1.699575</td>\n      <td>45.354331</td>\n    </tr>\n    <tr>\n      <th>log_sum_rms</th>\n      <td>10300.0</td>\n      <td>-335.899485</td>\n      <td>703.517150</td>\n      <td>-1.970231e+04</td>\n      <td>-314.865220</td>\n      <td>-102.666063</td>\n      <td>-38.765468</td>\n      <td>19.588580</td>\n    </tr>\n    <tr>\n      <th>log_mean_rms</th>\n      <td>10300.0</td>\n      <td>-2.081146</td>\n      <td>1.048484</td>\n      <td>-1.622318e+01</td>\n      <td>-2.701789</td>\n      <td>-1.947092</td>\n      <td>-1.310723</td>\n      <td>0.230454</td>\n    </tr>\n    <tr>\n      <th>log_max_rms</th>\n      <td>10300.0</td>\n      <td>-0.461928</td>\n      <td>0.252767</td>\n      <td>-2.434703e+00</td>\n      <td>-0.610201</td>\n      <td>-0.461931</td>\n      <td>-0.254773</td>\n      <td>0.436991</td>\n    </tr>\n    <tr>\n      <th>rms_log_std</th>\n      <td>10300.0</td>\n      <td>1.030937</td>\n      <td>0.560313</td>\n      <td>2.827795e-02</td>\n      <td>0.659551</td>\n      <td>0.929494</td>\n      <td>1.304707</td>\n      <td>9.146350</td>\n    </tr>\n    <tr>\n      <th>...</th>\n      <td>...</td>\n      <td>...</td>\n      <td>...</td>\n      <td>...</td>\n      <td>...</td>\n      <td>...</td>\n      <td>...</td>\n      <td>...</td>\n    </tr>\n    <tr>\n      <th>spec_flatness_std</th>\n      <td>10300.0</td>\n      <td>0.087381</td>\n      <td>0.123430</td>\n      <td>5.068475e-11</td>\n      <td>0.004067</td>\n      <td>0.026495</td>\n      <td>0.129138</td>\n      <td>0.500000</td>\n    </tr>\n    <tr>\n      <th>spec_rolloff_mean</th>\n      <td>10300.0</td>\n      <td>1349.102279</td>\n      <td>1648.331682</td>\n      <td>6.258669e-01</td>\n      <td>101.883765</td>\n      <td>742.100830</td>\n      <td>1975.289346</td>\n      <td>13330.109579</td>\n    </tr>\n    <tr>\n      <th>spec_rolloff_std</th>\n      <td>10300.0</td>\n      <td>556.483660</td>\n      <td>814.097824</td>\n      <td>0.000000e+00</td>\n      <td>50.563365</td>\n      <td>272.314390</td>\n      <td>800.815404</td>\n      <td>8177.052036</td>\n    </tr>\n    <tr>\n      <th>spec_contrast_mean</th>\n      <td>10300.0</td>\n      <td>15.721801</td>\n      <td>2.577595</td>\n      <td>7.243022e+00</td>\n      <td>14.115603</td>\n      <td>15.236456</td>\n      <td>16.752756</td>\n      <td>31.094175</td>\n    </tr>\n    <tr>\n      <th>spec_contrast_std</th>\n      <td>10300.0</td>\n      <td>6.592150</td>\n      <td>2.410713</td>\n      <td>7.046922e-01</td>\n      <td>5.013140</td>\n      <td>6.026763</td>\n      <td>7.598058</td>\n      <td>23.587968</td>\n    </tr>\n  </tbody>\n</table>\n<p>96 rows × 8 columns</p>\n</div>"
     },
     "execution_count": 24,
     "metadata": {},
     "output_type": "execute_result"
    }
   ],
   "source": [
    "df_drums.describe().T"
   ],
   "metadata": {
    "collapsed": false,
    "ExecuteTime": {
     "start_time": "2023-04-24T17:59:42.231582Z",
     "end_time": "2023-04-24T17:59:42.587476Z"
    }
   }
  },
  {
   "cell_type": "markdown",
   "source": [
    "### Keep only float columns"
   ],
   "metadata": {
    "collapsed": false
   }
  },
  {
   "cell_type": "code",
   "execution_count": 25,
   "outputs": [
    {
     "data": {
      "text/plain": "['duration',\n 'log_sum_rms',\n 'log_mean_rms',\n 'log_max_rms',\n 'rms_log_std',\n 'rms_log_diff_mean',\n 'log_crest_factor',\n 'zcr_sum',\n 'zcr_mean',\n 'zcr_std',\n 'zcr_loudest_frame',\n 'temp_cent',\n 'attack_time',\n 'pitch',\n 'mfcc_mean_1',\n 'mfcc_mean_2',\n 'mfcc_mean_3',\n 'mfcc_mean_4',\n 'mfcc_mean_5',\n 'mfcc_mean_6',\n 'mfcc_mean_7',\n 'mfcc_mean_8',\n 'mfcc_mean_9',\n 'mfcc_mean_10',\n 'mfcc_mean_11',\n 'mfcc_mean_12',\n 'mfcc_std_1',\n 'mfcc_std_2',\n 'mfcc_std_3',\n 'mfcc_std_4',\n 'mfcc_std_5',\n 'mfcc_std_6',\n 'mfcc_std_7',\n 'mfcc_std_8',\n 'mfcc_std_9',\n 'mfcc_std_10',\n 'mfcc_std_11',\n 'mfcc_std_12',\n 'mfcc_max_1',\n 'mfcc_max_2',\n 'mfcc_max_3',\n 'mfcc_max_4',\n 'mfcc_max_5',\n 'mfcc_max_6',\n 'mfcc_max_7',\n 'mfcc_max_8',\n 'mfcc_max_9',\n 'mfcc_max_10',\n 'mfcc_max_11',\n 'mfcc_max_12',\n 'mfcc_min_1',\n 'mfcc_min_2',\n 'mfcc_min_3',\n 'mfcc_min_4',\n 'mfcc_min_5',\n 'mfcc_min_6',\n 'mfcc_min_7',\n 'mfcc_min_8',\n 'mfcc_min_9',\n 'mfcc_min_10',\n 'mfcc_min_11',\n 'mfcc_min_12',\n 'mfcc_skew_1',\n 'mfcc_skew_2',\n 'mfcc_skew_3',\n 'mfcc_skew_4',\n 'mfcc_skew_5',\n 'mfcc_skew_6',\n 'mfcc_skew_7',\n 'mfcc_skew_8',\n 'mfcc_skew_9',\n 'mfcc_skew_10',\n 'mfcc_skew_11',\n 'mfcc_skew_12',\n 'mfcc_kurtosis_1',\n 'mfcc_kurtosis_2',\n 'mfcc_kurtosis_3',\n 'mfcc_kurtosis_4',\n 'mfcc_kurtosis_5',\n 'mfcc_kurtosis_6',\n 'mfcc_kurtosis_7',\n 'mfcc_kurtosis_8',\n 'mfcc_kurtosis_9',\n 'mfcc_kurtosis_10',\n 'mfcc_kurtosis_11',\n 'mfcc_kurtosis_12',\n 'spec_cent_mean',\n 'spec_cent_std',\n 'spec_bw_mean',\n 'spec_bw_std',\n 'spec_flatness_mean',\n 'spec_flatness_std',\n 'spec_rolloff_mean',\n 'spec_rolloff_std',\n 'spec_contrast_mean',\n 'spec_contrast_std']"
     },
     "execution_count": 25,
     "metadata": {},
     "output_type": "execute_result"
    }
   ],
   "source": [
    "# get columns names with float type use .info()\n",
    "columns_float = [k for k, v in df_drums.dtypes.to_dict().items() if v == 'float64' or v == 'int64']\n",
    "columns_float"
   ],
   "metadata": {
    "collapsed": false,
    "ExecuteTime": {
     "start_time": "2023-04-24T17:59:42.418808Z",
     "end_time": "2023-04-24T17:59:42.587476Z"
    }
   }
  },
  {
   "cell_type": "markdown",
   "source": [
    "## Delete Full of NaN rows"
   ],
   "metadata": {
    "collapsed": false
   }
  },
  {
   "cell_type": "code",
   "execution_count": 26,
   "outputs": [
    {
     "data": {
      "text/plain": "Empty DataFrame\nColumns: [file_name, file_extension, class, split, duration, log_sum_rms, log_mean_rms, log_max_rms, rms_log_std, rms_log_diff_mean, log_crest_factor, zcr_sum, zcr_mean, zcr_std, zcr_loudest_frame, temp_cent, attack_time, pitch, mfcc_mean_1, mfcc_mean_2, mfcc_mean_3, mfcc_mean_4, mfcc_mean_5, mfcc_mean_6, mfcc_mean_7, mfcc_mean_8, mfcc_mean_9, mfcc_mean_10, mfcc_mean_11, mfcc_mean_12, mfcc_std_1, mfcc_std_2, mfcc_std_3, mfcc_std_4, mfcc_std_5, mfcc_std_6, mfcc_std_7, mfcc_std_8, mfcc_std_9, mfcc_std_10, mfcc_std_11, mfcc_std_12, mfcc_max_1, mfcc_max_2, mfcc_max_3, mfcc_max_4, mfcc_max_5, mfcc_max_6, mfcc_max_7, mfcc_max_8, mfcc_max_9, mfcc_max_10, mfcc_max_11, mfcc_max_12, mfcc_min_1, mfcc_min_2, mfcc_min_3, mfcc_min_4, mfcc_min_5, mfcc_min_6, mfcc_min_7, mfcc_min_8, mfcc_min_9, mfcc_min_10, mfcc_min_11, mfcc_min_12, mfcc_skew_1, mfcc_skew_2, mfcc_skew_3, mfcc_skew_4, mfcc_skew_5, mfcc_skew_6, mfcc_skew_7, mfcc_skew_8, mfcc_skew_9, mfcc_skew_10, mfcc_skew_11, mfcc_skew_12, mfcc_kurtosis_1, mfcc_kurtosis_2, mfcc_kurtosis_3, mfcc_kurtosis_4, mfcc_kurtosis_5, mfcc_kurtosis_6, mfcc_kurtosis_7, mfcc_kurtosis_8, mfcc_kurtosis_9, mfcc_kurtosis_10, mfcc_kurtosis_11, mfcc_kurtosis_12, spec_cent_mean, spec_cent_std, spec_bw_mean, spec_bw_std, spec_flatness_mean, spec_flatness_std, spec_rolloff_mean, spec_rolloff_std, spec_contrast_mean, spec_contrast_std]\nIndex: []\n\n[0 rows x 100 columns]",
      "text/html": "<div>\n<style scoped>\n    .dataframe tbody tr th:only-of-type {\n        vertical-align: middle;\n    }\n\n    .dataframe tbody tr th {\n        vertical-align: top;\n    }\n\n    .dataframe thead th {\n        text-align: right;\n    }\n</style>\n<table border=\"1\" class=\"dataframe\">\n  <thead>\n    <tr style=\"text-align: right;\">\n      <th></th>\n      <th>file_name</th>\n      <th>file_extension</th>\n      <th>class</th>\n      <th>split</th>\n      <th>duration</th>\n      <th>log_sum_rms</th>\n      <th>log_mean_rms</th>\n      <th>log_max_rms</th>\n      <th>rms_log_std</th>\n      <th>rms_log_diff_mean</th>\n      <th>...</th>\n      <th>spec_cent_mean</th>\n      <th>spec_cent_std</th>\n      <th>spec_bw_mean</th>\n      <th>spec_bw_std</th>\n      <th>spec_flatness_mean</th>\n      <th>spec_flatness_std</th>\n      <th>spec_rolloff_mean</th>\n      <th>spec_rolloff_std</th>\n      <th>spec_contrast_mean</th>\n      <th>spec_contrast_std</th>\n    </tr>\n    <tr>\n      <th>file_path</th>\n      <th></th>\n      <th></th>\n      <th></th>\n      <th></th>\n      <th></th>\n      <th></th>\n      <th></th>\n      <th></th>\n      <th></th>\n      <th></th>\n      <th></th>\n      <th></th>\n      <th></th>\n      <th></th>\n      <th></th>\n      <th></th>\n      <th></th>\n      <th></th>\n      <th></th>\n      <th></th>\n      <th></th>\n    </tr>\n  </thead>\n  <tbody>\n  </tbody>\n</table>\n<p>0 rows × 100 columns</p>\n</div>"
     },
     "execution_count": 26,
     "metadata": {},
     "output_type": "execute_result"
    }
   ],
   "source": [
    "# get rows with all NaN values\n",
    "df_drums[df_drums.isna().all(axis=1)]"
   ],
   "metadata": {
    "collapsed": false,
    "ExecuteTime": {
     "start_time": "2023-04-24T17:59:42.433334Z",
     "end_time": "2023-04-24T17:59:42.587476Z"
    }
   }
  },
  {
   "cell_type": "code",
   "execution_count": 27,
   "outputs": [
    {
     "data": {
      "text/plain": "                                                             file_name  \\\nfile_path                                                                \nG:\\Shared drives\\PFE - ING3 Mlamali\\DrumClassif...   KAMAL - Conga (1)   \nG:\\Shared drives\\PFE - ING3 Mlamali\\DrumClassif...   KAMAL - Conga (2)   \nG:\\Shared drives\\PFE - ING3 Mlamali\\DrumClassif...   KAMAL - Conga (3)   \nG:\\Shared drives\\PFE - ING3 Mlamali\\DrumClassif...   KAMAL - Conga (4)   \nG:\\Shared drives\\PFE - ING3 Mlamali\\DrumClassif...   KAMAL - Conga (5)   \n...                                                                ...   \nG:\\Shared drives\\PFE - ING3 Mlamali\\DrumClassif...   Mid Seed Shaker 9   \nG:\\Shared drives\\PFE - ING3 Mlamali\\DrumClassif...  Mid Seed Shaker 10   \nG:\\Shared drives\\PFE - ING3 Mlamali\\DrumClassif...  Mid Seed Shaker 11   \nG:\\Shared drives\\PFE - ING3 Mlamali\\DrumClassif...  Mid Seed Shaker 12   \nG:\\Shared drives\\PFE - ING3 Mlamali\\DrumClassif...  Mid Seed Shaker 13   \n\n                                                   file_extension   class  \\\nfile_path                                                                   \nG:\\Shared drives\\PFE - ING3 Mlamali\\DrumClassif...           .wav   Conga   \nG:\\Shared drives\\PFE - ING3 Mlamali\\DrumClassif...           .wav   Conga   \nG:\\Shared drives\\PFE - ING3 Mlamali\\DrumClassif...           .wav   Conga   \nG:\\Shared drives\\PFE - ING3 Mlamali\\DrumClassif...           .wav   Conga   \nG:\\Shared drives\\PFE - ING3 Mlamali\\DrumClassif...           .wav   Conga   \n...                                                           ...     ...   \nG:\\Shared drives\\PFE - ING3 Mlamali\\DrumClassif...           .aif  Shaker   \nG:\\Shared drives\\PFE - ING3 Mlamali\\DrumClassif...           .aif  Shaker   \nG:\\Shared drives\\PFE - ING3 Mlamali\\DrumClassif...           .aif  Shaker   \nG:\\Shared drives\\PFE - ING3 Mlamali\\DrumClassif...           .aif  Shaker   \nG:\\Shared drives\\PFE - ING3 Mlamali\\DrumClassif...           .aif  Shaker   \n\n                                                    split  duration  \\\nfile_path                                                             \nG:\\Shared drives\\PFE - ING3 Mlamali\\DrumClassif...  train  0.221905   \nG:\\Shared drives\\PFE - ING3 Mlamali\\DrumClassif...   test  0.075170   \nG:\\Shared drives\\PFE - ING3 Mlamali\\DrumClassif...  train  0.086417   \nG:\\Shared drives\\PFE - ING3 Mlamali\\DrumClassif...  train  0.063810   \nG:\\Shared drives\\PFE - ING3 Mlamali\\DrumClassif...  train  0.258231   \n...                                                   ...       ...   \nG:\\Shared drives\\PFE - ING3 Mlamali\\DrumClassif...  train  0.672880   \nG:\\Shared drives\\PFE - ING3 Mlamali\\DrumClassif...  train  0.929456   \nG:\\Shared drives\\PFE - ING3 Mlamali\\DrumClassif...  train  0.875011   \nG:\\Shared drives\\PFE - ING3 Mlamali\\DrumClassif...  train  0.875011   \nG:\\Shared drives\\PFE - ING3 Mlamali\\DrumClassif...   test  0.596576   \n\n                                                    log_sum_rms  log_mean_rms  \\\nfile_path                                                                       \nG:\\Shared drives\\PFE - ING3 Mlamali\\DrumClassif...   -36.586320     -1.829316   \nG:\\Shared drives\\PFE - ING3 Mlamali\\DrumClassif...    -5.535370     -0.790767   \nG:\\Shared drives\\PFE - ING3 Mlamali\\DrumClassif...    -6.860503     -0.857563   \nG:\\Shared drives\\PFE - ING3 Mlamali\\DrumClassif...    -9.422018     -1.570336   \nG:\\Shared drives\\PFE - ING3 Mlamali\\DrumClassif...   -23.961166     -1.041790   \n...                                                         ...           ...   \nG:\\Shared drives\\PFE - ING3 Mlamali\\DrumClassif...  -172.912320     -2.981247   \nG:\\Shared drives\\PFE - ING3 Mlamali\\DrumClassif...  -273.343200     -3.374607   \nG:\\Shared drives\\PFE - ING3 Mlamali\\DrumClassif...  -244.603880     -3.218472   \nG:\\Shared drives\\PFE - ING3 Mlamali\\DrumClassif...  -246.982820     -3.249774   \nG:\\Shared drives\\PFE - ING3 Mlamali\\DrumClassif...  -154.541100     -2.971944   \n\n                                                    log_max_rms  rms_log_std  \\\nfile_path                                                                      \nG:\\Shared drives\\PFE - ING3 Mlamali\\DrumClassif...    -0.739824     1.237576   \nG:\\Shared drives\\PFE - ING3 Mlamali\\DrumClassif...    -0.269122     0.479259   \nG:\\Shared drives\\PFE - ING3 Mlamali\\DrumClassif...    -0.265424     0.504127   \nG:\\Shared drives\\PFE - ING3 Mlamali\\DrumClassif...    -0.670527     0.721422   \nG:\\Shared drives\\PFE - ING3 Mlamali\\DrumClassif...    -0.465791     0.610694   \n...                                                         ...          ...   \nG:\\Shared drives\\PFE - ING3 Mlamali\\DrumClassif...    -0.822484     1.529523   \nG:\\Shared drives\\PFE - ING3 Mlamali\\DrumClassif...    -0.728820     1.568116   \nG:\\Shared drives\\PFE - ING3 Mlamali\\DrumClassif...    -0.734002     1.524488   \nG:\\Shared drives\\PFE - ING3 Mlamali\\DrumClassif...    -0.720161     1.605657   \nG:\\Shared drives\\PFE - ING3 Mlamali\\DrumClassif...    -0.724052     1.567551   \n\n                                                    rms_log_diff_mean  ...  \\\nfile_path                                                              ...   \nG:\\Shared drives\\PFE - ING3 Mlamali\\DrumClassif...           0.269076  ...   \nG:\\Shared drives\\PFE - ING3 Mlamali\\DrumClassif...           0.253621  ...   \nG:\\Shared drives\\PFE - ING3 Mlamali\\DrumClassif...           0.226923  ...   \nG:\\Shared drives\\PFE - ING3 Mlamali\\DrumClassif...           0.379499  ...   \nG:\\Shared drives\\PFE - ING3 Mlamali\\DrumClassif...           0.136201  ...   \n...                                                               ...  ...   \nG:\\Shared drives\\PFE - ING3 Mlamali\\DrumClassif...           0.173720  ...   \nG:\\Shared drives\\PFE - ING3 Mlamali\\DrumClassif...           0.125416  ...   \nG:\\Shared drives\\PFE - ING3 Mlamali\\DrumClassif...           0.125789  ...   \nG:\\Shared drives\\PFE - ING3 Mlamali\\DrumClassif...           0.150438  ...   \nG:\\Shared drives\\PFE - ING3 Mlamali\\DrumClassif...           0.157930  ...   \n\n                                                    spec_cent_mean  \\\nfile_path                                                            \nG:\\Shared drives\\PFE - ING3 Mlamali\\DrumClassif...     2771.188810   \nG:\\Shared drives\\PFE - ING3 Mlamali\\DrumClassif...     5363.585376   \nG:\\Shared drives\\PFE - ING3 Mlamali\\DrumClassif...     1688.612761   \nG:\\Shared drives\\PFE - ING3 Mlamali\\DrumClassif...     3074.094357   \nG:\\Shared drives\\PFE - ING3 Mlamali\\DrumClassif...     3994.841115   \n...                                                            ...   \nG:\\Shared drives\\PFE - ING3 Mlamali\\DrumClassif...     8552.850170   \nG:\\Shared drives\\PFE - ING3 Mlamali\\DrumClassif...     9341.562555   \nG:\\Shared drives\\PFE - ING3 Mlamali\\DrumClassif...     9270.489384   \nG:\\Shared drives\\PFE - ING3 Mlamali\\DrumClassif...     9135.135614   \nG:\\Shared drives\\PFE - ING3 Mlamali\\DrumClassif...     8850.324918   \n\n                                                    spec_cent_std  \\\nfile_path                                                           \nG:\\Shared drives\\PFE - ING3 Mlamali\\DrumClassif...    2460.565926   \nG:\\Shared drives\\PFE - ING3 Mlamali\\DrumClassif...    1400.401081   \nG:\\Shared drives\\PFE - ING3 Mlamali\\DrumClassif...     562.744633   \nG:\\Shared drives\\PFE - ING3 Mlamali\\DrumClassif...     675.055216   \nG:\\Shared drives\\PFE - ING3 Mlamali\\DrumClassif...    1705.392297   \n...                                                           ...   \nG:\\Shared drives\\PFE - ING3 Mlamali\\DrumClassif...    1995.923836   \nG:\\Shared drives\\PFE - ING3 Mlamali\\DrumClassif...    2284.763279   \nG:\\Shared drives\\PFE - ING3 Mlamali\\DrumClassif...    1901.198482   \nG:\\Shared drives\\PFE - ING3 Mlamali\\DrumClassif...    2430.710085   \nG:\\Shared drives\\PFE - ING3 Mlamali\\DrumClassif...    2022.008011   \n\n                                                    spec_bw_mean  spec_bw_std  \\\nfile_path                                                                       \nG:\\Shared drives\\PFE - ING3 Mlamali\\DrumClassif...   3513.523659  1573.305322   \nG:\\Shared drives\\PFE - ING3 Mlamali\\DrumClassif...   6281.286529   869.637190   \nG:\\Shared drives\\PFE - ING3 Mlamali\\DrumClassif...   2684.366488   708.933286   \nG:\\Shared drives\\PFE - ING3 Mlamali\\DrumClassif...   3106.637318   440.107261   \nG:\\Shared drives\\PFE - ING3 Mlamali\\DrumClassif...   4126.019895   665.609861   \n...                                                          ...          ...   \nG:\\Shared drives\\PFE - ING3 Mlamali\\DrumClassif...   4688.603735  1248.938149   \nG:\\Shared drives\\PFE - ING3 Mlamali\\DrumClassif...   5029.911848  1418.301615   \nG:\\Shared drives\\PFE - ING3 Mlamali\\DrumClassif...   5027.825233  1365.491043   \nG:\\Shared drives\\PFE - ING3 Mlamali\\DrumClassif...   4792.150083  1420.777824   \nG:\\Shared drives\\PFE - ING3 Mlamali\\DrumClassif...   4661.250245  1210.422452   \n\n                                                    spec_flatness_mean  \\\nfile_path                                                                \nG:\\Shared drives\\PFE - ING3 Mlamali\\DrumClassif...            0.011382   \nG:\\Shared drives\\PFE - ING3 Mlamali\\DrumClassif...            0.006250   \nG:\\Shared drives\\PFE - ING3 Mlamali\\DrumClassif...            0.000881   \nG:\\Shared drives\\PFE - ING3 Mlamali\\DrumClassif...            0.005416   \nG:\\Shared drives\\PFE - ING3 Mlamali\\DrumClassif...            0.001800   \n...                                                                ...   \nG:\\Shared drives\\PFE - ING3 Mlamali\\DrumClassif...            0.154277   \nG:\\Shared drives\\PFE - ING3 Mlamali\\DrumClassif...            0.202218   \nG:\\Shared drives\\PFE - ING3 Mlamali\\DrumClassif...            0.198355   \nG:\\Shared drives\\PFE - ING3 Mlamali\\DrumClassif...            0.175519   \nG:\\Shared drives\\PFE - ING3 Mlamali\\DrumClassif...            0.162604   \n\n                                                    spec_flatness_std  \\\nfile_path                                                               \nG:\\Shared drives\\PFE - ING3 Mlamali\\DrumClassif...           0.027191   \nG:\\Shared drives\\PFE - ING3 Mlamali\\DrumClassif...           0.002458   \nG:\\Shared drives\\PFE - ING3 Mlamali\\DrumClassif...           0.001732   \nG:\\Shared drives\\PFE - ING3 Mlamali\\DrumClassif...           0.005467   \nG:\\Shared drives\\PFE - ING3 Mlamali\\DrumClassif...           0.003827   \n...                                                               ...   \nG:\\Shared drives\\PFE - ING3 Mlamali\\DrumClassif...           0.100315   \nG:\\Shared drives\\PFE - ING3 Mlamali\\DrumClassif...           0.129527   \nG:\\Shared drives\\PFE - ING3 Mlamali\\DrumClassif...           0.105156   \nG:\\Shared drives\\PFE - ING3 Mlamali\\DrumClassif...           0.128083   \nG:\\Shared drives\\PFE - ING3 Mlamali\\DrumClassif...           0.102460   \n\n                                                    spec_rolloff_mean  \\\nfile_path                                                               \nG:\\Shared drives\\PFE - ING3 Mlamali\\DrumClassif...         322.998047   \nG:\\Shared drives\\PFE - ING3 Mlamali\\DrumClassif...         461.425781   \nG:\\Shared drives\\PFE - ING3 Mlamali\\DrumClassif...         406.439209   \nG:\\Shared drives\\PFE - ING3 Mlamali\\DrumClassif...         509.619141   \nG:\\Shared drives\\PFE - ING3 Mlamali\\DrumClassif...         197.543733   \n...                                                               ...   \nG:\\Shared drives\\PFE - ING3 Mlamali\\DrumClassif...        3548.523370   \nG:\\Shared drives\\PFE - ING3 Mlamali\\DrumClassif...        3778.412543   \nG:\\Shared drives\\PFE - ING3 Mlamali\\DrumClassif...        3781.343801   \nG:\\Shared drives\\PFE - ING3 Mlamali\\DrumClassif...        3836.593467   \nG:\\Shared drives\\PFE - ING3 Mlamali\\DrumClassif...        3854.029259   \n\n                                                    spec_rolloff_std  \\\nfile_path                                                              \nG:\\Shared drives\\PFE - ING3 Mlamali\\DrumClassif...        135.162666   \nG:\\Shared drives\\PFE - ING3 Mlamali\\DrumClassif...         25.366763   \nG:\\Shared drives\\PFE - ING3 Mlamali\\DrumClassif...         12.908702   \nG:\\Shared drives\\PFE - ING3 Mlamali\\DrumClassif...        152.600726   \nG:\\Shared drives\\PFE - ING3 Mlamali\\DrumClassif...         17.565161   \n...                                                              ...   \nG:\\Shared drives\\PFE - ING3 Mlamali\\DrumClassif...       1844.713284   \nG:\\Shared drives\\PFE - ING3 Mlamali\\DrumClassif...       2690.802937   \nG:\\Shared drives\\PFE - ING3 Mlamali\\DrumClassif...       2479.147790   \nG:\\Shared drives\\PFE - ING3 Mlamali\\DrumClassif...       2557.461554   \nG:\\Shared drives\\PFE - ING3 Mlamali\\DrumClassif...       2275.831355   \n\n                                                    spec_contrast_mean  \\\nfile_path                                                                \nG:\\Shared drives\\PFE - ING3 Mlamali\\DrumClassif...           16.910134   \nG:\\Shared drives\\PFE - ING3 Mlamali\\DrumClassif...           13.454006   \nG:\\Shared drives\\PFE - ING3 Mlamali\\DrumClassif...           15.434837   \nG:\\Shared drives\\PFE - ING3 Mlamali\\DrumClassif...           15.496504   \nG:\\Shared drives\\PFE - ING3 Mlamali\\DrumClassif...           20.689341   \n...                                                                ...   \nG:\\Shared drives\\PFE - ING3 Mlamali\\DrumClassif...           13.433769   \nG:\\Shared drives\\PFE - ING3 Mlamali\\DrumClassif...           13.046287   \nG:\\Shared drives\\PFE - ING3 Mlamali\\DrumClassif...           12.827034   \nG:\\Shared drives\\PFE - ING3 Mlamali\\DrumClassif...           13.166101   \nG:\\Shared drives\\PFE - ING3 Mlamali\\DrumClassif...           13.113481   \n\n                                                    spec_contrast_std  \nfile_path                                                              \nG:\\Shared drives\\PFE - ING3 Mlamali\\DrumClassif...           6.121380  \nG:\\Shared drives\\PFE - ING3 Mlamali\\DrumClassif...           5.019219  \nG:\\Shared drives\\PFE - ING3 Mlamali\\DrumClassif...           6.394566  \nG:\\Shared drives\\PFE - ING3 Mlamali\\DrumClassif...           6.475287  \nG:\\Shared drives\\PFE - ING3 Mlamali\\DrumClassif...           9.458610  \n...                                                               ...  \nG:\\Shared drives\\PFE - ING3 Mlamali\\DrumClassif...           5.270034  \nG:\\Shared drives\\PFE - ING3 Mlamali\\DrumClassif...           5.105602  \nG:\\Shared drives\\PFE - ING3 Mlamali\\DrumClassif...           5.013560  \nG:\\Shared drives\\PFE - ING3 Mlamali\\DrumClassif...           5.536690  \nG:\\Shared drives\\PFE - ING3 Mlamali\\DrumClassif...           5.624652  \n\n[10300 rows x 100 columns]",
      "text/html": "<div>\n<style scoped>\n    .dataframe tbody tr th:only-of-type {\n        vertical-align: middle;\n    }\n\n    .dataframe tbody tr th {\n        vertical-align: top;\n    }\n\n    .dataframe thead th {\n        text-align: right;\n    }\n</style>\n<table border=\"1\" class=\"dataframe\">\n  <thead>\n    <tr style=\"text-align: right;\">\n      <th></th>\n      <th>file_name</th>\n      <th>file_extension</th>\n      <th>class</th>\n      <th>split</th>\n      <th>duration</th>\n      <th>log_sum_rms</th>\n      <th>log_mean_rms</th>\n      <th>log_max_rms</th>\n      <th>rms_log_std</th>\n      <th>rms_log_diff_mean</th>\n      <th>...</th>\n      <th>spec_cent_mean</th>\n      <th>spec_cent_std</th>\n      <th>spec_bw_mean</th>\n      <th>spec_bw_std</th>\n      <th>spec_flatness_mean</th>\n      <th>spec_flatness_std</th>\n      <th>spec_rolloff_mean</th>\n      <th>spec_rolloff_std</th>\n      <th>spec_contrast_mean</th>\n      <th>spec_contrast_std</th>\n    </tr>\n    <tr>\n      <th>file_path</th>\n      <th></th>\n      <th></th>\n      <th></th>\n      <th></th>\n      <th></th>\n      <th></th>\n      <th></th>\n      <th></th>\n      <th></th>\n      <th></th>\n      <th></th>\n      <th></th>\n      <th></th>\n      <th></th>\n      <th></th>\n      <th></th>\n      <th></th>\n      <th></th>\n      <th></th>\n      <th></th>\n      <th></th>\n    </tr>\n  </thead>\n  <tbody>\n    <tr>\n      <th>G:\\Shared drives\\PFE - ING3 Mlamali\\DrumClassifier - Sounds Dataset\\Conga\\KAMAL - Conga (1).wav</th>\n      <td>KAMAL - Conga (1)</td>\n      <td>.wav</td>\n      <td>Conga</td>\n      <td>train</td>\n      <td>0.221905</td>\n      <td>-36.586320</td>\n      <td>-1.829316</td>\n      <td>-0.739824</td>\n      <td>1.237576</td>\n      <td>0.269076</td>\n      <td>...</td>\n      <td>2771.188810</td>\n      <td>2460.565926</td>\n      <td>3513.523659</td>\n      <td>1573.305322</td>\n      <td>0.011382</td>\n      <td>0.027191</td>\n      <td>322.998047</td>\n      <td>135.162666</td>\n      <td>16.910134</td>\n      <td>6.121380</td>\n    </tr>\n    <tr>\n      <th>G:\\Shared drives\\PFE - ING3 Mlamali\\DrumClassifier - Sounds Dataset\\Conga\\KAMAL - Conga (2).wav</th>\n      <td>KAMAL - Conga (2)</td>\n      <td>.wav</td>\n      <td>Conga</td>\n      <td>test</td>\n      <td>0.075170</td>\n      <td>-5.535370</td>\n      <td>-0.790767</td>\n      <td>-0.269122</td>\n      <td>0.479259</td>\n      <td>0.253621</td>\n      <td>...</td>\n      <td>5363.585376</td>\n      <td>1400.401081</td>\n      <td>6281.286529</td>\n      <td>869.637190</td>\n      <td>0.006250</td>\n      <td>0.002458</td>\n      <td>461.425781</td>\n      <td>25.366763</td>\n      <td>13.454006</td>\n      <td>5.019219</td>\n    </tr>\n    <tr>\n      <th>G:\\Shared drives\\PFE - ING3 Mlamali\\DrumClassifier - Sounds Dataset\\Conga\\KAMAL - Conga (3).wav</th>\n      <td>KAMAL - Conga (3)</td>\n      <td>.wav</td>\n      <td>Conga</td>\n      <td>train</td>\n      <td>0.086417</td>\n      <td>-6.860503</td>\n      <td>-0.857563</td>\n      <td>-0.265424</td>\n      <td>0.504127</td>\n      <td>0.226923</td>\n      <td>...</td>\n      <td>1688.612761</td>\n      <td>562.744633</td>\n      <td>2684.366488</td>\n      <td>708.933286</td>\n      <td>0.000881</td>\n      <td>0.001732</td>\n      <td>406.439209</td>\n      <td>12.908702</td>\n      <td>15.434837</td>\n      <td>6.394566</td>\n    </tr>\n    <tr>\n      <th>G:\\Shared drives\\PFE - ING3 Mlamali\\DrumClassifier - Sounds Dataset\\Conga\\KAMAL - Conga (4).wav</th>\n      <td>KAMAL - Conga (4)</td>\n      <td>.wav</td>\n      <td>Conga</td>\n      <td>train</td>\n      <td>0.063810</td>\n      <td>-9.422018</td>\n      <td>-1.570336</td>\n      <td>-0.670527</td>\n      <td>0.721422</td>\n      <td>0.379499</td>\n      <td>...</td>\n      <td>3074.094357</td>\n      <td>675.055216</td>\n      <td>3106.637318</td>\n      <td>440.107261</td>\n      <td>0.005416</td>\n      <td>0.005467</td>\n      <td>509.619141</td>\n      <td>152.600726</td>\n      <td>15.496504</td>\n      <td>6.475287</td>\n    </tr>\n    <tr>\n      <th>G:\\Shared drives\\PFE - ING3 Mlamali\\DrumClassifier - Sounds Dataset\\Conga\\KAMAL - Conga (5).wav</th>\n      <td>KAMAL - Conga (5)</td>\n      <td>.wav</td>\n      <td>Conga</td>\n      <td>train</td>\n      <td>0.258231</td>\n      <td>-23.961166</td>\n      <td>-1.041790</td>\n      <td>-0.465791</td>\n      <td>0.610694</td>\n      <td>0.136201</td>\n      <td>...</td>\n      <td>3994.841115</td>\n      <td>1705.392297</td>\n      <td>4126.019895</td>\n      <td>665.609861</td>\n      <td>0.001800</td>\n      <td>0.003827</td>\n      <td>197.543733</td>\n      <td>17.565161</td>\n      <td>20.689341</td>\n      <td>9.458610</td>\n    </tr>\n    <tr>\n      <th>...</th>\n      <td>...</td>\n      <td>...</td>\n      <td>...</td>\n      <td>...</td>\n      <td>...</td>\n      <td>...</td>\n      <td>...</td>\n      <td>...</td>\n      <td>...</td>\n      <td>...</td>\n      <td>...</td>\n      <td>...</td>\n      <td>...</td>\n      <td>...</td>\n      <td>...</td>\n      <td>...</td>\n      <td>...</td>\n      <td>...</td>\n      <td>...</td>\n      <td>...</td>\n      <td>...</td>\n    </tr>\n    <tr>\n      <th>G:\\Shared drives\\PFE - ING3 Mlamali\\DrumClassifier - Sounds Dataset\\Shaker\\Mid Seed Shaker 9.aif</th>\n      <td>Mid Seed Shaker 9</td>\n      <td>.aif</td>\n      <td>Shaker</td>\n      <td>train</td>\n      <td>0.672880</td>\n      <td>-172.912320</td>\n      <td>-2.981247</td>\n      <td>-0.822484</td>\n      <td>1.529523</td>\n      <td>0.173720</td>\n      <td>...</td>\n      <td>8552.850170</td>\n      <td>1995.923836</td>\n      <td>4688.603735</td>\n      <td>1248.938149</td>\n      <td>0.154277</td>\n      <td>0.100315</td>\n      <td>3548.523370</td>\n      <td>1844.713284</td>\n      <td>13.433769</td>\n      <td>5.270034</td>\n    </tr>\n    <tr>\n      <th>G:\\Shared drives\\PFE - ING3 Mlamali\\DrumClassifier - Sounds Dataset\\Shaker\\Mid Seed Shaker 10.aif</th>\n      <td>Mid Seed Shaker 10</td>\n      <td>.aif</td>\n      <td>Shaker</td>\n      <td>train</td>\n      <td>0.929456</td>\n      <td>-273.343200</td>\n      <td>-3.374607</td>\n      <td>-0.728820</td>\n      <td>1.568116</td>\n      <td>0.125416</td>\n      <td>...</td>\n      <td>9341.562555</td>\n      <td>2284.763279</td>\n      <td>5029.911848</td>\n      <td>1418.301615</td>\n      <td>0.202218</td>\n      <td>0.129527</td>\n      <td>3778.412543</td>\n      <td>2690.802937</td>\n      <td>13.046287</td>\n      <td>5.105602</td>\n    </tr>\n    <tr>\n      <th>G:\\Shared drives\\PFE - ING3 Mlamali\\DrumClassifier - Sounds Dataset\\Shaker\\Mid Seed Shaker 11.aif</th>\n      <td>Mid Seed Shaker 11</td>\n      <td>.aif</td>\n      <td>Shaker</td>\n      <td>train</td>\n      <td>0.875011</td>\n      <td>-244.603880</td>\n      <td>-3.218472</td>\n      <td>-0.734002</td>\n      <td>1.524488</td>\n      <td>0.125789</td>\n      <td>...</td>\n      <td>9270.489384</td>\n      <td>1901.198482</td>\n      <td>5027.825233</td>\n      <td>1365.491043</td>\n      <td>0.198355</td>\n      <td>0.105156</td>\n      <td>3781.343801</td>\n      <td>2479.147790</td>\n      <td>12.827034</td>\n      <td>5.013560</td>\n    </tr>\n    <tr>\n      <th>G:\\Shared drives\\PFE - ING3 Mlamali\\DrumClassifier - Sounds Dataset\\Shaker\\Mid Seed Shaker 12.aif</th>\n      <td>Mid Seed Shaker 12</td>\n      <td>.aif</td>\n      <td>Shaker</td>\n      <td>train</td>\n      <td>0.875011</td>\n      <td>-246.982820</td>\n      <td>-3.249774</td>\n      <td>-0.720161</td>\n      <td>1.605657</td>\n      <td>0.150438</td>\n      <td>...</td>\n      <td>9135.135614</td>\n      <td>2430.710085</td>\n      <td>4792.150083</td>\n      <td>1420.777824</td>\n      <td>0.175519</td>\n      <td>0.128083</td>\n      <td>3836.593467</td>\n      <td>2557.461554</td>\n      <td>13.166101</td>\n      <td>5.536690</td>\n    </tr>\n    <tr>\n      <th>G:\\Shared drives\\PFE - ING3 Mlamali\\DrumClassifier - Sounds Dataset\\Shaker\\Mid Seed Shaker 13.aif</th>\n      <td>Mid Seed Shaker 13</td>\n      <td>.aif</td>\n      <td>Shaker</td>\n      <td>test</td>\n      <td>0.596576</td>\n      <td>-154.541100</td>\n      <td>-2.971944</td>\n      <td>-0.724052</td>\n      <td>1.567551</td>\n      <td>0.157930</td>\n      <td>...</td>\n      <td>8850.324918</td>\n      <td>2022.008011</td>\n      <td>4661.250245</td>\n      <td>1210.422452</td>\n      <td>0.162604</td>\n      <td>0.102460</td>\n      <td>3854.029259</td>\n      <td>2275.831355</td>\n      <td>13.113481</td>\n      <td>5.624652</td>\n    </tr>\n  </tbody>\n</table>\n<p>10300 rows × 100 columns</p>\n</div>"
     },
     "execution_count": 27,
     "metadata": {},
     "output_type": "execute_result"
    }
   ],
   "source": [
    "# delete rows with all NaN values (focus on features)\n",
    "df_drums.dropna(how='all', subset=columns_float, inplace=True)\n",
    "df_drums"
   ],
   "metadata": {
    "collapsed": false,
    "ExecuteTime": {
     "start_time": "2023-04-24T17:59:42.468068Z",
     "end_time": "2023-04-24T17:59:42.587476Z"
    }
   }
  },
  {
   "cell_type": "markdown",
   "source": [
    "## Duplicates\n",
    "Suppression des duplicats"
   ],
   "metadata": {
    "collapsed": false
   }
  },
  {
   "cell_type": "markdown",
   "source": [
    "### Duplicates rows"
   ],
   "metadata": {
    "collapsed": false
   }
  },
  {
   "cell_type": "code",
   "execution_count": 28,
   "outputs": [
    {
     "name": "stdout",
     "output_type": "stream",
     "text": [
      "Nombre de lignes totalement dupliquées : 0\n"
     ]
    }
   ],
   "source": [
    "print(f\"Nombre de lignes totalement dupliquées : {df_drums.duplicated().sum()}\")"
   ],
   "metadata": {
    "collapsed": false,
    "ExecuteTime": {
     "start_time": "2023-04-24T17:59:42.507749Z",
     "end_time": "2023-04-24T17:59:42.587476Z"
    }
   }
  },
  {
   "cell_type": "code",
   "execution_count": 29,
   "outputs": [
    {
     "name": "stdout",
     "output_type": "stream",
     "text": [
      "Nombre de lignes dupliquées (focus on features) : 238 lignes (qu'on peut potentiellement supprimer)\n"
     ]
    },
    {
     "data": {
      "text/plain": "class\nBell                   102\n808                     44\nClap                    25\nCrash (Cymbal)          15\nTriangle                15\nSnap                    10\nKick                     9\nHat Open (Cymbal)        8\nShaker                   7\nHat Closed (Cymbal)      2\nConga                    1\nName: file_name, dtype: int64"
     },
     "execution_count": 29,
     "metadata": {},
     "output_type": "execute_result"
    }
   ],
   "source": [
    "duplicated_focus_on_features = df_drums.duplicated(subset=columns_float)\n",
    "print(\n",
    "    f\"Nombre de lignes dupliquées (focus on features) : {duplicated_focus_on_features.sum()} lignes (qu'on peut potentiellement supprimer)\")\n",
    "\n",
    "# print per class\n",
    "df_drums[duplicated_focus_on_features].groupby(\"class\").count()[\"file_name\"].sort_values(ascending=False)"
   ],
   "metadata": {
    "collapsed": false,
    "ExecuteTime": {
     "start_time": "2023-04-24T17:59:42.570205Z",
     "end_time": "2023-04-24T17:59:42.736156Z"
    }
   }
  },
  {
   "cell_type": "code",
   "execution_count": 30,
   "outputs": [
    {
     "data": {
      "text/plain": "                                                                            file_name  \\\nfile_path                                                                               \nG:\\Shared drives\\PFE - ING3 Mlamali\\DrumClassif...                          Clap 0872   \nG:\\Shared drives\\PFE - ING3 Mlamali\\DrumClassif...                          Clap 0875   \nG:\\Shared drives\\PFE - ING3 Mlamali\\DrumClassif...            Mun Roe ( DB ) Shaker 1   \nG:\\Shared drives\\PFE - ING3 Mlamali\\DrumClassif...                       Shaker 4 (3)   \nG:\\Shared drives\\PFE - ING3 Mlamali\\DrumClassif...                        Shaker (84)   \n...                                                                               ...   \nG:\\Shared drives\\PFE - ING3 Mlamali\\DrumClassif...                  STEEZE TRIANGLE 1   \nG:\\Shared drives\\PFE - ING3 Mlamali\\DrumClassif...                            Bell 02   \nG:\\Shared drives\\PFE - ING3 Mlamali\\DrumClassif...  [BELLS] Nxsty UK Drill Kit V2 (1)   \nG:\\Shared drives\\PFE - ING3 Mlamali\\DrumClassif...                            Bell 04   \nG:\\Shared drives\\PFE - ING3 Mlamali\\DrumClassif...  [BELLS] Nxsty UK Drill Kit V2 (3)   \n\n                                                   file_extension     class  \\\nfile_path                                                                     \nG:\\Shared drives\\PFE - ING3 Mlamali\\DrumClassif...          .flac      Clap   \nG:\\Shared drives\\PFE - ING3 Mlamali\\DrumClassif...          .flac      Clap   \nG:\\Shared drives\\PFE - ING3 Mlamali\\DrumClassif...           .wav    Shaker   \nG:\\Shared drives\\PFE - ING3 Mlamali\\DrumClassif...           .wav    Shaker   \nG:\\Shared drives\\PFE - ING3 Mlamali\\DrumClassif...           .wav    Shaker   \n...                                                           ...       ...   \nG:\\Shared drives\\PFE - ING3 Mlamali\\DrumClassif...           .wav  Triangle   \nG:\\Shared drives\\PFE - ING3 Mlamali\\DrumClassif...           .wav      Bell   \nG:\\Shared drives\\PFE - ING3 Mlamali\\DrumClassif...           .wav      Bell   \nG:\\Shared drives\\PFE - ING3 Mlamali\\DrumClassif...           .wav      Bell   \nG:\\Shared drives\\PFE - ING3 Mlamali\\DrumClassif...           .wav      Bell   \n\n                                                    split   duration  \\\nfile_path                                                              \nG:\\Shared drives\\PFE - ING3 Mlamali\\DrumClassif...  train   0.046440   \nG:\\Shared drives\\PFE - ING3 Mlamali\\DrumClassif...  train   0.046440   \nG:\\Shared drives\\PFE - ING3 Mlamali\\DrumClassif...  train   0.080000   \nG:\\Shared drives\\PFE - ING3 Mlamali\\DrumClassif...  train   0.080000   \nG:\\Shared drives\\PFE - ING3 Mlamali\\DrumClassif...  train   0.089456   \n...                                                   ...        ...   \nG:\\Shared drives\\PFE - ING3 Mlamali\\DrumClassif...  train   8.432018   \nG:\\Shared drives\\PFE - ING3 Mlamali\\DrumClassif...  train  10.102041   \nG:\\Shared drives\\PFE - ING3 Mlamali\\DrumClassif...  train  10.102041   \nG:\\Shared drives\\PFE - ING3 Mlamali\\DrumClassif...  train  10.105261   \nG:\\Shared drives\\PFE - ING3 Mlamali\\DrumClassif...  train  10.105261   \n\n                                                    log_sum_rms  log_mean_rms  \\\nfile_path                                                                       \nG:\\Shared drives\\PFE - ING3 Mlamali\\DrumClassif...    -4.019799     -0.803960   \nG:\\Shared drives\\PFE - ING3 Mlamali\\DrumClassif...    -4.019799     -0.803960   \nG:\\Shared drives\\PFE - ING3 Mlamali\\DrumClassif...    -5.809393     -0.829913   \nG:\\Shared drives\\PFE - ING3 Mlamali\\DrumClassif...    -5.809393     -0.829913   \nG:\\Shared drives\\PFE - ING3 Mlamali\\DrumClassif...   -13.053484     -1.631685   \n...                                                         ...           ...   \nG:\\Shared drives\\PFE - ING3 Mlamali\\DrumClassif... -3041.128200     -4.183120   \nG:\\Shared drives\\PFE - ING3 Mlamali\\DrumClassif... -2368.555400     -2.719352   \nG:\\Shared drives\\PFE - ING3 Mlamali\\DrumClassif... -2368.555400     -2.719352   \nG:\\Shared drives\\PFE - ING3 Mlamali\\DrumClassif... -3014.280000     -3.460712   \nG:\\Shared drives\\PFE - ING3 Mlamali\\DrumClassif... -3014.280000     -3.460712   \n\n                                                    log_max_rms  rms_log_std  \\\nfile_path                                                                      \nG:\\Shared drives\\PFE - ING3 Mlamali\\DrumClassif...    -0.643738     0.162203   \nG:\\Shared drives\\PFE - ING3 Mlamali\\DrumClassif...    -0.643738     0.162203   \nG:\\Shared drives\\PFE - ING3 Mlamali\\DrumClassif...    -0.584962     0.225188   \nG:\\Shared drives\\PFE - ING3 Mlamali\\DrumClassif...    -0.584962     0.225188   \nG:\\Shared drives\\PFE - ING3 Mlamali\\DrumClassif...    -1.033871     0.477110   \n...                                                         ...          ...   \nG:\\Shared drives\\PFE - ING3 Mlamali\\DrumClassif...    -1.158522     0.526799   \nG:\\Shared drives\\PFE - ING3 Mlamali\\DrumClassif...    -0.553327     1.333677   \nG:\\Shared drives\\PFE - ING3 Mlamali\\DrumClassif...    -0.553327     1.333677   \nG:\\Shared drives\\PFE - ING3 Mlamali\\DrumClassif...    -0.661780     1.353540   \nG:\\Shared drives\\PFE - ING3 Mlamali\\DrumClassif...    -0.661780     1.353540   \n\n                                                    rms_log_diff_mean  ...  \\\nfile_path                                                              ...   \nG:\\Shared drives\\PFE - ING3 Mlamali\\DrumClassif...           0.158863  ...   \nG:\\Shared drives\\PFE - ING3 Mlamali\\DrumClassif...           0.158863  ...   \nG:\\Shared drives\\PFE - ING3 Mlamali\\DrumClassif...           0.180874  ...   \nG:\\Shared drives\\PFE - ING3 Mlamali\\DrumClassif...           0.180874  ...   \nG:\\Shared drives\\PFE - ING3 Mlamali\\DrumClassif...           0.322956  ...   \n...                                                               ...  ...   \nG:\\Shared drives\\PFE - ING3 Mlamali\\DrumClassif...           0.018816  ...   \nG:\\Shared drives\\PFE - ING3 Mlamali\\DrumClassif...           0.041081  ...   \nG:\\Shared drives\\PFE - ING3 Mlamali\\DrumClassif...           0.041081  ...   \nG:\\Shared drives\\PFE - ING3 Mlamali\\DrumClassif...           0.069367  ...   \nG:\\Shared drives\\PFE - ING3 Mlamali\\DrumClassif...           0.069367  ...   \n\n                                                    spec_cent_mean  \\\nfile_path                                                            \nG:\\Shared drives\\PFE - ING3 Mlamali\\DrumClassif...     4626.470339   \nG:\\Shared drives\\PFE - ING3 Mlamali\\DrumClassif...     4626.470339   \nG:\\Shared drives\\PFE - ING3 Mlamali\\DrumClassif...     5933.449028   \nG:\\Shared drives\\PFE - ING3 Mlamali\\DrumClassif...     5933.449028   \nG:\\Shared drives\\PFE - ING3 Mlamali\\DrumClassif...    11033.629294   \n...                                                            ...   \nG:\\Shared drives\\PFE - ING3 Mlamali\\DrumClassif...    15631.950113   \nG:\\Shared drives\\PFE - ING3 Mlamali\\DrumClassif...      698.902792   \nG:\\Shared drives\\PFE - ING3 Mlamali\\DrumClassif...      698.902792   \nG:\\Shared drives\\PFE - ING3 Mlamali\\DrumClassif...     1668.926664   \nG:\\Shared drives\\PFE - ING3 Mlamali\\DrumClassif...     1668.926664   \n\n                                                    spec_cent_std  \\\nfile_path                                                           \nG:\\Shared drives\\PFE - ING3 Mlamali\\DrumClassif...     426.147392   \nG:\\Shared drives\\PFE - ING3 Mlamali\\DrumClassif...     426.147392   \nG:\\Shared drives\\PFE - ING3 Mlamali\\DrumClassif...      45.388188   \nG:\\Shared drives\\PFE - ING3 Mlamali\\DrumClassif...      45.388188   \nG:\\Shared drives\\PFE - ING3 Mlamali\\DrumClassif...    1655.514185   \n...                                                           ...   \nG:\\Shared drives\\PFE - ING3 Mlamali\\DrumClassif...    1692.451759   \nG:\\Shared drives\\PFE - ING3 Mlamali\\DrumClassif...     108.795627   \nG:\\Shared drives\\PFE - ING3 Mlamali\\DrumClassif...     108.795627   \nG:\\Shared drives\\PFE - ING3 Mlamali\\DrumClassif...     171.815897   \nG:\\Shared drives\\PFE - ING3 Mlamali\\DrumClassif...     171.815897   \n\n                                                    spec_bw_mean  spec_bw_std  \\\nfile_path                                                                       \nG:\\Shared drives\\PFE - ING3 Mlamali\\DrumClassif...   4128.750167    47.113411   \nG:\\Shared drives\\PFE - ING3 Mlamali\\DrumClassif...   4128.750167    47.113411   \nG:\\Shared drives\\PFE - ING3 Mlamali\\DrumClassif...   3120.448791    69.453728   \nG:\\Shared drives\\PFE - ING3 Mlamali\\DrumClassif...   3120.448791    69.453728   \nG:\\Shared drives\\PFE - ING3 Mlamali\\DrumClassif...   4920.181711   451.140152   \n...                                                          ...          ...   \nG:\\Shared drives\\PFE - ING3 Mlamali\\DrumClassif...   4727.804466   537.949495   \nG:\\Shared drives\\PFE - ING3 Mlamali\\DrumClassif...    609.081676   160.199324   \nG:\\Shared drives\\PFE - ING3 Mlamali\\DrumClassif...    609.081676   160.199324   \nG:\\Shared drives\\PFE - ING3 Mlamali\\DrumClassif...   1068.841092    79.961527   \nG:\\Shared drives\\PFE - ING3 Mlamali\\DrumClassif...   1068.841092    79.961527   \n\n                                                    spec_flatness_mean  \\\nfile_path                                                                \nG:\\Shared drives\\PFE - ING3 Mlamali\\DrumClassif...            0.045543   \nG:\\Shared drives\\PFE - ING3 Mlamali\\DrumClassif...            0.045543   \nG:\\Shared drives\\PFE - ING3 Mlamali\\DrumClassif...            0.018186   \nG:\\Shared drives\\PFE - ING3 Mlamali\\DrumClassif...            0.018186   \nG:\\Shared drives\\PFE - ING3 Mlamali\\DrumClassif...            0.150005   \n...                                                                ...   \nG:\\Shared drives\\PFE - ING3 Mlamali\\DrumClassif...            0.062326   \nG:\\Shared drives\\PFE - ING3 Mlamali\\DrumClassif...            0.000689   \nG:\\Shared drives\\PFE - ING3 Mlamali\\DrumClassif...            0.000689   \nG:\\Shared drives\\PFE - ING3 Mlamali\\DrumClassif...            0.023244   \nG:\\Shared drives\\PFE - ING3 Mlamali\\DrumClassif...            0.023244   \n\n                                                    spec_flatness_std  \\\nfile_path                                                               \nG:\\Shared drives\\PFE - ING3 Mlamali\\DrumClassif...           0.013888   \nG:\\Shared drives\\PFE - ING3 Mlamali\\DrumClassif...           0.013888   \nG:\\Shared drives\\PFE - ING3 Mlamali\\DrumClassif...           0.002066   \nG:\\Shared drives\\PFE - ING3 Mlamali\\DrumClassif...           0.002066   \nG:\\Shared drives\\PFE - ING3 Mlamali\\DrumClassif...           0.045579   \n...                                                               ...   \nG:\\Shared drives\\PFE - ING3 Mlamali\\DrumClassif...           0.020171   \nG:\\Shared drives\\PFE - ING3 Mlamali\\DrumClassif...           0.004254   \nG:\\Shared drives\\PFE - ING3 Mlamali\\DrumClassif...           0.004254   \nG:\\Shared drives\\PFE - ING3 Mlamali\\DrumClassif...           0.120804   \nG:\\Shared drives\\PFE - ING3 Mlamali\\DrumClassif...           0.120804   \n\n                                                    spec_rolloff_mean  \\\nfile_path                                                               \nG:\\Shared drives\\PFE - ING3 Mlamali\\DrumClassif...        1016.367188   \nG:\\Shared drives\\PFE - ING3 Mlamali\\DrumClassif...        1016.367188   \nG:\\Shared drives\\PFE - ING3 Mlamali\\DrumClassif...        3294.580078   \nG:\\Shared drives\\PFE - ING3 Mlamali\\DrumClassif...        3294.580078   \nG:\\Shared drives\\PFE - ING3 Mlamali\\DrumClassif...        5151.818848   \n...                                                               ...   \nG:\\Shared drives\\PFE - ING3 Mlamali\\DrumClassif...       10972.455430   \nG:\\Shared drives\\PFE - ING3 Mlamali\\DrumClassif...         144.527102   \nG:\\Shared drives\\PFE - ING3 Mlamali\\DrumClassif...         144.527102   \nG:\\Shared drives\\PFE - ING3 Mlamali\\DrumClassif...         812.377790   \nG:\\Shared drives\\PFE - ING3 Mlamali\\DrumClassif...         812.377790   \n\n                                                    spec_rolloff_std  \\\nfile_path                                                              \nG:\\Shared drives\\PFE - ING3 Mlamali\\DrumClassif...        125.854158   \nG:\\Shared drives\\PFE - ING3 Mlamali\\DrumClassif...        125.854158   \nG:\\Shared drives\\PFE - ING3 Mlamali\\DrumClassif...         82.999655   \nG:\\Shared drives\\PFE - ING3 Mlamali\\DrumClassif...         82.999655   \nG:\\Shared drives\\PFE - ING3 Mlamali\\DrumClassif...       1894.669516   \n...                                                              ...   \nG:\\Shared drives\\PFE - ING3 Mlamali\\DrumClassif...       2412.069283   \nG:\\Shared drives\\PFE - ING3 Mlamali\\DrumClassif...         76.609446   \nG:\\Shared drives\\PFE - ING3 Mlamali\\DrumClassif...         76.609446   \nG:\\Shared drives\\PFE - ING3 Mlamali\\DrumClassif...        326.453852   \nG:\\Shared drives\\PFE - ING3 Mlamali\\DrumClassif...        326.453852   \n\n                                                    spec_contrast_mean  \\\nfile_path                                                                \nG:\\Shared drives\\PFE - ING3 Mlamali\\DrumClassif...           11.954943   \nG:\\Shared drives\\PFE - ING3 Mlamali\\DrumClassif...           11.954943   \nG:\\Shared drives\\PFE - ING3 Mlamali\\DrumClassif...           16.146953   \nG:\\Shared drives\\PFE - ING3 Mlamali\\DrumClassif...           16.146953   \nG:\\Shared drives\\PFE - ING3 Mlamali\\DrumClassif...           15.115996   \n...                                                                ...   \nG:\\Shared drives\\PFE - ING3 Mlamali\\DrumClassif...           17.030874   \nG:\\Shared drives\\PFE - ING3 Mlamali\\DrumClassif...           28.551427   \nG:\\Shared drives\\PFE - ING3 Mlamali\\DrumClassif...           28.551427   \nG:\\Shared drives\\PFE - ING3 Mlamali\\DrumClassif...           24.974493   \nG:\\Shared drives\\PFE - ING3 Mlamali\\DrumClassif...           24.974493   \n\n                                                    spec_contrast_std  \nfile_path                                                              \nG:\\Shared drives\\PFE - ING3 Mlamali\\DrumClassif...           4.722839  \nG:\\Shared drives\\PFE - ING3 Mlamali\\DrumClassif...           4.722839  \nG:\\Shared drives\\PFE - ING3 Mlamali\\DrumClassif...           8.335257  \nG:\\Shared drives\\PFE - ING3 Mlamali\\DrumClassif...           8.335257  \nG:\\Shared drives\\PFE - ING3 Mlamali\\DrumClassif...           7.899844  \n...                                                               ...  \nG:\\Shared drives\\PFE - ING3 Mlamali\\DrumClassif...          13.472127  \nG:\\Shared drives\\PFE - ING3 Mlamali\\DrumClassif...           9.587233  \nG:\\Shared drives\\PFE - ING3 Mlamali\\DrumClassif...           9.587233  \nG:\\Shared drives\\PFE - ING3 Mlamali\\DrumClassif...           9.142261  \nG:\\Shared drives\\PFE - ING3 Mlamali\\DrumClassif...           9.142261  \n\n[432 rows x 100 columns]",
      "text/html": "<div>\n<style scoped>\n    .dataframe tbody tr th:only-of-type {\n        vertical-align: middle;\n    }\n\n    .dataframe tbody tr th {\n        vertical-align: top;\n    }\n\n    .dataframe thead th {\n        text-align: right;\n    }\n</style>\n<table border=\"1\" class=\"dataframe\">\n  <thead>\n    <tr style=\"text-align: right;\">\n      <th></th>\n      <th>file_name</th>\n      <th>file_extension</th>\n      <th>class</th>\n      <th>split</th>\n      <th>duration</th>\n      <th>log_sum_rms</th>\n      <th>log_mean_rms</th>\n      <th>log_max_rms</th>\n      <th>rms_log_std</th>\n      <th>rms_log_diff_mean</th>\n      <th>...</th>\n      <th>spec_cent_mean</th>\n      <th>spec_cent_std</th>\n      <th>spec_bw_mean</th>\n      <th>spec_bw_std</th>\n      <th>spec_flatness_mean</th>\n      <th>spec_flatness_std</th>\n      <th>spec_rolloff_mean</th>\n      <th>spec_rolloff_std</th>\n      <th>spec_contrast_mean</th>\n      <th>spec_contrast_std</th>\n    </tr>\n    <tr>\n      <th>file_path</th>\n      <th></th>\n      <th></th>\n      <th></th>\n      <th></th>\n      <th></th>\n      <th></th>\n      <th></th>\n      <th></th>\n      <th></th>\n      <th></th>\n      <th></th>\n      <th></th>\n      <th></th>\n      <th></th>\n      <th></th>\n      <th></th>\n      <th></th>\n      <th></th>\n      <th></th>\n      <th></th>\n      <th></th>\n    </tr>\n  </thead>\n  <tbody>\n    <tr>\n      <th>G:\\Shared drives\\PFE - ING3 Mlamali\\DrumClassifier - Sounds Dataset\\Clap\\Clap 0872.flac</th>\n      <td>Clap 0872</td>\n      <td>.flac</td>\n      <td>Clap</td>\n      <td>train</td>\n      <td>0.046440</td>\n      <td>-4.019799</td>\n      <td>-0.803960</td>\n      <td>-0.643738</td>\n      <td>0.162203</td>\n      <td>0.158863</td>\n      <td>...</td>\n      <td>4626.470339</td>\n      <td>426.147392</td>\n      <td>4128.750167</td>\n      <td>47.113411</td>\n      <td>0.045543</td>\n      <td>0.013888</td>\n      <td>1016.367188</td>\n      <td>125.854158</td>\n      <td>11.954943</td>\n      <td>4.722839</td>\n    </tr>\n    <tr>\n      <th>G:\\Shared drives\\PFE - ING3 Mlamali\\DrumClassifier - Sounds Dataset\\Clap\\Clap 0875.flac</th>\n      <td>Clap 0875</td>\n      <td>.flac</td>\n      <td>Clap</td>\n      <td>train</td>\n      <td>0.046440</td>\n      <td>-4.019799</td>\n      <td>-0.803960</td>\n      <td>-0.643738</td>\n      <td>0.162203</td>\n      <td>0.158863</td>\n      <td>...</td>\n      <td>4626.470339</td>\n      <td>426.147392</td>\n      <td>4128.750167</td>\n      <td>47.113411</td>\n      <td>0.045543</td>\n      <td>0.013888</td>\n      <td>1016.367188</td>\n      <td>125.854158</td>\n      <td>11.954943</td>\n      <td>4.722839</td>\n    </tr>\n    <tr>\n      <th>G:\\Shared drives\\PFE - ING3 Mlamali\\DrumClassifier - Sounds Dataset\\Shaker\\Mun Roe ( DB ) Shaker 1.wav</th>\n      <td>Mun Roe ( DB ) Shaker 1</td>\n      <td>.wav</td>\n      <td>Shaker</td>\n      <td>train</td>\n      <td>0.080000</td>\n      <td>-5.809393</td>\n      <td>-0.829913</td>\n      <td>-0.584962</td>\n      <td>0.225188</td>\n      <td>0.180874</td>\n      <td>...</td>\n      <td>5933.449028</td>\n      <td>45.388188</td>\n      <td>3120.448791</td>\n      <td>69.453728</td>\n      <td>0.018186</td>\n      <td>0.002066</td>\n      <td>3294.580078</td>\n      <td>82.999655</td>\n      <td>16.146953</td>\n      <td>8.335257</td>\n    </tr>\n    <tr>\n      <th>G:\\Shared drives\\PFE - ING3 Mlamali\\DrumClassifier - Sounds Dataset\\Shaker\\Shaker 4 (3).wav</th>\n      <td>Shaker 4 (3)</td>\n      <td>.wav</td>\n      <td>Shaker</td>\n      <td>train</td>\n      <td>0.080000</td>\n      <td>-5.809393</td>\n      <td>-0.829913</td>\n      <td>-0.584962</td>\n      <td>0.225188</td>\n      <td>0.180874</td>\n      <td>...</td>\n      <td>5933.449028</td>\n      <td>45.388188</td>\n      <td>3120.448791</td>\n      <td>69.453728</td>\n      <td>0.018186</td>\n      <td>0.002066</td>\n      <td>3294.580078</td>\n      <td>82.999655</td>\n      <td>16.146953</td>\n      <td>8.335257</td>\n    </tr>\n    <tr>\n      <th>G:\\Shared drives\\PFE - ING3 Mlamali\\DrumClassifier - Sounds Dataset\\Shaker\\Shaker (84).wav</th>\n      <td>Shaker (84)</td>\n      <td>.wav</td>\n      <td>Shaker</td>\n      <td>train</td>\n      <td>0.089456</td>\n      <td>-13.053484</td>\n      <td>-1.631685</td>\n      <td>-1.033871</td>\n      <td>0.477110</td>\n      <td>0.322956</td>\n      <td>...</td>\n      <td>11033.629294</td>\n      <td>1655.514185</td>\n      <td>4920.181711</td>\n      <td>451.140152</td>\n      <td>0.150005</td>\n      <td>0.045579</td>\n      <td>5151.818848</td>\n      <td>1894.669516</td>\n      <td>15.115996</td>\n      <td>7.899844</td>\n    </tr>\n    <tr>\n      <th>...</th>\n      <td>...</td>\n      <td>...</td>\n      <td>...</td>\n      <td>...</td>\n      <td>...</td>\n      <td>...</td>\n      <td>...</td>\n      <td>...</td>\n      <td>...</td>\n      <td>...</td>\n      <td>...</td>\n      <td>...</td>\n      <td>...</td>\n      <td>...</td>\n      <td>...</td>\n      <td>...</td>\n      <td>...</td>\n      <td>...</td>\n      <td>...</td>\n      <td>...</td>\n      <td>...</td>\n    </tr>\n    <tr>\n      <th>G:\\Shared drives\\PFE - ING3 Mlamali\\DrumClassifier - Sounds Dataset\\Triangle\\STEEZE TRIANGLE 1.wav</th>\n      <td>STEEZE TRIANGLE 1</td>\n      <td>.wav</td>\n      <td>Triangle</td>\n      <td>train</td>\n      <td>8.432018</td>\n      <td>-3041.128200</td>\n      <td>-4.183120</td>\n      <td>-1.158522</td>\n      <td>0.526799</td>\n      <td>0.018816</td>\n      <td>...</td>\n      <td>15631.950113</td>\n      <td>1692.451759</td>\n      <td>4727.804466</td>\n      <td>537.949495</td>\n      <td>0.062326</td>\n      <td>0.020171</td>\n      <td>10972.455430</td>\n      <td>2412.069283</td>\n      <td>17.030874</td>\n      <td>13.472127</td>\n    </tr>\n    <tr>\n      <th>G:\\Shared drives\\PFE - ING3 Mlamali\\DrumClassifier - Sounds Dataset\\Bell\\Bell 02.wav</th>\n      <td>Bell 02</td>\n      <td>.wav</td>\n      <td>Bell</td>\n      <td>train</td>\n      <td>10.102041</td>\n      <td>-2368.555400</td>\n      <td>-2.719352</td>\n      <td>-0.553327</td>\n      <td>1.333677</td>\n      <td>0.041081</td>\n      <td>...</td>\n      <td>698.902792</td>\n      <td>108.795627</td>\n      <td>609.081676</td>\n      <td>160.199324</td>\n      <td>0.000689</td>\n      <td>0.004254</td>\n      <td>144.527102</td>\n      <td>76.609446</td>\n      <td>28.551427</td>\n      <td>9.587233</td>\n    </tr>\n    <tr>\n      <th>G:\\Shared drives\\PFE - ING3 Mlamali\\DrumClassifier - Sounds Dataset\\Bell\\[BELLS] Nxsty UK Drill Kit V2 (1).wav</th>\n      <td>[BELLS] Nxsty UK Drill Kit V2 (1)</td>\n      <td>.wav</td>\n      <td>Bell</td>\n      <td>train</td>\n      <td>10.102041</td>\n      <td>-2368.555400</td>\n      <td>-2.719352</td>\n      <td>-0.553327</td>\n      <td>1.333677</td>\n      <td>0.041081</td>\n      <td>...</td>\n      <td>698.902792</td>\n      <td>108.795627</td>\n      <td>609.081676</td>\n      <td>160.199324</td>\n      <td>0.000689</td>\n      <td>0.004254</td>\n      <td>144.527102</td>\n      <td>76.609446</td>\n      <td>28.551427</td>\n      <td>9.587233</td>\n    </tr>\n    <tr>\n      <th>G:\\Shared drives\\PFE - ING3 Mlamali\\DrumClassifier - Sounds Dataset\\Bell\\Bell 04.wav</th>\n      <td>Bell 04</td>\n      <td>.wav</td>\n      <td>Bell</td>\n      <td>train</td>\n      <td>10.105261</td>\n      <td>-3014.280000</td>\n      <td>-3.460712</td>\n      <td>-0.661780</td>\n      <td>1.353540</td>\n      <td>0.069367</td>\n      <td>...</td>\n      <td>1668.926664</td>\n      <td>171.815897</td>\n      <td>1068.841092</td>\n      <td>79.961527</td>\n      <td>0.023244</td>\n      <td>0.120804</td>\n      <td>812.377790</td>\n      <td>326.453852</td>\n      <td>24.974493</td>\n      <td>9.142261</td>\n    </tr>\n    <tr>\n      <th>G:\\Shared drives\\PFE - ING3 Mlamali\\DrumClassifier - Sounds Dataset\\Bell\\[BELLS] Nxsty UK Drill Kit V2 (3).wav</th>\n      <td>[BELLS] Nxsty UK Drill Kit V2 (3)</td>\n      <td>.wav</td>\n      <td>Bell</td>\n      <td>train</td>\n      <td>10.105261</td>\n      <td>-3014.280000</td>\n      <td>-3.460712</td>\n      <td>-0.661780</td>\n      <td>1.353540</td>\n      <td>0.069367</td>\n      <td>...</td>\n      <td>1668.926664</td>\n      <td>171.815897</td>\n      <td>1068.841092</td>\n      <td>79.961527</td>\n      <td>0.023244</td>\n      <td>0.120804</td>\n      <td>812.377790</td>\n      <td>326.453852</td>\n      <td>24.974493</td>\n      <td>9.142261</td>\n    </tr>\n  </tbody>\n</table>\n<p>432 rows × 100 columns</p>\n</div>"
     },
     "execution_count": 30,
     "metadata": {},
     "output_type": "execute_result"
    }
   ],
   "source": [
    "duplicated_focus_on_features = df_drums.duplicated(subset=columns_float, keep=False)\n",
    "# Afficher les lignes dupliquées (toutes les copies)\n",
    "duplicates_df = df_drums[duplicated_focus_on_features].sort_values(by=columns_float)\n",
    "duplicates_df"
   ],
   "metadata": {
    "collapsed": false,
    "ExecuteTime": {
     "start_time": "2023-04-24T17:59:42.640458Z",
     "end_time": "2023-04-24T17:59:42.822842Z"
    }
   }
  },
  {
   "cell_type": "code",
   "execution_count": 31,
   "outputs": [
    {
     "name": "stdout",
     "output_type": "stream",
     "text": [
      "# Duplicate Group 1:\n",
      "  - G:\\Shared drives\\PFE - ING3 Mlamali\\DrumClassifier - Sounds Dataset\\Clap\\Clap 0872.flac\n",
      "  - G:\\Shared drives\\PFE - ING3 Mlamali\\DrumClassifier - Sounds Dataset\\Clap\\Clap 0875.flac\n",
      "\n",
      "# Duplicate Group 2:\n",
      "  - G:\\Shared drives\\PFE - ING3 Mlamali\\DrumClassifier - Sounds Dataset\\Shaker\\Mun Roe ( DB ) Shaker 1.wav\n",
      "  - G:\\Shared drives\\PFE - ING3 Mlamali\\DrumClassifier - Sounds Dataset\\Shaker\\Shaker 4 (3).wav\n",
      "\n",
      "# Duplicate Group 3:\n",
      "  - G:\\Shared drives\\PFE - ING3 Mlamali\\DrumClassifier - Sounds Dataset\\Shaker\\Shaker (84).wav\n",
      "  - G:\\Shared drives\\PFE - ING3 Mlamali\\DrumClassifier - Sounds Dataset\\Shaker\\Shaker (85).wav\n",
      "\n",
      "# Duplicate Group 4:\n",
      "  - G:\\Shared drives\\PFE - ING3 Mlamali\\DrumClassifier - Sounds Dataset\\Shaker\\SHAKER (2).wav\n",
      "  - G:\\Shared drives\\PFE - ING3 Mlamali\\DrumClassifier - Sounds Dataset\\Shaker\\CNN - Shaker.wav\n",
      "\n",
      "# Duplicate Group 5:\n",
      "  - G:\\Shared drives\\PFE - ING3 Mlamali\\DrumClassifier - Sounds Dataset\\Snap\\CNN - Snap 05.wav\n",
      "  - G:\\Shared drives\\PFE - ING3 Mlamali\\DrumClassifier - Sounds Dataset\\Snap\\Trapaholic Snap (4).wav\n",
      "\n",
      "# Duplicate Group 6:\n",
      "  - G:\\Shared drives\\PFE - ING3 Mlamali\\DrumClassifier - Sounds Dataset\\Clap\\Clap 0878.flac\n",
      "  - G:\\Shared drives\\PFE - ING3 Mlamali\\DrumClassifier - Sounds Dataset\\Clap\\Clap 1364.flac\n",
      "\n",
      "# Duplicate Group 7:\n",
      "  - G:\\Shared drives\\PFE - ING3 Mlamali\\DrumClassifier - Sounds Dataset\\Hat Closed (Cymbal)\\[PS] Perc-ish Hi Hat (lofi).wav\n",
      "  - G:\\Shared drives\\PFE - ING3 Mlamali\\DrumClassifier - Sounds Dataset\\Hat Closed (Cymbal)\\[PS] Unique Hi Hat (lofi).wav\n",
      "\n",
      "# Duplicate Group 8:\n",
      "  - G:\\Shared drives\\PFE - ING3 Mlamali\\DrumClassifier - Sounds Dataset\\Snap\\Snap 19.wav\n",
      "  - G:\\Shared drives\\PFE - ING3 Mlamali\\DrumClassifier - Sounds Dataset\\Snap\\Snap (13).wav\n",
      "  - G:\\Shared drives\\PFE - ING3 Mlamali\\DrumClassifier - Sounds Dataset\\Snap\\Trapaholic Snap (5).wav\n",
      "\n",
      "# Duplicate Group 9:\n",
      "  - G:\\Shared drives\\PFE - ING3 Mlamali\\DrumClassifier - Sounds Dataset\\Snap\\CNN - Snap 04.wav\n",
      "  - G:\\Shared drives\\PFE - ING3 Mlamali\\DrumClassifier - Sounds Dataset\\Snap\\Trapaholic Snap (2).wav\n",
      "\n",
      "# Duplicate Group 10:\n",
      "  - G:\\Shared drives\\PFE - ING3 Mlamali\\DrumClassifier - Sounds Dataset\\Snap\\CNN - Snap 02.wav\n",
      "  - G:\\Shared drives\\PFE - ING3 Mlamali\\DrumClassifier - Sounds Dataset\\Snap\\Trapaholic Snap (1).wav\n",
      "\n",
      "# Duplicate Group 11:\n",
      "  - G:\\Shared drives\\PFE - ING3 Mlamali\\DrumClassifier - Sounds Dataset\\Clap\\Clap 0121.flac\n",
      "  - G:\\Shared drives\\PFE - ING3 Mlamali\\DrumClassifier - Sounds Dataset\\Clap\\Clap 0410.flac\n",
      "\n",
      "# Duplicate Group 12:\n",
      "  - G:\\Shared drives\\PFE - ING3 Mlamali\\DrumClassifier - Sounds Dataset\\Kick\\Kick 0636.flac\n",
      "  - G:\\Shared drives\\PFE - ING3 Mlamali\\DrumClassifier - Sounds Dataset\\Kick\\Kick 0816.flac\n",
      "\n",
      "# Duplicate Group 13:\n",
      "  - G:\\Shared drives\\PFE - ING3 Mlamali\\DrumClassifier - Sounds Dataset\\Hat Closed (Cymbal)\\[PS] Shaker Like Hi Hat (r&b).wav\n",
      "  - G:\\Shared drives\\PFE - ING3 Mlamali\\DrumClassifier - Sounds Dataset\\Shaker\\[PS] Shaker Like Hi Hat (r&b).wav\n",
      "\n",
      "# Duplicate Group 14:\n",
      "  - G:\\Shared drives\\PFE - ING3 Mlamali\\DrumClassifier - Sounds Dataset\\Snap\\Crack Snap.wav\n",
      "  - G:\\Shared drives\\PFE - ING3 Mlamali\\DrumClassifier - Sounds Dataset\\Snap\\Snap 2 (3).wav\n",
      "  - G:\\Shared drives\\PFE - ING3 Mlamali\\DrumClassifier - Sounds Dataset\\Snap\\Snap (21).wav\n",
      "  - G:\\Shared drives\\PFE - ING3 Mlamali\\DrumClassifier - Sounds Dataset\\Snap\\Trapaholic Snap (3).wav\n",
      "\n",
      "# Duplicate Group 15:\n",
      "  - G:\\Shared drives\\PFE - ING3 Mlamali\\DrumClassifier - Sounds Dataset\\Kick\\Kick 0313.flac\n",
      "  - G:\\Shared drives\\PFE - ING3 Mlamali\\DrumClassifier - Sounds Dataset\\Kick\\Kick 0655.flac\n",
      "\n",
      "# Duplicate Group 16:\n",
      "  - G:\\Shared drives\\PFE - ING3 Mlamali\\DrumClassifier - Sounds Dataset\\Kick\\LostPathKICK.wav\n",
      "  - G:\\Shared drives\\PFE - ING3 Mlamali\\DrumClassifier - Sounds Dataset\\Kick\\SB - Daytona (Kick).wav\n",
      "\n",
      "# Duplicate Group 17:\n",
      "  - G:\\Shared drives\\PFE - ING3 Mlamali\\DrumClassifier - Sounds Dataset\\Shaker\\Shaker 2 (5).wav\n",
      "  - G:\\Shared drives\\PFE - ING3 Mlamali\\DrumClassifier - Sounds Dataset\\Shaker\\Shaker 2 (6).wav\n",
      "\n",
      "# Duplicate Group 18:\n",
      "  - G:\\Shared drives\\PFE - ING3 Mlamali\\DrumClassifier - Sounds Dataset\\Clap\\Clap 0163.flac\n",
      "  - G:\\Shared drives\\PFE - ING3 Mlamali\\DrumClassifier - Sounds Dataset\\Clap\\Clap 0823.flac\n",
      "\n",
      "# Duplicate Group 19:\n",
      "  - G:\\Shared drives\\PFE - ING3 Mlamali\\DrumClassifier - Sounds Dataset\\Conga\\Soft Conga.wav\n",
      "  - G:\\Shared drives\\PFE - ING3 Mlamali\\DrumClassifier - Sounds Dataset\\Conga\\Soft Conga (2).wav\n",
      "\n",
      "# Duplicate Group 20:\n",
      "  - G:\\Shared drives\\PFE - ING3 Mlamali\\DrumClassifier - Sounds Dataset\\Clap\\Clap 0051.flac\n",
      "  - G:\\Shared drives\\PFE - ING3 Mlamali\\DrumClassifier - Sounds Dataset\\Clap\\Clap 0840.flac\n",
      "\n",
      "# Duplicate Group 21:\n",
      "  - G:\\Shared drives\\PFE - ING3 Mlamali\\DrumClassifier - Sounds Dataset\\Clap\\Clap 0169.flac\n",
      "  - G:\\Shared drives\\PFE - ING3 Mlamali\\DrumClassifier - Sounds Dataset\\Clap\\Clap 0499.flac\n",
      "\n",
      "# Duplicate Group 22:\n",
      "  - G:\\Shared drives\\PFE - ING3 Mlamali\\DrumClassifier - Sounds Dataset\\Clap\\Clap 1196.flac\n",
      "  - G:\\Shared drives\\PFE - ING3 Mlamali\\DrumClassifier - Sounds Dataset\\Clap\\Clap 1380.flac\n",
      "\n",
      "# Duplicate Group 23:\n",
      "  - G:\\Shared drives\\PFE - ING3 Mlamali\\DrumClassifier - Sounds Dataset\\Clap\\Clap 0631.flac\n",
      "  - G:\\Shared drives\\PFE - ING3 Mlamali\\DrumClassifier - Sounds Dataset\\Clap\\Clap 0657.flac\n",
      "\n",
      "# Duplicate Group 24:\n",
      "  - G:\\Shared drives\\PFE - ING3 Mlamali\\DrumClassifier - Sounds Dataset\\Hat Open (Cymbal)\\sp - knocker (open hat).wav\n",
      "  - G:\\Shared drives\\PFE - ING3 Mlamali\\DrumClassifier - Sounds Dataset\\Hat Open (Cymbal)\\plug - lesson (open hat).wav\n",
      "\n",
      "# Duplicate Group 25:\n",
      "  - G:\\Shared drives\\PFE - ING3 Mlamali\\DrumClassifier - Sounds Dataset\\Hat Closed (Cymbal)\\MB Hi Hat (9).wav\n",
      "  - G:\\Shared drives\\PFE - ING3 Mlamali\\DrumClassifier - Sounds Dataset\\Hat Closed (Cymbal)\\Hi-Hat 2 (Versace - Migos).wav\n",
      "\n",
      "# Duplicate Group 26:\n",
      "  - G:\\Shared drives\\PFE - ING3 Mlamali\\DrumClassifier - Sounds Dataset\\Clap\\Clap 0004.flac\n",
      "  - G:\\Shared drives\\PFE - ING3 Mlamali\\DrumClassifier - Sounds Dataset\\Clap\\Clap 0459.flac\n",
      "\n",
      "# Duplicate Group 27:\n",
      "  - G:\\Shared drives\\PFE - ING3 Mlamali\\DrumClassifier - Sounds Dataset\\Triangle\\Triangle (2).wav\n",
      "  - G:\\Shared drives\\PFE - ING3 Mlamali\\DrumClassifier - Sounds Dataset\\Triangle\\Drill Triangle v4 (2).wav\n",
      "\n",
      "# Duplicate Group 28:\n",
      "  - G:\\Shared drives\\PFE - ING3 Mlamali\\DrumClassifier - Sounds Dataset\\Hat Closed (Cymbal)\\MB Hi Hat (10).wav\n",
      "  - G:\\Shared drives\\PFE - ING3 Mlamali\\DrumClassifier - Sounds Dataset\\Hat Open (Cymbal)\\[OPEN-HATS] Nxsty UK Drill Kit V2 (10).wav\n",
      "\n",
      "# Duplicate Group 29:\n",
      "  - G:\\Shared drives\\PFE - ING3 Mlamali\\DrumClassifier - Sounds Dataset\\Kick\\Kick 0387.flac\n",
      "  - G:\\Shared drives\\PFE - ING3 Mlamali\\DrumClassifier - Sounds Dataset\\Kick\\Kick 0402.flac\n",
      "\n",
      "# Duplicate Group 30:\n",
      "  - G:\\Shared drives\\PFE - ING3 Mlamali\\DrumClassifier - Sounds Dataset\\Hat Open (Cymbal)\\sp - revenge (open hat).wav\n",
      "  - G:\\Shared drives\\PFE - ING3 Mlamali\\DrumClassifier - Sounds Dataset\\Hat Open (Cymbal)\\plug - take (open hat).wav\n",
      "\n",
      "# Duplicate Group 31:\n",
      "  - G:\\Shared drives\\PFE - ING3 Mlamali\\DrumClassifier - Sounds Dataset\\Clap\\Clap 0151.flac\n",
      "  - G:\\Shared drives\\PFE - ING3 Mlamali\\DrumClassifier - Sounds Dataset\\Clap\\Clap 1106.flac\n",
      "\n",
      "# Duplicate Group 32:\n",
      "  - G:\\Shared drives\\PFE - ING3 Mlamali\\DrumClassifier - Sounds Dataset\\Kick\\Kick 0096.flac\n",
      "  - G:\\Shared drives\\PFE - ING3 Mlamali\\DrumClassifier - Sounds Dataset\\Kick\\Kick 1398.flac\n",
      "\n",
      "# Duplicate Group 33:\n",
      "  - G:\\Shared drives\\PFE - ING3 Mlamali\\DrumClassifier - Sounds Dataset\\Clap\\Clap 0014.flac\n",
      "  - G:\\Shared drives\\PFE - ING3 Mlamali\\DrumClassifier - Sounds Dataset\\Clap\\Clap 0841.flac\n",
      "\n",
      "# Duplicate Group 34:\n",
      "  - G:\\Shared drives\\PFE - ING3 Mlamali\\DrumClassifier - Sounds Dataset\\Clap\\Clap 0237.flac\n",
      "  - G:\\Shared drives\\PFE - ING3 Mlamali\\DrumClassifier - Sounds Dataset\\Clap\\Clap 0627.flac\n",
      "\n",
      "# Duplicate Group 35:\n",
      "  - G:\\Shared drives\\PFE - ING3 Mlamali\\DrumClassifier - Sounds Dataset\\Hat Open (Cymbal)\\[OPEN-HATS] Nxsty UK Drill Kit V2 (11).wav\n",
      "  - G:\\Shared drives\\PFE - ING3 Mlamali\\DrumClassifier - Sounds Dataset\\Hat Open (Cymbal)\\Open Hat 4 (Wixie Beatz).wav\n",
      "\n",
      "# Duplicate Group 36:\n",
      "  - G:\\Shared drives\\PFE - ING3 Mlamali\\DrumClassifier - Sounds Dataset\\Bell\\hat - bell - 01.wav\n",
      "  - G:\\Shared drives\\PFE - ING3 Mlamali\\DrumClassifier - Sounds Dataset\\Bell\\LIL J Bell 2.wav\n",
      "\n",
      "# Duplicate Group 37:\n",
      "  - G:\\Shared drives\\PFE - ING3 Mlamali\\DrumClassifier - Sounds Dataset\\Kick\\Basic Kick.wav\n",
      "  - G:\\Shared drives\\PFE - ING3 Mlamali\\DrumClassifier - Sounds Dataset\\Kick\\Kick (Running Threw It).wav\n",
      "  - G:\\Shared drives\\PFE - ING3 Mlamali\\DrumClassifier - Sounds Dataset\\Kick\\SB - Diablo (Kick).wav\n",
      "\n",
      "# Duplicate Group 38:\n",
      "  - G:\\Shared drives\\PFE - ING3 Mlamali\\DrumClassifier - Sounds Dataset\\Clap\\Clap 0653.flac\n",
      "  - G:\\Shared drives\\PFE - ING3 Mlamali\\DrumClassifier - Sounds Dataset\\Clap\\Clap 0949.flac\n",
      "\n",
      "# Duplicate Group 39:\n",
      "  - G:\\Shared drives\\PFE - ING3 Mlamali\\DrumClassifier - Sounds Dataset\\Clap\\Clap 0373.flac\n",
      "  - G:\\Shared drives\\PFE - ING3 Mlamali\\DrumClassifier - Sounds Dataset\\Clap\\Clap 0656.flac\n",
      "\n",
      "# Duplicate Group 40:\n",
      "  - G:\\Shared drives\\PFE - ING3 Mlamali\\DrumClassifier - Sounds Dataset\\Clap\\Clap 1187.flac\n",
      "  - G:\\Shared drives\\PFE - ING3 Mlamali\\DrumClassifier - Sounds Dataset\\Clap\\Clap 1262.flac\n",
      "\n",
      "# Duplicate Group 41:\n",
      "  - G:\\Shared drives\\PFE - ING3 Mlamali\\DrumClassifier - Sounds Dataset\\Hat Open (Cymbal)\\Nxsty - Open Hat (4).wav\n",
      "  - G:\\Shared drives\\PFE - ING3 Mlamali\\DrumClassifier - Sounds Dataset\\Hat Open (Cymbal)\\NM - Open Hat 3.wav\n",
      "\n",
      "# Duplicate Group 42:\n",
      "  - G:\\Shared drives\\PFE - ING3 Mlamali\\DrumClassifier - Sounds Dataset\\Hat Open (Cymbal)\\MB Open Hat (8).wav\n",
      "  - G:\\Shared drives\\PFE - ING3 Mlamali\\DrumClassifier - Sounds Dataset\\Hat Open (Cymbal)\\Open Hat (Trap).wav\n",
      "  - G:\\Shared drives\\PFE - ING3 Mlamali\\DrumClassifier - Sounds Dataset\\Hat Open (Cymbal)\\Open Hat (Classic).wav\n",
      "\n",
      "# Duplicate Group 43:\n",
      "  - G:\\Shared drives\\PFE - ING3 Mlamali\\DrumClassifier - Sounds Dataset\\Kick\\Kick 0323.flac\n",
      "  - G:\\Shared drives\\PFE - ING3 Mlamali\\DrumClassifier - Sounds Dataset\\Kick\\Kick 1471.flac\n",
      "\n",
      "# Duplicate Group 44:\n",
      "  - G:\\Shared drives\\PFE - ING3 Mlamali\\DrumClassifier - Sounds Dataset\\Clap\\Clap 0183.flac\n",
      "  - G:\\Shared drives\\PFE - ING3 Mlamali\\DrumClassifier - Sounds Dataset\\Clap\\Clap 1197.flac\n",
      "\n",
      "# Duplicate Group 45:\n",
      "  - G:\\Shared drives\\PFE - ING3 Mlamali\\DrumClassifier - Sounds Dataset\\Shaker\\Shaker (35).wav\n",
      "  - G:\\Shared drives\\PFE - ING3 Mlamali\\DrumClassifier - Sounds Dataset\\Shaker\\Shaker (46).wav\n",
      "\n",
      "# Duplicate Group 46:\n",
      "  - G:\\Shared drives\\PFE - ING3 Mlamali\\DrumClassifier - Sounds Dataset\\Clap\\Clap 0103.flac\n",
      "  - G:\\Shared drives\\PFE - ING3 Mlamali\\DrumClassifier - Sounds Dataset\\Clap\\Clap 1403.flac\n",
      "\n",
      "# Duplicate Group 47:\n",
      "  - G:\\Shared drives\\PFE - ING3 Mlamali\\DrumClassifier - Sounds Dataset\\Snap\\Snap - Click.wav\n",
      "  - G:\\Shared drives\\PFE - ING3 Mlamali\\DrumClassifier - Sounds Dataset\\Snap\\TKP - (Snap) Fatty.wav\n",
      "\n",
      "# Duplicate Group 48:\n",
      "  - G:\\Shared drives\\PFE - ING3 Mlamali\\DrumClassifier - Sounds Dataset\\Clap\\Clap 0640.flac\n",
      "  - G:\\Shared drives\\PFE - ING3 Mlamali\\DrumClassifier - Sounds Dataset\\Clap\\Clap 0805.flac\n",
      "\n",
      "# Duplicate Group 49:\n",
      "  - G:\\Shared drives\\PFE - ING3 Mlamali\\DrumClassifier - Sounds Dataset\\Clap\\Clap 1063.flac\n",
      "  - G:\\Shared drives\\PFE - ING3 Mlamali\\DrumClassifier - Sounds Dataset\\Clap\\Clap 1366.flac\n",
      "\n",
      "# Duplicate Group 50:\n",
      "  - G:\\Shared drives\\PFE - ING3 Mlamali\\DrumClassifier - Sounds Dataset\\Clap\\Clap 0154.flac\n",
      "  - G:\\Shared drives\\PFE - ING3 Mlamali\\DrumClassifier - Sounds Dataset\\Clap\\Clap 1017.flac\n",
      "\n",
      "# Duplicate Group 51:\n",
      "  - G:\\Shared drives\\PFE - ING3 Mlamali\\DrumClassifier - Sounds Dataset\\Clap\\Clap 0480.flac\n",
      "  - G:\\Shared drives\\PFE - ING3 Mlamali\\DrumClassifier - Sounds Dataset\\Clap\\Clap 0595.flac\n",
      "\n",
      "# Duplicate Group 52:\n",
      "  - G:\\Shared drives\\PFE - ING3 Mlamali\\DrumClassifier - Sounds Dataset\\Triangle\\SouthSide Trap Bell (5).wav\n",
      "  - G:\\Shared drives\\PFE - ING3 Mlamali\\DrumClassifier - Sounds Dataset\\Triangle\\Drill Triangle v4 (6).wav\n",
      "  - G:\\Shared drives\\PFE - ING3 Mlamali\\DrumClassifier - Sounds Dataset\\Triangle\\Drill Triangle v2 (2).wav\n",
      "\n",
      "# Duplicate Group 53:\n",
      "  - G:\\Shared drives\\PFE - ING3 Mlamali\\DrumClassifier - Sounds Dataset\\Shaker\\PERC - SHAKER.wav\n",
      "  - G:\\Shared drives\\PFE - ING3 Mlamali\\DrumClassifier - Sounds Dataset\\Shaker\\Shaker (Trees).wav\n",
      "\n",
      "# Duplicate Group 54:\n",
      "  - G:\\Shared drives\\PFE - ING3 Mlamali\\DrumClassifier - Sounds Dataset\\Clap\\Clap 0371.flac\n",
      "  - G:\\Shared drives\\PFE - ING3 Mlamali\\DrumClassifier - Sounds Dataset\\Clap\\Clap 1309.flac\n",
      "\n",
      "# Duplicate Group 55:\n",
      "  - G:\\Shared drives\\PFE - ING3 Mlamali\\DrumClassifier - Sounds Dataset\\Bell\\SouthSide Small Trap Bell (1).wav\n",
      "  - G:\\Shared drives\\PFE - ING3 Mlamali\\DrumClassifier - Sounds Dataset\\Bell\\Ultimate Drill Bell (7).wav\n",
      "\n",
      "# Duplicate Group 56:\n",
      "  - G:\\Shared drives\\PFE - ING3 Mlamali\\DrumClassifier - Sounds Dataset\\808\\808 (ZayPlus).wav\n",
      "  - G:\\Shared drives\\PFE - ING3 Mlamali\\DrumClassifier - Sounds Dataset\\808\\808 (21).wav\n",
      "  - G:\\Shared drives\\PFE - ING3 Mlamali\\DrumClassifier - Sounds Dataset\\808\\KBH_808_bighead_02_C#.wav\n",
      "\n",
      "# Duplicate Group 57:\n",
      "  - G:\\Shared drives\\PFE - ING3 Mlamali\\DrumClassifier - Sounds Dataset\\Bell\\Ultimate Drill Bell (6).wav\n",
      "  - G:\\Shared drives\\PFE - ING3 Mlamali\\DrumClassifier - Sounds Dataset\\Triangle\\TK Traingle (2).wav\n",
      "  - G:\\Shared drives\\PFE - ING3 Mlamali\\DrumClassifier - Sounds Dataset\\Triangle\\Drill Triangle v2 (1).wav\n",
      "\n",
      "# Duplicate Group 58:\n",
      "  - G:\\Shared drives\\PFE - ING3 Mlamali\\DrumClassifier - Sounds Dataset\\Clap\\Clap 0733.flac\n",
      "  - G:\\Shared drives\\PFE - ING3 Mlamali\\DrumClassifier - Sounds Dataset\\Clap\\Clap 0950.flac\n",
      "\n",
      "# Duplicate Group 59:\n",
      "  - G:\\Shared drives\\PFE - ING3 Mlamali\\DrumClassifier - Sounds Dataset\\Snap\\SnapStar (15).wav\n",
      "  - G:\\Shared drives\\PFE - ING3 Mlamali\\DrumClassifier - Sounds Dataset\\Snap\\Mash - Snap1.wav\n",
      "\n",
      "# Duplicate Group 60:\n",
      "  - G:\\Shared drives\\PFE - ING3 Mlamali\\DrumClassifier - Sounds Dataset\\Clap\\Clap 0000.flac\n",
      "  - G:\\Shared drives\\PFE - ING3 Mlamali\\DrumClassifier - Sounds Dataset\\Clap\\Clap 0400.flac\n",
      "\n",
      "# Duplicate Group 61:\n",
      "  - G:\\Shared drives\\PFE - ING3 Mlamali\\DrumClassifier - Sounds Dataset\\808\\EL Rythmo 808  (4).wav\n",
      "  - G:\\Shared drives\\PFE - ING3 Mlamali\\DrumClassifier - Sounds Dataset\\808\\S2H - B-Rackz x Rackz808.wav\n",
      "\n",
      "# Duplicate Group 62:\n",
      "  - G:\\Shared drives\\PFE - ING3 Mlamali\\DrumClassifier - Sounds Dataset\\Bell\\GO TO BELL.wav\n",
      "  - G:\\Shared drives\\PFE - ING3 Mlamali\\DrumClassifier - Sounds Dataset\\Bell\\Hermes Bell (1).wav\n",
      "  - G:\\Shared drives\\PFE - ING3 Mlamali\\DrumClassifier - Sounds Dataset\\Bell\\Kash Bell.wav\n",
      "  - G:\\Shared drives\\PFE - ING3 Mlamali\\DrumClassifier - Sounds Dataset\\Bell\\Nxsty - Bell (5).wav\n",
      "  - G:\\Shared drives\\PFE - ING3 Mlamali\\DrumClassifier - Sounds Dataset\\Bell\\STEEZE BELL 2.wav\n",
      "  - G:\\Shared drives\\PFE - ING3 Mlamali\\DrumClassifier - Sounds Dataset\\Bell\\STEEZE BELL.wav\n",
      "\n",
      "# Duplicate Group 63:\n",
      "  - G:\\Shared drives\\PFE - ING3 Mlamali\\DrumClassifier - Sounds Dataset\\808\\Bad Guy 808.wav\n",
      "  - G:\\Shared drives\\PFE - ING3 Mlamali\\DrumClassifier - Sounds Dataset\\808\\Bad Guy 808 (2).wav\n",
      "\n",
      "# Duplicate Group 64:\n",
      "  - G:\\Shared drives\\PFE - ING3 Mlamali\\DrumClassifier - Sounds Dataset\\Bell\\Tubular Bell 2.wav\n",
      "  - G:\\Shared drives\\PFE - ING3 Mlamali\\DrumClassifier - Sounds Dataset\\Bell\\Drill Bell v4 (3).wav\n",
      "  - G:\\Shared drives\\PFE - ING3 Mlamali\\DrumClassifier - Sounds Dataset\\Bell\\DRILL BELL.wav\n",
      "\n",
      "# Duplicate Group 65:\n",
      "  - G:\\Shared drives\\PFE - ING3 Mlamali\\DrumClassifier - Sounds Dataset\\808\\808 (Brick).wav\n",
      "  - G:\\Shared drives\\PFE - ING3 Mlamali\\DrumClassifier - Sounds Dataset\\808\\MB 808 (2).wav\n",
      "\n",
      "# Duplicate Group 66:\n",
      "  - G:\\Shared drives\\PFE - ING3 Mlamali\\DrumClassifier - Sounds Dataset\\Triangle\\Drill Triangle v4 (5).wav\n",
      "  - G:\\Shared drives\\PFE - ING3 Mlamali\\DrumClassifier - Sounds Dataset\\Triangle\\Drill Triangle v2 (4).wav\n",
      "\n",
      "# Duplicate Group 67:\n",
      "  - G:\\Shared drives\\PFE - ING3 Mlamali\\DrumClassifier - Sounds Dataset\\Triangle\\SouthSide Trap Bell (3).wav\n",
      "  - G:\\Shared drives\\PFE - ING3 Mlamali\\DrumClassifier - Sounds Dataset\\Triangle\\Drill Triangle v2 (5).wav\n",
      "\n",
      "# Duplicate Group 68:\n",
      "  - G:\\Shared drives\\PFE - ING3 Mlamali\\DrumClassifier - Sounds Dataset\\808\\808 (Phew).wav\n",
      "  - G:\\Shared drives\\PFE - ING3 Mlamali\\DrumClassifier - Sounds Dataset\\808\\KBH_808_bighead_tracy_E.wav\n",
      "\n",
      "# Duplicate Group 69:\n",
      "  - G:\\Shared drives\\PFE - ING3 Mlamali\\DrumClassifier - Sounds Dataset\\808\\Will - A - Fool 808.wav\n",
      "  - G:\\Shared drives\\PFE - ING3 Mlamali\\DrumClassifier - Sounds Dataset\\808\\8o8 (6).wav\n",
      "\n",
      "# Duplicate Group 70:\n",
      "  - G:\\Shared drives\\PFE - ING3 Mlamali\\DrumClassifier - Sounds Dataset\\808\\808 (Plug).wav\n",
      "  - G:\\Shared drives\\PFE - ING3 Mlamali\\DrumClassifier - Sounds Dataset\\808\\808 (37).wav\n",
      "\n",
      "# Duplicate Group 71:\n",
      "  - G:\\Shared drives\\PFE - ING3 Mlamali\\DrumClassifier - Sounds Dataset\\808\\808 - RAIN.wav\n",
      "  - G:\\Shared drives\\PFE - ING3 Mlamali\\DrumClassifier - Sounds Dataset\\808\\8o8 (2).wav\n",
      "\n",
      "# Duplicate Group 72:\n",
      "  - G:\\Shared drives\\PFE - ING3 Mlamali\\DrumClassifier - Sounds Dataset\\808\\808 - YEAH.wav\n",
      "  - G:\\Shared drives\\PFE - ING3 Mlamali\\DrumClassifier - Sounds Dataset\\808\\8o8 (4).wav\n",
      "\n",
      "# Duplicate Group 73:\n",
      "  - G:\\Shared drives\\PFE - ING3 Mlamali\\DrumClassifier - Sounds Dataset\\Crash (Cymbal)\\M - Abel Exclusive Crash.wav\n",
      "  - G:\\Shared drives\\PFE - ING3 Mlamali\\DrumClassifier - Sounds Dataset\\Crash (Cymbal)\\M - DP Beats Crash.wav\n",
      "  - G:\\Shared drives\\PFE - ING3 Mlamali\\DrumClassifier - Sounds Dataset\\Crash (Cymbal)\\M - Light Drill Crash.wav\n",
      "  - G:\\Shared drives\\PFE - ING3 Mlamali\\DrumClassifier - Sounds Dataset\\Crash (Cymbal)\\Nxsty - Crash (4).wav\n",
      "\n",
      "# Duplicate Group 74:\n",
      "  - G:\\Shared drives\\PFE - ING3 Mlamali\\DrumClassifier - Sounds Dataset\\808\\808 - OOOOOO.wav\n",
      "  - G:\\Shared drives\\PFE - ING3 Mlamali\\DrumClassifier - Sounds Dataset\\808\\8o8 (14).wav\n",
      "\n",
      "# Duplicate Group 75:\n",
      "  - G:\\Shared drives\\PFE - ING3 Mlamali\\DrumClassifier - Sounds Dataset\\Kick\\Kick 0983.flac\n",
      "  - G:\\Shared drives\\PFE - ING3 Mlamali\\DrumClassifier - Sounds Dataset\\Kick\\Kick 1399.flac\n",
      "\n",
      "# Duplicate Group 76:\n",
      "  - G:\\Shared drives\\PFE - ING3 Mlamali\\DrumClassifier - Sounds Dataset\\808\\Bootleg Spinz.wav\n",
      "  - G:\\Shared drives\\PFE - ING3 Mlamali\\DrumClassifier - Sounds Dataset\\808\\808 (49).wav\n",
      "\n",
      "# Duplicate Group 77:\n",
      "  - G:\\Shared drives\\PFE - ING3 Mlamali\\DrumClassifier - Sounds Dataset\\Triangle\\Triangle (Normal).wav\n",
      "  - G:\\Shared drives\\PFE - ING3 Mlamali\\DrumClassifier - Sounds Dataset\\Triangle\\Triangle 1 (Hobby - Chief Keef).wav\n",
      "  - G:\\Shared drives\\PFE - ING3 Mlamali\\DrumClassifier - Sounds Dataset\\Triangle\\LV Tri Perc.wav\n",
      "  - G:\\Shared drives\\PFE - ING3 Mlamali\\DrumClassifier - Sounds Dataset\\Triangle\\Drill Triangle v4 (1).wav\n",
      "\n",
      "# Duplicate Group 78:\n",
      "  - G:\\Shared drives\\PFE - ING3 Mlamali\\DrumClassifier - Sounds Dataset\\808\\808_21sav_2.wav\n",
      "  - G:\\Shared drives\\PFE - ING3 Mlamali\\DrumClassifier - Sounds Dataset\\808\\guidanceBASS.wav\n",
      "\n",
      "# Duplicate Group 79:\n",
      "  - G:\\Shared drives\\PFE - ING3 Mlamali\\DrumClassifier - Sounds Dataset\\808\\X 808 (26).wav\n",
      "  - G:\\Shared drives\\PFE - ING3 Mlamali\\DrumClassifier - Sounds Dataset\\808\\Red Light 808.wav\n",
      "\n",
      "# Duplicate Group 80:\n",
      "  - G:\\Shared drives\\PFE - ING3 Mlamali\\DrumClassifier - Sounds Dataset\\Triangle\\TK Traingle (8).wav\n",
      "  - G:\\Shared drives\\PFE - ING3 Mlamali\\DrumClassifier - Sounds Dataset\\Triangle\\TRIANGLE.wav\n",
      "  - G:\\Shared drives\\PFE - ING3 Mlamali\\DrumClassifier - Sounds Dataset\\Triangle\\Triangle.wav\n",
      "\n",
      "# Duplicate Group 81:\n",
      "  - G:\\Shared drives\\PFE - ING3 Mlamali\\DrumClassifier - Sounds Dataset\\Bell\\Synth Bell 15.wav\n",
      "  - G:\\Shared drives\\PFE - ING3 Mlamali\\DrumClassifier - Sounds Dataset\\Bell\\[BELLS] Nxsty UK Drill Kit V2 (55).wav\n",
      "\n",
      "# Duplicate Group 82:\n",
      "  - G:\\Shared drives\\PFE - ING3 Mlamali\\DrumClassifier - Sounds Dataset\\808\\NM - Ritual (808).wav\n",
      "  - G:\\Shared drives\\PFE - ING3 Mlamali\\DrumClassifier - Sounds Dataset\\808\\Lil Skies - 808 (4).wav\n",
      "\n",
      "# Duplicate Group 83:\n",
      "  - G:\\Shared drives\\PFE - ING3 Mlamali\\DrumClassifier - Sounds Dataset\\808\\808 6 (Classic).wav\n",
      "  - G:\\Shared drives\\PFE - ING3 Mlamali\\DrumClassifier - Sounds Dataset\\808\\808 (53).wav\n",
      "\n",
      "# Duplicate Group 84:\n",
      "  - G:\\Shared drives\\PFE - ING3 Mlamali\\DrumClassifier - Sounds Dataset\\Hat Open (Cymbal)\\sp - thin glass (open hat).wav\n",
      "  - G:\\Shared drives\\PFE - ING3 Mlamali\\DrumClassifier - Sounds Dataset\\Hat Open (Cymbal)\\plug - candy (open hat).wav\n",
      "\n",
      "# Duplicate Group 85:\n",
      "  - G:\\Shared drives\\PFE - ING3 Mlamali\\DrumClassifier - Sounds Dataset\\808\\Nav Life 808 (4).wav\n",
      "  - G:\\Shared drives\\PFE - ING3 Mlamali\\DrumClassifier - Sounds Dataset\\808\\Wonda 808 (1).wav\n",
      "\n",
      "# Duplicate Group 86:\n",
      "  - G:\\Shared drives\\PFE - ING3 Mlamali\\DrumClassifier - Sounds Dataset\\808\\808 - YUP.wav\n",
      "  - G:\\Shared drives\\PFE - ING3 Mlamali\\DrumClassifier - Sounds Dataset\\808\\8o8 (9).wav\n",
      "\n",
      "# Duplicate Group 87:\n",
      "  - G:\\Shared drives\\PFE - ING3 Mlamali\\DrumClassifier - Sounds Dataset\\808\\808 (1Piece).wav\n",
      "  - G:\\Shared drives\\PFE - ING3 Mlamali\\DrumClassifier - Sounds Dataset\\808\\808 1Piece.wav\n",
      "\n",
      "# Duplicate Group 88:\n",
      "  - G:\\Shared drives\\PFE - ING3 Mlamali\\DrumClassifier - Sounds Dataset\\808\\KB - Live Corn 808.wav\n",
      "  - G:\\Shared drives\\PFE - ING3 Mlamali\\DrumClassifier - Sounds Dataset\\808\\Melo - Worm [808].wav\n",
      "\n",
      "# Duplicate Group 89:\n",
      "  - G:\\Shared drives\\PFE - ING3 Mlamali\\DrumClassifier - Sounds Dataset\\Crash (Cymbal)\\HI CRASH.wav\n",
      "  - G:\\Shared drives\\PFE - ING3 Mlamali\\DrumClassifier - Sounds Dataset\\Crash (Cymbal)\\MB Crash (9).wav\n",
      "\n",
      "# Duplicate Group 90:\n",
      "  - G:\\Shared drives\\PFE - ING3 Mlamali\\DrumClassifier - Sounds Dataset\\808\\808 Bass Cm Trunk Shaker.wav\n",
      "  - G:\\Shared drives\\PFE - ING3 Mlamali\\DrumClassifier - Sounds Dataset\\808\\808 (40).wav\n",
      "\n",
      "# Duplicate Group 91:\n",
      "  - G:\\Shared drives\\PFE - ING3 Mlamali\\DrumClassifier - Sounds Dataset\\Bell\\MB Tubular Bell.wav\n",
      "  - G:\\Shared drives\\PFE - ING3 Mlamali\\DrumClassifier - Sounds Dataset\\Bell\\Drill Bell v2 (1).wav\n",
      "\n",
      "# Duplicate Group 92:\n",
      "  - G:\\Shared drives\\PFE - ING3 Mlamali\\DrumClassifier - Sounds Dataset\\Bell\\Bell 09.wav\n",
      "  - G:\\Shared drives\\PFE - ING3 Mlamali\\DrumClassifier - Sounds Dataset\\Bell\\[BELLS] Nxsty UK Drill Kit V2 (8).wav\n",
      "\n",
      "# Duplicate Group 93:\n",
      "  - G:\\Shared drives\\PFE - ING3 Mlamali\\DrumClassifier - Sounds Dataset\\Bell\\Bell 10.wav\n",
      "  - G:\\Shared drives\\PFE - ING3 Mlamali\\DrumClassifier - Sounds Dataset\\Bell\\[BELLS] Nxsty UK Drill Kit V2 (9).wav\n",
      "\n",
      "# Duplicate Group 94:\n",
      "  - G:\\Shared drives\\PFE - ING3 Mlamali\\DrumClassifier - Sounds Dataset\\Bell\\Real Bell 18.wav\n",
      "  - G:\\Shared drives\\PFE - ING3 Mlamali\\DrumClassifier - Sounds Dataset\\Bell\\[BELLS] Nxsty UK Drill Kit V2 (37).wav\n",
      "\n",
      "# Duplicate Group 95:\n",
      "  - G:\\Shared drives\\PFE - ING3 Mlamali\\DrumClassifier - Sounds Dataset\\Bell\\Real Bell 16.wav\n",
      "  - G:\\Shared drives\\PFE - ING3 Mlamali\\DrumClassifier - Sounds Dataset\\Bell\\[BELLS] Nxsty UK Drill Kit V2 (35).wav\n",
      "\n",
      "# Duplicate Group 96:\n",
      "  - G:\\Shared drives\\PFE - ING3 Mlamali\\DrumClassifier - Sounds Dataset\\808\\808 (19).wav\n",
      "  - G:\\Shared drives\\PFE - ING3 Mlamali\\DrumClassifier - Sounds Dataset\\808\\808 (34).wav\n",
      "\n",
      "# Duplicate Group 97:\n",
      "  - G:\\Shared drives\\PFE - ING3 Mlamali\\DrumClassifier - Sounds Dataset\\808\\Evil 808.wav\n",
      "  - G:\\Shared drives\\PFE - ING3 Mlamali\\DrumClassifier - Sounds Dataset\\808\\Gritty 808.wav\n",
      "\n",
      "# Duplicate Group 98:\n",
      "  - G:\\Shared drives\\PFE - ING3 Mlamali\\DrumClassifier - Sounds Dataset\\808\\808 - DYNA.wav\n",
      "  - G:\\Shared drives\\PFE - ING3 Mlamali\\DrumClassifier - Sounds Dataset\\808\\8o8 (3).wav\n",
      "\n",
      "# Duplicate Group 99:\n",
      "  - G:\\Shared drives\\PFE - ING3 Mlamali\\DrumClassifier - Sounds Dataset\\Bell\\Synth Bell 01.wav\n",
      "  - G:\\Shared drives\\PFE - ING3 Mlamali\\DrumClassifier - Sounds Dataset\\Bell\\[BELLS] Nxsty UK Drill Kit V2 (41).wav\n",
      "\n",
      "# Duplicate Group 100:\n",
      "  - G:\\Shared drives\\PFE - ING3 Mlamali\\DrumClassifier - Sounds Dataset\\Bell\\Synth Bell 05.wav\n",
      "  - G:\\Shared drives\\PFE - ING3 Mlamali\\DrumClassifier - Sounds Dataset\\Bell\\[BELLS] Nxsty UK Drill Kit V2 (45).wav\n",
      "\n",
      "# Duplicate Group 101:\n",
      "  - G:\\Shared drives\\PFE - ING3 Mlamali\\DrumClassifier - Sounds Dataset\\Bell\\SouthSide Organ Bell.wav\n",
      "  - G:\\Shared drives\\PFE - ING3 Mlamali\\DrumClassifier - Sounds Dataset\\Bell\\Nxsty - Bell (10).wav\n",
      "\n",
      "# Duplicate Group 102:\n",
      "  - G:\\Shared drives\\PFE - ING3 Mlamali\\DrumClassifier - Sounds Dataset\\Clap\\Clap 0490.flac\n",
      "  - G:\\Shared drives\\PFE - ING3 Mlamali\\DrumClassifier - Sounds Dataset\\Clap\\Clap 0772.flac\n",
      "\n",
      "# Duplicate Group 103:\n",
      "  - G:\\Shared drives\\PFE - ING3 Mlamali\\DrumClassifier - Sounds Dataset\\808\\808 (22).wav\n",
      "  - G:\\Shared drives\\PFE - ING3 Mlamali\\DrumClassifier - Sounds Dataset\\808\\808 (52).wav\n",
      "\n",
      "# Duplicate Group 104:\n",
      "  - G:\\Shared drives\\PFE - ING3 Mlamali\\DrumClassifier - Sounds Dataset\\808\\SB - Metro (808).wav\n",
      "  - G:\\Shared drives\\PFE - ING3 Mlamali\\DrumClassifier - Sounds Dataset\\808\\MB 808 (6).wav\n",
      "\n",
      "# Duplicate Group 105:\n",
      "  - G:\\Shared drives\\PFE - ING3 Mlamali\\DrumClassifier - Sounds Dataset\\808\\NM - Jumanji (808).wav\n",
      "  - G:\\Shared drives\\PFE - ING3 Mlamali\\DrumClassifier - Sounds Dataset\\808\\Lil Skies - 808 (2).wav\n",
      "\n",
      "# Duplicate Group 106:\n",
      "  - G:\\Shared drives\\PFE - ING3 Mlamali\\DrumClassifier - Sounds Dataset\\808\\X 808 (17).wav\n",
      "  - G:\\Shared drives\\PFE - ING3 Mlamali\\DrumClassifier - Sounds Dataset\\808\\Icy 808.wav\n",
      "\n",
      "# Duplicate Group 107:\n",
      "  - G:\\Shared drives\\PFE - ING3 Mlamali\\DrumClassifier - Sounds Dataset\\808\\808 (13).wav\n",
      "  - G:\\Shared drives\\PFE - ING3 Mlamali\\DrumClassifier - Sounds Dataset\\808\\OvO - 808 (8).wav\n",
      "\n",
      "# Duplicate Group 108:\n",
      "  - G:\\Shared drives\\PFE - ING3 Mlamali\\DrumClassifier - Sounds Dataset\\808\\808Star (6).wav\n",
      "  - G:\\Shared drives\\PFE - ING3 Mlamali\\DrumClassifier - Sounds Dataset\\808\\Ronny J 808.wav\n",
      "\n",
      "# Duplicate Group 109:\n",
      "  - G:\\Shared drives\\PFE - ING3 Mlamali\\DrumClassifier - Sounds Dataset\\Bell\\SouthSide Tubular Bell (3).wav\n",
      "  - G:\\Shared drives\\PFE - ING3 Mlamali\\DrumClassifier - Sounds Dataset\\Bell\\Crazy - Bell (1).wav\n",
      "  - G:\\Shared drives\\PFE - ING3 Mlamali\\DrumClassifier - Sounds Dataset\\Bell\\Nxsty - Bell (1).wav\n",
      "  - G:\\Shared drives\\PFE - ING3 Mlamali\\DrumClassifier - Sounds Dataset\\Bell\\Ultimate Drill Bell (1).wav\n",
      "\n",
      "# Duplicate Group 110:\n",
      "  - G:\\Shared drives\\PFE - ING3 Mlamali\\DrumClassifier - Sounds Dataset\\Bell\\M - Meek Mill Bell.wav\n",
      "  - G:\\Shared drives\\PFE - ING3 Mlamali\\DrumClassifier - Sounds Dataset\\Bell\\Nxsty - Bell (7).wav\n",
      "\n",
      "# Duplicate Group 111:\n",
      "  - G:\\Shared drives\\PFE - ING3 Mlamali\\DrumClassifier - Sounds Dataset\\Crash (Cymbal)\\Trap Crash.wav\n",
      "  - G:\\Shared drives\\PFE - ING3 Mlamali\\DrumClassifier - Sounds Dataset\\Crash (Cymbal)\\DRILL CRASH.wav\n",
      "  - G:\\Shared drives\\PFE - ING3 Mlamali\\DrumClassifier - Sounds Dataset\\Crash (Cymbal)\\M - Drill Crash.wav\n",
      "  - G:\\Shared drives\\PFE - ING3 Mlamali\\DrumClassifier - Sounds Dataset\\Crash (Cymbal)\\MB Crash (1).wav\n",
      "  - G:\\Shared drives\\PFE - ING3 Mlamali\\DrumClassifier - Sounds Dataset\\Crash (Cymbal)\\[Crash] Drill (Drillers).wav\n",
      "\n",
      "# Duplicate Group 112:\n",
      "  - G:\\Shared drives\\PFE - ING3 Mlamali\\DrumClassifier - Sounds Dataset\\808\\NM - Jungle (808).wav\n",
      "  - G:\\Shared drives\\PFE - ING3 Mlamali\\DrumClassifier - Sounds Dataset\\808\\Lil Skies - 808 (1).wav\n",
      "\n",
      "# Duplicate Group 113:\n",
      "  - G:\\Shared drives\\PFE - ING3 Mlamali\\DrumClassifier - Sounds Dataset\\Crash (Cymbal)\\US CRASH.wav\n",
      "  - G:\\Shared drives\\PFE - ING3 Mlamali\\DrumClassifier - Sounds Dataset\\Crash (Cymbal)\\M - Kaiser Crash 1.wav\n",
      "  - G:\\Shared drives\\PFE - ING3 Mlamali\\DrumClassifier - Sounds Dataset\\Crash (Cymbal)\\MB Crash (5).wav\n",
      "\n",
      "# Duplicate Group 114:\n",
      "  - G:\\Shared drives\\PFE - ING3 Mlamali\\DrumClassifier - Sounds Dataset\\808\\NM - Bodega (808).wav\n",
      "  - G:\\Shared drives\\PFE - ING3 Mlamali\\DrumClassifier - Sounds Dataset\\808\\Lil Skies - 808 (3).wav\n",
      "\n",
      "# Duplicate Group 115:\n",
      "  - G:\\Shared drives\\PFE - ING3 Mlamali\\DrumClassifier - Sounds Dataset\\Bell\\Drill Bell v4 (1).wav\n",
      "  - G:\\Shared drives\\PFE - ING3 Mlamali\\DrumClassifier - Sounds Dataset\\Bell\\Cold Bell.wav\n",
      "  - G:\\Shared drives\\PFE - ING3 Mlamali\\DrumClassifier - Sounds Dataset\\Bell\\Crazy Bell (4).wav\n",
      "  - G:\\Shared drives\\PFE - ING3 Mlamali\\DrumClassifier - Sounds Dataset\\Bell\\Nxsty - Bell (4).wav\n",
      "  - G:\\Shared drives\\PFE - ING3 Mlamali\\DrumClassifier - Sounds Dataset\\Bell\\STEEZE BELL 1.wav\n",
      "\n",
      "# Duplicate Group 116:\n",
      "  - G:\\Shared drives\\PFE - ING3 Mlamali\\DrumClassifier - Sounds Dataset\\808\\BWZYSub_4.wav\n",
      "  - G:\\Shared drives\\PFE - ING3 Mlamali\\DrumClassifier - Sounds Dataset\\808\\8o8 (40).wav\n",
      "\n",
      "# Duplicate Group 117:\n",
      "  - G:\\Shared drives\\PFE - ING3 Mlamali\\DrumClassifier - Sounds Dataset\\808\\NM - Sands (808).wav\n",
      "  - G:\\Shared drives\\PFE - ING3 Mlamali\\DrumClassifier - Sounds Dataset\\808\\Lil Skies - 808 (5).wav\n",
      "\n",
      "# Duplicate Group 118:\n",
      "  - G:\\Shared drives\\PFE - ING3 Mlamali\\DrumClassifier - Sounds Dataset\\808\\808 - EIGHT.wav\n",
      "  - G:\\Shared drives\\PFE - ING3 Mlamali\\DrumClassifier - Sounds Dataset\\808\\8o8 (11).wav\n",
      "\n",
      "# Duplicate Group 119:\n",
      "  - G:\\Shared drives\\PFE - ING3 Mlamali\\DrumClassifier - Sounds Dataset\\Bell\\Synth Bell 04.wav\n",
      "  - G:\\Shared drives\\PFE - ING3 Mlamali\\DrumClassifier - Sounds Dataset\\Bell\\[BELLS] Nxsty UK Drill Kit V2 (44).wav\n",
      "\n",
      "# Duplicate Group 120:\n",
      "  - G:\\Shared drives\\PFE - ING3 Mlamali\\DrumClassifier - Sounds Dataset\\Bell\\SouthSide Tubular Bell (5).wav\n",
      "  - G:\\Shared drives\\PFE - ING3 Mlamali\\DrumClassifier - Sounds Dataset\\Bell\\Nxsty - Bell (3).wav\n",
      "  - G:\\Shared drives\\PFE - ING3 Mlamali\\DrumClassifier - Sounds Dataset\\Bell\\STEEZE BELL 5.wav\n",
      "  - G:\\Shared drives\\PFE - ING3 Mlamali\\DrumClassifier - Sounds Dataset\\Bell\\Tubular Bell (Drenched).wav\n",
      "  - G:\\Shared drives\\PFE - ING3 Mlamali\\DrumClassifier - Sounds Dataset\\Bell\\Ultimate Drill Bell (2).wav\n",
      "  - G:\\Shared drives\\PFE - ING3 Mlamali\\DrumClassifier - Sounds Dataset\\Bell\\Wham Bell.wav\n",
      "\n",
      "# Duplicate Group 121:\n",
      "  - G:\\Shared drives\\PFE - ING3 Mlamali\\DrumClassifier - Sounds Dataset\\Bell\\M - Last Whip Bell 2.wav\n",
      "  - G:\\Shared drives\\PFE - ING3 Mlamali\\DrumClassifier - Sounds Dataset\\Bell\\M - Last Whip Bell.wav\n",
      "\n",
      "# Duplicate Group 122:\n",
      "  - G:\\Shared drives\\PFE - ING3 Mlamali\\DrumClassifier - Sounds Dataset\\Bell\\Bell 07.wav\n",
      "  - G:\\Shared drives\\PFE - ING3 Mlamali\\DrumClassifier - Sounds Dataset\\Bell\\[BELLS] Nxsty UK Drill Kit V2 (6).wav\n",
      "\n",
      "# Duplicate Group 123:\n",
      "  - G:\\Shared drives\\PFE - ING3 Mlamali\\DrumClassifier - Sounds Dataset\\Crash (Cymbal)\\M - Kaiser Carti Crash.wav\n",
      "  - G:\\Shared drives\\PFE - ING3 Mlamali\\DrumClassifier - Sounds Dataset\\Crash (Cymbal)\\M - Kaiser Crash 2.wav\n",
      "\n",
      "# Duplicate Group 124:\n",
      "  - G:\\Shared drives\\PFE - ING3 Mlamali\\DrumClassifier - Sounds Dataset\\Bell\\M - Kaiser Bell.wav\n",
      "  - G:\\Shared drives\\PFE - ING3 Mlamali\\DrumClassifier - Sounds Dataset\\Bell\\Nxsty - Bell (6).wav\n",
      "\n",
      "# Duplicate Group 125:\n",
      "  - G:\\Shared drives\\PFE - ING3 Mlamali\\DrumClassifier - Sounds Dataset\\808\\Lil Skies - 808 (9).wav\n",
      "  - G:\\Shared drives\\PFE - ING3 Mlamali\\DrumClassifier - Sounds Dataset\\808\\808 (46).wav\n",
      "\n",
      "# Duplicate Group 126:\n",
      "  - G:\\Shared drives\\PFE - ING3 Mlamali\\DrumClassifier - Sounds Dataset\\808\\808 - Guirri .wav\n",
      "  - G:\\Shared drives\\PFE - ING3 Mlamali\\DrumClassifier - Sounds Dataset\\808\\808 (60).wav\n",
      "\n",
      "# Duplicate Group 127:\n",
      "  - G:\\Shared drives\\PFE - ING3 Mlamali\\DrumClassifier - Sounds Dataset\\808\\808 (9).wav\n",
      "  - G:\\Shared drives\\PFE - ING3 Mlamali\\DrumClassifier - Sounds Dataset\\808\\OvO - 808 (7).wav\n",
      "  - G:\\Shared drives\\PFE - ING3 Mlamali\\DrumClassifier - Sounds Dataset\\808\\808 (54).wav\n",
      "\n",
      "# Duplicate Group 128:\n",
      "  - G:\\Shared drives\\PFE - ING3 Mlamali\\DrumClassifier - Sounds Dataset\\Bell\\Synth Bell 03.wav\n",
      "  - G:\\Shared drives\\PFE - ING3 Mlamali\\DrumClassifier - Sounds Dataset\\Bell\\[BELLS] Nxsty UK Drill Kit V2 (43).wav\n",
      "\n",
      "# Duplicate Group 129:\n",
      "  - G:\\Shared drives\\PFE - ING3 Mlamali\\DrumClassifier - Sounds Dataset\\Bell\\Synth Bell 11.wav\n",
      "  - G:\\Shared drives\\PFE - ING3 Mlamali\\DrumClassifier - Sounds Dataset\\Bell\\[BELLS] Nxsty UK Drill Kit V2 (51).wav\n",
      "\n",
      "# Duplicate Group 130:\n",
      "  - G:\\Shared drives\\PFE - ING3 Mlamali\\DrumClassifier - Sounds Dataset\\Bell\\Synth Bell 13.wav\n",
      "  - G:\\Shared drives\\PFE - ING3 Mlamali\\DrumClassifier - Sounds Dataset\\Bell\\[BELLS] Nxsty UK Drill Kit V2 (53).wav\n",
      "\n",
      "# Duplicate Group 131:\n",
      "  - G:\\Shared drives\\PFE - ING3 Mlamali\\DrumClassifier - Sounds Dataset\\Bell\\Synth Bell 19.wav\n",
      "  - G:\\Shared drives\\PFE - ING3 Mlamali\\DrumClassifier - Sounds Dataset\\Bell\\[BELLS] Nxsty UK Drill Kit V2 (59).wav\n",
      "\n",
      "# Duplicate Group 132:\n",
      "  - G:\\Shared drives\\PFE - ING3 Mlamali\\DrumClassifier - Sounds Dataset\\Bell\\Bell 05.wav\n",
      "  - G:\\Shared drives\\PFE - ING3 Mlamali\\DrumClassifier - Sounds Dataset\\Bell\\[BELLS] Nxsty UK Drill Kit V2 (4).wav\n",
      "\n",
      "# Duplicate Group 133:\n",
      "  - G:\\Shared drives\\PFE - ING3 Mlamali\\DrumClassifier - Sounds Dataset\\Crash (Cymbal)\\OVO Crash [Care].ogg\n",
      "  - G:\\Shared drives\\PFE - ING3 Mlamali\\DrumClassifier - Sounds Dataset\\Crash (Cymbal)\\OVO Crash [Hold].ogg\n",
      "\n",
      "# Duplicate Group 134:\n",
      "  - G:\\Shared drives\\PFE - ING3 Mlamali\\DrumClassifier - Sounds Dataset\\808\\808 - BACKER.wav\n",
      "  - G:\\Shared drives\\PFE - ING3 Mlamali\\DrumClassifier - Sounds Dataset\\808\\8o8 (7).wav\n",
      "\n",
      "# Duplicate Group 135:\n",
      "  - G:\\Shared drives\\PFE - ING3 Mlamali\\DrumClassifier - Sounds Dataset\\Bell\\Bell 06.wav\n",
      "  - G:\\Shared drives\\PFE - ING3 Mlamali\\DrumClassifier - Sounds Dataset\\Bell\\[BELLS] Nxsty UK Drill Kit V2 (5).wav\n",
      "\n",
      "# Duplicate Group 136:\n",
      "  - G:\\Shared drives\\PFE - ING3 Mlamali\\DrumClassifier - Sounds Dataset\\Bell\\Synth Bell 16.wav\n",
      "  - G:\\Shared drives\\PFE - ING3 Mlamali\\DrumClassifier - Sounds Dataset\\Bell\\[BELLS] Nxsty UK Drill Kit V2 (56).wav\n",
      "\n",
      "# Duplicate Group 137:\n",
      "  - G:\\Shared drives\\PFE - ING3 Mlamali\\DrumClassifier - Sounds Dataset\\Bell\\Bell 18.wav\n",
      "  - G:\\Shared drives\\PFE - ING3 Mlamali\\DrumClassifier - Sounds Dataset\\Bell\\[BELLS] Nxsty UK Drill Kit V2 (17).wav\n",
      "\n",
      "# Duplicate Group 138:\n",
      "  - G:\\Shared drives\\PFE - ING3 Mlamali\\DrumClassifier - Sounds Dataset\\Crash (Cymbal)\\OVO Crash [Bottom].ogg\n",
      "  - G:\\Shared drives\\PFE - ING3 Mlamali\\DrumClassifier - Sounds Dataset\\Crash (Cymbal)\\OVO Crash [Drake].ogg\n",
      "\n",
      "# Duplicate Group 139:\n",
      "  - G:\\Shared drives\\PFE - ING3 Mlamali\\DrumClassifier - Sounds Dataset\\Bell\\Synth Bell 08.wav\n",
      "  - G:\\Shared drives\\PFE - ING3 Mlamali\\DrumClassifier - Sounds Dataset\\Bell\\[BELLS] Nxsty UK Drill Kit V2 (48).wav\n",
      "\n",
      "# Duplicate Group 140:\n",
      "  - G:\\Shared drives\\PFE - ING3 Mlamali\\DrumClassifier - Sounds Dataset\\Bell\\Real Bell 17.wav\n",
      "  - G:\\Shared drives\\PFE - ING3 Mlamali\\DrumClassifier - Sounds Dataset\\Bell\\[BELLS] Nxsty UK Drill Kit V2 (36).wav\n",
      "\n",
      "# Duplicate Group 141:\n",
      "  - G:\\Shared drives\\PFE - ING3 Mlamali\\DrumClassifier - Sounds Dataset\\808\\Avalanche 808 .wav\n",
      "  - G:\\Shared drives\\PFE - ING3 Mlamali\\DrumClassifier - Sounds Dataset\\808\\Distortion 808 - 2.wav\n",
      "\n",
      "# Duplicate Group 142:\n",
      "  - G:\\Shared drives\\PFE - ING3 Mlamali\\DrumClassifier - Sounds Dataset\\Bell\\Bell 03.wav\n",
      "  - G:\\Shared drives\\PFE - ING3 Mlamali\\DrumClassifier - Sounds Dataset\\Bell\\[BELLS] Nxsty UK Drill Kit V2 (2).wav\n",
      "\n",
      "# Duplicate Group 143:\n",
      "  - G:\\Shared drives\\PFE - ING3 Mlamali\\DrumClassifier - Sounds Dataset\\Bell\\Bell 12.wav\n",
      "  - G:\\Shared drives\\PFE - ING3 Mlamali\\DrumClassifier - Sounds Dataset\\Bell\\[BELLS] Nxsty UK Drill Kit V2 (11).wav\n",
      "\n",
      "# Duplicate Group 144:\n",
      "  - G:\\Shared drives\\PFE - ING3 Mlamali\\DrumClassifier - Sounds Dataset\\Bell\\Synth Bell 06.wav\n",
      "  - G:\\Shared drives\\PFE - ING3 Mlamali\\DrumClassifier - Sounds Dataset\\Bell\\[BELLS] Nxsty UK Drill Kit V2 (46).wav\n",
      "\n",
      "# Duplicate Group 145:\n",
      "  - G:\\Shared drives\\PFE - ING3 Mlamali\\DrumClassifier - Sounds Dataset\\Bell\\Real Bell 10.wav\n",
      "  - G:\\Shared drives\\PFE - ING3 Mlamali\\DrumClassifier - Sounds Dataset\\Bell\\[BELLS] Nxsty UK Drill Kit V2 (29).wav\n",
      "\n",
      "# Duplicate Group 146:\n",
      "  - G:\\Shared drives\\PFE - ING3 Mlamali\\DrumClassifier - Sounds Dataset\\Bell\\MB Church Bell.wav\n",
      "  - G:\\Shared drives\\PFE - ING3 Mlamali\\DrumClassifier - Sounds Dataset\\Bell\\TK Bell (3).wav\n",
      "\n",
      "# Duplicate Group 147:\n",
      "  - G:\\Shared drives\\PFE - ING3 Mlamali\\DrumClassifier - Sounds Dataset\\Bell\\Real Bell 12.wav\n",
      "  - G:\\Shared drives\\PFE - ING3 Mlamali\\DrumClassifier - Sounds Dataset\\Bell\\[BELLS] Nxsty UK Drill Kit V2 (31).wav\n",
      "\n",
      "# Duplicate Group 148:\n",
      "  - G:\\Shared drives\\PFE - ING3 Mlamali\\DrumClassifier - Sounds Dataset\\Bell\\Real Bell 15.wav\n",
      "  - G:\\Shared drives\\PFE - ING3 Mlamali\\DrumClassifier - Sounds Dataset\\Bell\\[BELLS] Nxsty UK Drill Kit V2 (34).wav\n",
      "\n",
      "# Duplicate Group 149:\n",
      "  - G:\\Shared drives\\PFE - ING3 Mlamali\\DrumClassifier - Sounds Dataset\\Triangle\\Maud Triangle.wav\n",
      "  - G:\\Shared drives\\PFE - ING3 Mlamali\\DrumClassifier - Sounds Dataset\\Triangle\\STEEZE TRIANGLE 2.wav\n",
      "  - G:\\Shared drives\\PFE - ING3 Mlamali\\DrumClassifier - Sounds Dataset\\Triangle\\Drill Triangle v2 (3).wav\n",
      "\n",
      "# Duplicate Group 150:\n",
      "  - G:\\Shared drives\\PFE - ING3 Mlamali\\DrumClassifier - Sounds Dataset\\Crash (Cymbal)\\Nxsty - Crash (2).wav\n",
      "  - G:\\Shared drives\\PFE - ING3 Mlamali\\DrumClassifier - Sounds Dataset\\Crash (Cymbal)\\Nxsty - Crash (5).wav\n",
      "\n",
      "# Duplicate Group 151:\n",
      "  - G:\\Shared drives\\PFE - ING3 Mlamali\\DrumClassifier - Sounds Dataset\\Bell\\Bell 14.wav\n",
      "  - G:\\Shared drives\\PFE - ING3 Mlamali\\DrumClassifier - Sounds Dataset\\Bell\\[BELLS] Nxsty UK Drill Kit V2 (13).wav\n",
      "\n",
      "# Duplicate Group 152:\n",
      "  - G:\\Shared drives\\PFE - ING3 Mlamali\\DrumClassifier - Sounds Dataset\\Bell\\Synth Bell 09.wav\n",
      "  - G:\\Shared drives\\PFE - ING3 Mlamali\\DrumClassifier - Sounds Dataset\\Bell\\[BELLS] Nxsty UK Drill Kit V2 (49).wav\n",
      "\n",
      "# Duplicate Group 153:\n",
      "  - G:\\Shared drives\\PFE - ING3 Mlamali\\DrumClassifier - Sounds Dataset\\Bell\\Bell 19.wav\n",
      "  - G:\\Shared drives\\PFE - ING3 Mlamali\\DrumClassifier - Sounds Dataset\\Bell\\[BELLS] Nxsty UK Drill Kit V2 (18).wav\n",
      "\n",
      "# Duplicate Group 154:\n",
      "  - G:\\Shared drives\\PFE - ING3 Mlamali\\DrumClassifier - Sounds Dataset\\Bell\\Real Bell 14.wav\n",
      "  - G:\\Shared drives\\PFE - ING3 Mlamali\\DrumClassifier - Sounds Dataset\\Bell\\[BELLS] Nxsty UK Drill Kit V2 (33).wav\n",
      "\n",
      "# Duplicate Group 155:\n",
      "  - G:\\Shared drives\\PFE - ING3 Mlamali\\DrumClassifier - Sounds Dataset\\Bell\\Bell 20.wav\n",
      "  - G:\\Shared drives\\PFE - ING3 Mlamali\\DrumClassifier - Sounds Dataset\\Bell\\[BELLS] Nxsty UK Drill Kit V2 (19).wav\n",
      "\n",
      "# Duplicate Group 156:\n",
      "  - G:\\Shared drives\\PFE - ING3 Mlamali\\DrumClassifier - Sounds Dataset\\Bell\\Bell 08.wav\n",
      "  - G:\\Shared drives\\PFE - ING3 Mlamali\\DrumClassifier - Sounds Dataset\\Bell\\[BELLS] Nxsty UK Drill Kit V2 (7).wav\n",
      "\n",
      "# Duplicate Group 157:\n",
      "  - G:\\Shared drives\\PFE - ING3 Mlamali\\DrumClassifier - Sounds Dataset\\Bell\\Synth Bell 10.wav\n",
      "  - G:\\Shared drives\\PFE - ING3 Mlamali\\DrumClassifier - Sounds Dataset\\Bell\\[BELLS] Nxsty UK Drill Kit V2 (50).wav\n",
      "\n",
      "# Duplicate Group 158:\n",
      "  - G:\\Shared drives\\PFE - ING3 Mlamali\\DrumClassifier - Sounds Dataset\\Bell\\Bell 001 Revved.wav\n",
      "  - G:\\Shared drives\\PFE - ING3 Mlamali\\DrumClassifier - Sounds Dataset\\Bell\\Hermes Bell (4).wav\n",
      "\n",
      "# Duplicate Group 159:\n",
      "  - G:\\Shared drives\\PFE - ING3 Mlamali\\DrumClassifier - Sounds Dataset\\Bell\\SLIGHT BELLS (3).wav\n",
      "  - G:\\Shared drives\\PFE - ING3 Mlamali\\DrumClassifier - Sounds Dataset\\Bell\\SouthSide Tubular Bell (4).wav\n",
      "  - G:\\Shared drives\\PFE - ING3 Mlamali\\DrumClassifier - Sounds Dataset\\Bell\\Drill Bell v4 (2).wav\n",
      "  - G:\\Shared drives\\PFE - ING3 Mlamali\\DrumClassifier - Sounds Dataset\\Bell\\M - KJ Beatz 2AM Bell.wav\n",
      "  - G:\\Shared drives\\PFE - ING3 Mlamali\\DrumClassifier - Sounds Dataset\\Bell\\Tubular Bell (Heavy).wav\n",
      "\n",
      "# Duplicate Group 160:\n",
      "  - G:\\Shared drives\\PFE - ING3 Mlamali\\DrumClassifier - Sounds Dataset\\Bell\\Real Bell 20.wav\n",
      "  - G:\\Shared drives\\PFE - ING3 Mlamali\\DrumClassifier - Sounds Dataset\\Bell\\[BELLS] Nxsty UK Drill Kit V2 (39).wav\n",
      "\n",
      "# Duplicate Group 161:\n",
      "  - G:\\Shared drives\\PFE - ING3 Mlamali\\DrumClassifier - Sounds Dataset\\Bell\\Real Bell 19.wav\n",
      "  - G:\\Shared drives\\PFE - ING3 Mlamali\\DrumClassifier - Sounds Dataset\\Bell\\[BELLS] Nxsty UK Drill Kit V2 (38).wav\n",
      "\n",
      "# Duplicate Group 162:\n",
      "  - G:\\Shared drives\\PFE - ING3 Mlamali\\DrumClassifier - Sounds Dataset\\Bell\\Tubular Bell 1.wav\n",
      "  - G:\\Shared drives\\PFE - ING3 Mlamali\\DrumClassifier - Sounds Dataset\\Bell\\[BELLS] Nxsty UK Drill Kit V2 (60).wav\n",
      "\n",
      "# Duplicate Group 163:\n",
      "  - G:\\Shared drives\\PFE - ING3 Mlamali\\DrumClassifier - Sounds Dataset\\Bell\\Synth Bell 12.wav\n",
      "  - G:\\Shared drives\\PFE - ING3 Mlamali\\DrumClassifier - Sounds Dataset\\Bell\\[BELLS] Nxsty UK Drill Kit V2 (52).wav\n",
      "\n",
      "# Duplicate Group 164:\n",
      "  - G:\\Shared drives\\PFE - ING3 Mlamali\\DrumClassifier - Sounds Dataset\\Bell\\Synth Bell 14.wav\n",
      "  - G:\\Shared drives\\PFE - ING3 Mlamali\\DrumClassifier - Sounds Dataset\\Bell\\[BELLS] Nxsty UK Drill Kit V2 (54).wav\n",
      "\n",
      "# Duplicate Group 165:\n",
      "  - G:\\Shared drives\\PFE - ING3 Mlamali\\DrumClassifier - Sounds Dataset\\Bell\\Real Bell 21.wav\n",
      "  - G:\\Shared drives\\PFE - ING3 Mlamali\\DrumClassifier - Sounds Dataset\\Bell\\[BELLS] Nxsty UK Drill Kit V2 (40).wav\n",
      "\n",
      "# Duplicate Group 166:\n",
      "  - G:\\Shared drives\\PFE - ING3 Mlamali\\DrumClassifier - Sounds Dataset\\Bell\\Real Bell 04.wav\n",
      "  - G:\\Shared drives\\PFE - ING3 Mlamali\\DrumClassifier - Sounds Dataset\\Bell\\[BELLS] Nxsty UK Drill Kit V2 (23).wav\n",
      "\n",
      "# Duplicate Group 167:\n",
      "  - G:\\Shared drives\\PFE - ING3 Mlamali\\DrumClassifier - Sounds Dataset\\Bell\\SouthSide Church Bell (1).wav\n",
      "  - G:\\Shared drives\\PFE - ING3 Mlamali\\DrumClassifier - Sounds Dataset\\Bell\\Hermes Bell (3).wav\n",
      "  - G:\\Shared drives\\PFE - ING3 Mlamali\\DrumClassifier - Sounds Dataset\\Bell\\Nxsty - Bell (9).wav\n",
      "  - G:\\Shared drives\\PFE - ING3 Mlamali\\DrumClassifier - Sounds Dataset\\Bell\\Signature Bell.wav\n",
      "  - G:\\Shared drives\\PFE - ING3 Mlamali\\DrumClassifier - Sounds Dataset\\Bell\\STEEZE BELL 4.wav\n",
      "\n",
      "# Duplicate Group 168:\n",
      "  - G:\\Shared drives\\PFE - ING3 Mlamali\\DrumClassifier - Sounds Dataset\\Bell\\Real Bell 13.wav\n",
      "  - G:\\Shared drives\\PFE - ING3 Mlamali\\DrumClassifier - Sounds Dataset\\Bell\\[BELLS] Nxsty UK Drill Kit V2 (32).wav\n",
      "\n",
      "# Duplicate Group 169:\n",
      "  - G:\\Shared drives\\PFE - ING3 Mlamali\\DrumClassifier - Sounds Dataset\\Bell\\Bell 16.wav\n",
      "  - G:\\Shared drives\\PFE - ING3 Mlamali\\DrumClassifier - Sounds Dataset\\Bell\\[BELLS] Nxsty UK Drill Kit V2 (15).wav\n",
      "\n",
      "# Duplicate Group 170:\n",
      "  - G:\\Shared drives\\PFE - ING3 Mlamali\\DrumClassifier - Sounds Dataset\\Crash (Cymbal)\\Drill Crash.wav\n",
      "  - G:\\Shared drives\\PFE - ING3 Mlamali\\DrumClassifier - Sounds Dataset\\Crash (Cymbal)\\Nxsty - Crash (6).wav\n",
      "\n",
      "# Duplicate Group 171:\n",
      "  - G:\\Shared drives\\PFE - ING3 Mlamali\\DrumClassifier - Sounds Dataset\\Bell\\Synth Bell 07.wav\n",
      "  - G:\\Shared drives\\PFE - ING3 Mlamali\\DrumClassifier - Sounds Dataset\\Bell\\[BELLS] Nxsty UK Drill Kit V2 (47).wav\n",
      "\n",
      "# Duplicate Group 172:\n",
      "  - G:\\Shared drives\\PFE - ING3 Mlamali\\DrumClassifier - Sounds Dataset\\Bell\\Synth Bell 17.wav\n",
      "  - G:\\Shared drives\\PFE - ING3 Mlamali\\DrumClassifier - Sounds Dataset\\Bell\\[BELLS] Nxsty UK Drill Kit V2 (57).wav\n",
      "\n",
      "# Duplicate Group 173:\n",
      "  - G:\\Shared drives\\PFE - ING3 Mlamali\\DrumClassifier - Sounds Dataset\\Bell\\Synth Bell 02.wav\n",
      "  - G:\\Shared drives\\PFE - ING3 Mlamali\\DrumClassifier - Sounds Dataset\\Bell\\[BELLS] Nxsty UK Drill Kit V2 (42).wav\n",
      "\n",
      "# Duplicate Group 174:\n",
      "  - G:\\Shared drives\\PFE - ING3 Mlamali\\DrumClassifier - Sounds Dataset\\Bell\\Real Bell 05.wav\n",
      "  - G:\\Shared drives\\PFE - ING3 Mlamali\\DrumClassifier - Sounds Dataset\\Bell\\[BELLS] Nxsty UK Drill Kit V2 (24).wav\n",
      "\n",
      "# Duplicate Group 175:\n",
      "  - G:\\Shared drives\\PFE - ING3 Mlamali\\DrumClassifier - Sounds Dataset\\Bell\\Real Bell 07.wav\n",
      "  - G:\\Shared drives\\PFE - ING3 Mlamali\\DrumClassifier - Sounds Dataset\\Bell\\[BELLS] Nxsty UK Drill Kit V2 (26).wav\n",
      "\n",
      "# Duplicate Group 176:\n",
      "  - G:\\Shared drives\\PFE - ING3 Mlamali\\DrumClassifier - Sounds Dataset\\Bell\\Bell 15.wav\n",
      "  - G:\\Shared drives\\PFE - ING3 Mlamali\\DrumClassifier - Sounds Dataset\\Bell\\[BELLS] Nxsty UK Drill Kit V2 (14).wav\n",
      "\n",
      "# Duplicate Group 177:\n",
      "  - G:\\Shared drives\\PFE - ING3 Mlamali\\DrumClassifier - Sounds Dataset\\808\\MB 808 (4).wav\n",
      "  - G:\\Shared drives\\PFE - ING3 Mlamali\\DrumClassifier - Sounds Dataset\\808\\808 - JUNO.wav\n",
      "  - G:\\Shared drives\\PFE - ING3 Mlamali\\DrumClassifier - Sounds Dataset\\808\\8o8 (5).wav\n",
      "\n",
      "# Duplicate Group 178:\n",
      "  - G:\\Shared drives\\PFE - ING3 Mlamali\\DrumClassifier - Sounds Dataset\\Bell\\Real Bell 11.wav\n",
      "  - G:\\Shared drives\\PFE - ING3 Mlamali\\DrumClassifier - Sounds Dataset\\Bell\\[BELLS] Nxsty UK Drill Kit V2 (30).wav\n",
      "\n",
      "# Duplicate Group 179:\n",
      "  - G:\\Shared drives\\PFE - ING3 Mlamali\\DrumClassifier - Sounds Dataset\\Bell\\Real Bell 09.wav\n",
      "  - G:\\Shared drives\\PFE - ING3 Mlamali\\DrumClassifier - Sounds Dataset\\Bell\\[BELLS] Nxsty UK Drill Kit V2 (28).wav\n",
      "\n",
      "# Duplicate Group 180:\n",
      "  - G:\\Shared drives\\PFE - ING3 Mlamali\\DrumClassifier - Sounds Dataset\\Bell\\Bell 13.wav\n",
      "  - G:\\Shared drives\\PFE - ING3 Mlamali\\DrumClassifier - Sounds Dataset\\Bell\\[BELLS] Nxsty UK Drill Kit V2 (12).wav\n",
      "\n",
      "# Duplicate Group 181:\n",
      "  - G:\\Shared drives\\PFE - ING3 Mlamali\\DrumClassifier - Sounds Dataset\\Bell\\Real Bell 06.wav\n",
      "  - G:\\Shared drives\\PFE - ING3 Mlamali\\DrumClassifier - Sounds Dataset\\Bell\\[BELLS] Nxsty UK Drill Kit V2 (25).wav\n",
      "\n",
      "# Duplicate Group 182:\n",
      "  - G:\\Shared drives\\PFE - ING3 Mlamali\\DrumClassifier - Sounds Dataset\\Bell\\Bell 11.wav\n",
      "  - G:\\Shared drives\\PFE - ING3 Mlamali\\DrumClassifier - Sounds Dataset\\Bell\\[BELLS] Nxsty UK Drill Kit V2 (10).wav\n",
      "\n",
      "# Duplicate Group 183:\n",
      "  - G:\\Shared drives\\PFE - ING3 Mlamali\\DrumClassifier - Sounds Dataset\\Bell\\Best Tubular Bell.wav\n",
      "  - G:\\Shared drives\\PFE - ING3 Mlamali\\DrumClassifier - Sounds Dataset\\Bell\\Drill Bell v2 (2).wav\n",
      "\n",
      "# Duplicate Group 184:\n",
      "  - G:\\Shared drives\\PFE - ING3 Mlamali\\DrumClassifier - Sounds Dataset\\Bell\\Real Bell 03.wav\n",
      "  - G:\\Shared drives\\PFE - ING3 Mlamali\\DrumClassifier - Sounds Dataset\\Bell\\[BELLS] Nxsty UK Drill Kit V2 (22).wav\n",
      "\n",
      "# Duplicate Group 185:\n",
      "  - G:\\Shared drives\\PFE - ING3 Mlamali\\DrumClassifier - Sounds Dataset\\Bell\\Real Bell 01.wav\n",
      "  - G:\\Shared drives\\PFE - ING3 Mlamali\\DrumClassifier - Sounds Dataset\\Bell\\[BELLS] Nxsty UK Drill Kit V2 (20).wav\n",
      "\n",
      "# Duplicate Group 186:\n",
      "  - G:\\Shared drives\\PFE - ING3 Mlamali\\DrumClassifier - Sounds Dataset\\Bell\\Real Bell 08.wav\n",
      "  - G:\\Shared drives\\PFE - ING3 Mlamali\\DrumClassifier - Sounds Dataset\\Bell\\[BELLS] Nxsty UK Drill Kit V2 (27).wav\n",
      "\n",
      "# Duplicate Group 187:\n",
      "  - G:\\Shared drives\\PFE - ING3 Mlamali\\DrumClassifier - Sounds Dataset\\808\\DaveO's 808 #3.wav\n",
      "  - G:\\Shared drives\\PFE - ING3 Mlamali\\DrumClassifier - Sounds Dataset\\808\\8o8 (32).wav\n",
      "\n",
      "# Duplicate Group 188:\n",
      "  - G:\\Shared drives\\PFE - ING3 Mlamali\\DrumClassifier - Sounds Dataset\\Bell\\Bell 17.wav\n",
      "  - G:\\Shared drives\\PFE - ING3 Mlamali\\DrumClassifier - Sounds Dataset\\Bell\\[BELLS] Nxsty UK Drill Kit V2 (16).wav\n",
      "\n",
      "# Duplicate Group 189:\n",
      "  - G:\\Shared drives\\PFE - ING3 Mlamali\\DrumClassifier - Sounds Dataset\\Bell\\Synth Bell 18.wav\n",
      "  - G:\\Shared drives\\PFE - ING3 Mlamali\\DrumClassifier - Sounds Dataset\\Bell\\[BELLS] Nxsty UK Drill Kit V2 (58).wav\n",
      "\n",
      "# Duplicate Group 190:\n",
      "  - G:\\Shared drives\\PFE - ING3 Mlamali\\DrumClassifier - Sounds Dataset\\Bell\\SouthSide Church Bell (2).wav\n",
      "  - G:\\Shared drives\\PFE - ING3 Mlamali\\DrumClassifier - Sounds Dataset\\Bell\\Hermes Bell (2).wav\n",
      "  - G:\\Shared drives\\PFE - ING3 Mlamali\\DrumClassifier - Sounds Dataset\\Bell\\Nxsty - Bell (8).wav\n",
      "  - G:\\Shared drives\\PFE - ING3 Mlamali\\DrumClassifier - Sounds Dataset\\Bell\\Realist Bell.wav\n",
      "  - G:\\Shared drives\\PFE - ING3 Mlamali\\DrumClassifier - Sounds Dataset\\Bell\\STEEZE BELL 3.wav\n",
      "  - G:\\Shared drives\\PFE - ING3 Mlamali\\DrumClassifier - Sounds Dataset\\Bell\\Waka - CHURCH BELL.wav\n",
      "\n",
      "# Duplicate Group 191:\n",
      "  - G:\\Shared drives\\PFE - ING3 Mlamali\\DrumClassifier - Sounds Dataset\\Bell\\Real Bell 02.wav\n",
      "  - G:\\Shared drives\\PFE - ING3 Mlamali\\DrumClassifier - Sounds Dataset\\Bell\\[BELLS] Nxsty UK Drill Kit V2 (21).wav\n",
      "\n",
      "# Duplicate Group 192:\n",
      "  - G:\\Shared drives\\PFE - ING3 Mlamali\\DrumClassifier - Sounds Dataset\\Triangle\\Drill Triangle.wav\n",
      "  - G:\\Shared drives\\PFE - ING3 Mlamali\\DrumClassifier - Sounds Dataset\\Triangle\\STEEZE TRIANGLE 1.wav\n",
      "\n",
      "# Duplicate Group 193:\n",
      "  - G:\\Shared drives\\PFE - ING3 Mlamali\\DrumClassifier - Sounds Dataset\\Bell\\Bell 02.wav\n",
      "  - G:\\Shared drives\\PFE - ING3 Mlamali\\DrumClassifier - Sounds Dataset\\Bell\\[BELLS] Nxsty UK Drill Kit V2 (1).wav\n",
      "\n",
      "# Duplicate Group 194:\n",
      "  - G:\\Shared drives\\PFE - ING3 Mlamali\\DrumClassifier - Sounds Dataset\\Bell\\Bell 04.wav\n",
      "  - G:\\Shared drives\\PFE - ING3 Mlamali\\DrumClassifier - Sounds Dataset\\Bell\\[BELLS] Nxsty UK Drill Kit V2 (3).wav\n",
      "\n"
     ]
    }
   ],
   "source": [
    "\n",
    "# Regroupez les lignes en double en fonction de leurs valeurs de features\n",
    "grouped_duplicates = duplicates_df.groupby(columns_float)\n",
    "\n",
    "# Créez une liste contenant des listes de file_paths pour chaque groupe de duplicatas\n",
    "duplicate_groups = []\n",
    "for _, group in grouped_duplicates:\n",
    "    duplicate_groups.append(list(group.index))\n",
    "\n",
    "# Affichez les groupes de duplicatas\n",
    "for i, group in enumerate(duplicate_groups):\n",
    "    print(f\"# Duplicate Group {i + 1}:\")\n",
    "    for file_path in group:\n",
    "        print(f\"  - {file_path}\")\n",
    "    print()"
   ],
   "metadata": {
    "collapsed": false,
    "ExecuteTime": {
     "start_time": "2023-04-24T17:59:42.736156Z",
     "end_time": "2023-04-24T17:59:42.963985Z"
    }
   }
  },
  {
   "cell_type": "markdown",
   "source": [
    "maintenant qu'on a les lignes dupliquées, on va les supprimer"
   ],
   "metadata": {
    "collapsed": false
   }
  },
  {
   "cell_type": "markdown",
   "source": [
    "#### Delete duplicates in dataset"
   ],
   "metadata": {
    "collapsed": false
   }
  },
  {
   "cell_type": "code",
   "execution_count": 32,
   "outputs": [
    {
     "name": "stdout",
     "output_type": "stream",
     "text": [
      "238\n"
     ]
    }
   ],
   "source": [
    "duplicates_file_to_delete = []\n",
    "file_to_delete_num_group_map = {}\n",
    "\n",
    "# Parcourez chaque groupe de doublons\n",
    "for num_group, group in enumerate(duplicate_groups, start=1):\n",
    "    # Triez les fichiers audio du groupe par la taille de leur nom de fichier\n",
    "    file_name_len = lambda file_path: len(os.path.basename(file_path))\n",
    "    sorted_group = sorted(group, key=file_name_len)\n",
    "\n",
    "    # Gardez le fichier audio avec le plus petit nom de fichier (le premier de la liste triée)\n",
    "    to_keep = sorted_group[0]\n",
    "\n",
    "    # Ajoutez les autres fichiers audio du groupe à la liste des fichiers à supprimer\n",
    "    duplicates_file_to_delete.extend(sorted_group[1:])\n",
    "\n",
    "    for file_path in sorted_group[1:]:\n",
    "        file_to_delete_num_group_map[file_path] = num_group\n",
    "\n",
    "print(len(set(duplicates_file_to_delete)))\n"
   ],
   "metadata": {
    "collapsed": false,
    "ExecuteTime": {
     "start_time": "2023-04-24T17:59:42.785942Z",
     "end_time": "2023-04-24T17:59:43.061396Z"
    }
   }
  },
  {
   "cell_type": "code",
   "execution_count": 33,
   "outputs": [
    {
     "name": "stdout",
     "output_type": "stream",
     "text": [
      "Nombre de lignes dupliquées (focus on features) : 0 lignes (qu'on peut potentiellement supprimer)\n"
     ]
    },
    {
     "data": {
      "text/plain": "                                                             file_name  \\\nfile_path                                                                \nG:\\Shared drives\\PFE - ING3 Mlamali\\DrumClassif...   KAMAL - Conga (1)   \nG:\\Shared drives\\PFE - ING3 Mlamali\\DrumClassif...   KAMAL - Conga (2)   \nG:\\Shared drives\\PFE - ING3 Mlamali\\DrumClassif...   KAMAL - Conga (3)   \nG:\\Shared drives\\PFE - ING3 Mlamali\\DrumClassif...   KAMAL - Conga (4)   \nG:\\Shared drives\\PFE - ING3 Mlamali\\DrumClassif...   KAMAL - Conga (5)   \n...                                                                ...   \nG:\\Shared drives\\PFE - ING3 Mlamali\\DrumClassif...   Mid Seed Shaker 9   \nG:\\Shared drives\\PFE - ING3 Mlamali\\DrumClassif...  Mid Seed Shaker 10   \nG:\\Shared drives\\PFE - ING3 Mlamali\\DrumClassif...  Mid Seed Shaker 11   \nG:\\Shared drives\\PFE - ING3 Mlamali\\DrumClassif...  Mid Seed Shaker 12   \nG:\\Shared drives\\PFE - ING3 Mlamali\\DrumClassif...  Mid Seed Shaker 13   \n\n                                                   file_extension   class  \\\nfile_path                                                                   \nG:\\Shared drives\\PFE - ING3 Mlamali\\DrumClassif...           .wav   Conga   \nG:\\Shared drives\\PFE - ING3 Mlamali\\DrumClassif...           .wav   Conga   \nG:\\Shared drives\\PFE - ING3 Mlamali\\DrumClassif...           .wav   Conga   \nG:\\Shared drives\\PFE - ING3 Mlamali\\DrumClassif...           .wav   Conga   \nG:\\Shared drives\\PFE - ING3 Mlamali\\DrumClassif...           .wav   Conga   \n...                                                           ...     ...   \nG:\\Shared drives\\PFE - ING3 Mlamali\\DrumClassif...           .aif  Shaker   \nG:\\Shared drives\\PFE - ING3 Mlamali\\DrumClassif...           .aif  Shaker   \nG:\\Shared drives\\PFE - ING3 Mlamali\\DrumClassif...           .aif  Shaker   \nG:\\Shared drives\\PFE - ING3 Mlamali\\DrumClassif...           .aif  Shaker   \nG:\\Shared drives\\PFE - ING3 Mlamali\\DrumClassif...           .aif  Shaker   \n\n                                                    split  duration  \\\nfile_path                                                             \nG:\\Shared drives\\PFE - ING3 Mlamali\\DrumClassif...  train  0.221905   \nG:\\Shared drives\\PFE - ING3 Mlamali\\DrumClassif...   test  0.075170   \nG:\\Shared drives\\PFE - ING3 Mlamali\\DrumClassif...  train  0.086417   \nG:\\Shared drives\\PFE - ING3 Mlamali\\DrumClassif...  train  0.063810   \nG:\\Shared drives\\PFE - ING3 Mlamali\\DrumClassif...  train  0.258231   \n...                                                   ...       ...   \nG:\\Shared drives\\PFE - ING3 Mlamali\\DrumClassif...  train  0.672880   \nG:\\Shared drives\\PFE - ING3 Mlamali\\DrumClassif...  train  0.929456   \nG:\\Shared drives\\PFE - ING3 Mlamali\\DrumClassif...  train  0.875011   \nG:\\Shared drives\\PFE - ING3 Mlamali\\DrumClassif...  train  0.875011   \nG:\\Shared drives\\PFE - ING3 Mlamali\\DrumClassif...   test  0.596576   \n\n                                                    log_sum_rms  log_mean_rms  \\\nfile_path                                                                       \nG:\\Shared drives\\PFE - ING3 Mlamali\\DrumClassif...   -36.586320     -1.829316   \nG:\\Shared drives\\PFE - ING3 Mlamali\\DrumClassif...    -5.535370     -0.790767   \nG:\\Shared drives\\PFE - ING3 Mlamali\\DrumClassif...    -6.860503     -0.857563   \nG:\\Shared drives\\PFE - ING3 Mlamali\\DrumClassif...    -9.422018     -1.570336   \nG:\\Shared drives\\PFE - ING3 Mlamali\\DrumClassif...   -23.961166     -1.041790   \n...                                                         ...           ...   \nG:\\Shared drives\\PFE - ING3 Mlamali\\DrumClassif...  -172.912320     -2.981247   \nG:\\Shared drives\\PFE - ING3 Mlamali\\DrumClassif...  -273.343200     -3.374607   \nG:\\Shared drives\\PFE - ING3 Mlamali\\DrumClassif...  -244.603880     -3.218472   \nG:\\Shared drives\\PFE - ING3 Mlamali\\DrumClassif...  -246.982820     -3.249774   \nG:\\Shared drives\\PFE - ING3 Mlamali\\DrumClassif...  -154.541100     -2.971944   \n\n                                                    log_max_rms  rms_log_std  \\\nfile_path                                                                      \nG:\\Shared drives\\PFE - ING3 Mlamali\\DrumClassif...    -0.739824     1.237576   \nG:\\Shared drives\\PFE - ING3 Mlamali\\DrumClassif...    -0.269122     0.479259   \nG:\\Shared drives\\PFE - ING3 Mlamali\\DrumClassif...    -0.265424     0.504127   \nG:\\Shared drives\\PFE - ING3 Mlamali\\DrumClassif...    -0.670527     0.721422   \nG:\\Shared drives\\PFE - ING3 Mlamali\\DrumClassif...    -0.465791     0.610694   \n...                                                         ...          ...   \nG:\\Shared drives\\PFE - ING3 Mlamali\\DrumClassif...    -0.822484     1.529523   \nG:\\Shared drives\\PFE - ING3 Mlamali\\DrumClassif...    -0.728820     1.568116   \nG:\\Shared drives\\PFE - ING3 Mlamali\\DrumClassif...    -0.734002     1.524488   \nG:\\Shared drives\\PFE - ING3 Mlamali\\DrumClassif...    -0.720161     1.605657   \nG:\\Shared drives\\PFE - ING3 Mlamali\\DrumClassif...    -0.724052     1.567551   \n\n                                                    rms_log_diff_mean  ...  \\\nfile_path                                                              ...   \nG:\\Shared drives\\PFE - ING3 Mlamali\\DrumClassif...           0.269076  ...   \nG:\\Shared drives\\PFE - ING3 Mlamali\\DrumClassif...           0.253621  ...   \nG:\\Shared drives\\PFE - ING3 Mlamali\\DrumClassif...           0.226923  ...   \nG:\\Shared drives\\PFE - ING3 Mlamali\\DrumClassif...           0.379499  ...   \nG:\\Shared drives\\PFE - ING3 Mlamali\\DrumClassif...           0.136201  ...   \n...                                                               ...  ...   \nG:\\Shared drives\\PFE - ING3 Mlamali\\DrumClassif...           0.173720  ...   \nG:\\Shared drives\\PFE - ING3 Mlamali\\DrumClassif...           0.125416  ...   \nG:\\Shared drives\\PFE - ING3 Mlamali\\DrumClassif...           0.125789  ...   \nG:\\Shared drives\\PFE - ING3 Mlamali\\DrumClassif...           0.150438  ...   \nG:\\Shared drives\\PFE - ING3 Mlamali\\DrumClassif...           0.157930  ...   \n\n                                                    spec_cent_mean  \\\nfile_path                                                            \nG:\\Shared drives\\PFE - ING3 Mlamali\\DrumClassif...     2771.188810   \nG:\\Shared drives\\PFE - ING3 Mlamali\\DrumClassif...     5363.585376   \nG:\\Shared drives\\PFE - ING3 Mlamali\\DrumClassif...     1688.612761   \nG:\\Shared drives\\PFE - ING3 Mlamali\\DrumClassif...     3074.094357   \nG:\\Shared drives\\PFE - ING3 Mlamali\\DrumClassif...     3994.841115   \n...                                                            ...   \nG:\\Shared drives\\PFE - ING3 Mlamali\\DrumClassif...     8552.850170   \nG:\\Shared drives\\PFE - ING3 Mlamali\\DrumClassif...     9341.562555   \nG:\\Shared drives\\PFE - ING3 Mlamali\\DrumClassif...     9270.489384   \nG:\\Shared drives\\PFE - ING3 Mlamali\\DrumClassif...     9135.135614   \nG:\\Shared drives\\PFE - ING3 Mlamali\\DrumClassif...     8850.324918   \n\n                                                    spec_cent_std  \\\nfile_path                                                           \nG:\\Shared drives\\PFE - ING3 Mlamali\\DrumClassif...    2460.565926   \nG:\\Shared drives\\PFE - ING3 Mlamali\\DrumClassif...    1400.401081   \nG:\\Shared drives\\PFE - ING3 Mlamali\\DrumClassif...     562.744633   \nG:\\Shared drives\\PFE - ING3 Mlamali\\DrumClassif...     675.055216   \nG:\\Shared drives\\PFE - ING3 Mlamali\\DrumClassif...    1705.392297   \n...                                                           ...   \nG:\\Shared drives\\PFE - ING3 Mlamali\\DrumClassif...    1995.923836   \nG:\\Shared drives\\PFE - ING3 Mlamali\\DrumClassif...    2284.763279   \nG:\\Shared drives\\PFE - ING3 Mlamali\\DrumClassif...    1901.198482   \nG:\\Shared drives\\PFE - ING3 Mlamali\\DrumClassif...    2430.710085   \nG:\\Shared drives\\PFE - ING3 Mlamali\\DrumClassif...    2022.008011   \n\n                                                    spec_bw_mean  spec_bw_std  \\\nfile_path                                                                       \nG:\\Shared drives\\PFE - ING3 Mlamali\\DrumClassif...   3513.523659  1573.305322   \nG:\\Shared drives\\PFE - ING3 Mlamali\\DrumClassif...   6281.286529   869.637190   \nG:\\Shared drives\\PFE - ING3 Mlamali\\DrumClassif...   2684.366488   708.933286   \nG:\\Shared drives\\PFE - ING3 Mlamali\\DrumClassif...   3106.637318   440.107261   \nG:\\Shared drives\\PFE - ING3 Mlamali\\DrumClassif...   4126.019895   665.609861   \n...                                                          ...          ...   \nG:\\Shared drives\\PFE - ING3 Mlamali\\DrumClassif...   4688.603735  1248.938149   \nG:\\Shared drives\\PFE - ING3 Mlamali\\DrumClassif...   5029.911848  1418.301615   \nG:\\Shared drives\\PFE - ING3 Mlamali\\DrumClassif...   5027.825233  1365.491043   \nG:\\Shared drives\\PFE - ING3 Mlamali\\DrumClassif...   4792.150083  1420.777824   \nG:\\Shared drives\\PFE - ING3 Mlamali\\DrumClassif...   4661.250245  1210.422452   \n\n                                                    spec_flatness_mean  \\\nfile_path                                                                \nG:\\Shared drives\\PFE - ING3 Mlamali\\DrumClassif...            0.011382   \nG:\\Shared drives\\PFE - ING3 Mlamali\\DrumClassif...            0.006250   \nG:\\Shared drives\\PFE - ING3 Mlamali\\DrumClassif...            0.000881   \nG:\\Shared drives\\PFE - ING3 Mlamali\\DrumClassif...            0.005416   \nG:\\Shared drives\\PFE - ING3 Mlamali\\DrumClassif...            0.001800   \n...                                                                ...   \nG:\\Shared drives\\PFE - ING3 Mlamali\\DrumClassif...            0.154277   \nG:\\Shared drives\\PFE - ING3 Mlamali\\DrumClassif...            0.202218   \nG:\\Shared drives\\PFE - ING3 Mlamali\\DrumClassif...            0.198355   \nG:\\Shared drives\\PFE - ING3 Mlamali\\DrumClassif...            0.175519   \nG:\\Shared drives\\PFE - ING3 Mlamali\\DrumClassif...            0.162604   \n\n                                                    spec_flatness_std  \\\nfile_path                                                               \nG:\\Shared drives\\PFE - ING3 Mlamali\\DrumClassif...           0.027191   \nG:\\Shared drives\\PFE - ING3 Mlamali\\DrumClassif...           0.002458   \nG:\\Shared drives\\PFE - ING3 Mlamali\\DrumClassif...           0.001732   \nG:\\Shared drives\\PFE - ING3 Mlamali\\DrumClassif...           0.005467   \nG:\\Shared drives\\PFE - ING3 Mlamali\\DrumClassif...           0.003827   \n...                                                               ...   \nG:\\Shared drives\\PFE - ING3 Mlamali\\DrumClassif...           0.100315   \nG:\\Shared drives\\PFE - ING3 Mlamali\\DrumClassif...           0.129527   \nG:\\Shared drives\\PFE - ING3 Mlamali\\DrumClassif...           0.105156   \nG:\\Shared drives\\PFE - ING3 Mlamali\\DrumClassif...           0.128083   \nG:\\Shared drives\\PFE - ING3 Mlamali\\DrumClassif...           0.102460   \n\n                                                    spec_rolloff_mean  \\\nfile_path                                                               \nG:\\Shared drives\\PFE - ING3 Mlamali\\DrumClassif...         322.998047   \nG:\\Shared drives\\PFE - ING3 Mlamali\\DrumClassif...         461.425781   \nG:\\Shared drives\\PFE - ING3 Mlamali\\DrumClassif...         406.439209   \nG:\\Shared drives\\PFE - ING3 Mlamali\\DrumClassif...         509.619141   \nG:\\Shared drives\\PFE - ING3 Mlamali\\DrumClassif...         197.543733   \n...                                                               ...   \nG:\\Shared drives\\PFE - ING3 Mlamali\\DrumClassif...        3548.523370   \nG:\\Shared drives\\PFE - ING3 Mlamali\\DrumClassif...        3778.412543   \nG:\\Shared drives\\PFE - ING3 Mlamali\\DrumClassif...        3781.343801   \nG:\\Shared drives\\PFE - ING3 Mlamali\\DrumClassif...        3836.593467   \nG:\\Shared drives\\PFE - ING3 Mlamali\\DrumClassif...        3854.029259   \n\n                                                    spec_rolloff_std  \\\nfile_path                                                              \nG:\\Shared drives\\PFE - ING3 Mlamali\\DrumClassif...        135.162666   \nG:\\Shared drives\\PFE - ING3 Mlamali\\DrumClassif...         25.366763   \nG:\\Shared drives\\PFE - ING3 Mlamali\\DrumClassif...         12.908702   \nG:\\Shared drives\\PFE - ING3 Mlamali\\DrumClassif...        152.600726   \nG:\\Shared drives\\PFE - ING3 Mlamali\\DrumClassif...         17.565161   \n...                                                              ...   \nG:\\Shared drives\\PFE - ING3 Mlamali\\DrumClassif...       1844.713284   \nG:\\Shared drives\\PFE - ING3 Mlamali\\DrumClassif...       2690.802937   \nG:\\Shared drives\\PFE - ING3 Mlamali\\DrumClassif...       2479.147790   \nG:\\Shared drives\\PFE - ING3 Mlamali\\DrumClassif...       2557.461554   \nG:\\Shared drives\\PFE - ING3 Mlamali\\DrumClassif...       2275.831355   \n\n                                                    spec_contrast_mean  \\\nfile_path                                                                \nG:\\Shared drives\\PFE - ING3 Mlamali\\DrumClassif...           16.910134   \nG:\\Shared drives\\PFE - ING3 Mlamali\\DrumClassif...           13.454006   \nG:\\Shared drives\\PFE - ING3 Mlamali\\DrumClassif...           15.434837   \nG:\\Shared drives\\PFE - ING3 Mlamali\\DrumClassif...           15.496504   \nG:\\Shared drives\\PFE - ING3 Mlamali\\DrumClassif...           20.689341   \n...                                                                ...   \nG:\\Shared drives\\PFE - ING3 Mlamali\\DrumClassif...           13.433769   \nG:\\Shared drives\\PFE - ING3 Mlamali\\DrumClassif...           13.046287   \nG:\\Shared drives\\PFE - ING3 Mlamali\\DrumClassif...           12.827034   \nG:\\Shared drives\\PFE - ING3 Mlamali\\DrumClassif...           13.166101   \nG:\\Shared drives\\PFE - ING3 Mlamali\\DrumClassif...           13.113481   \n\n                                                    spec_contrast_std  \nfile_path                                                              \nG:\\Shared drives\\PFE - ING3 Mlamali\\DrumClassif...           6.121380  \nG:\\Shared drives\\PFE - ING3 Mlamali\\DrumClassif...           5.019219  \nG:\\Shared drives\\PFE - ING3 Mlamali\\DrumClassif...           6.394566  \nG:\\Shared drives\\PFE - ING3 Mlamali\\DrumClassif...           6.475287  \nG:\\Shared drives\\PFE - ING3 Mlamali\\DrumClassif...           9.458610  \n...                                                               ...  \nG:\\Shared drives\\PFE - ING3 Mlamali\\DrumClassif...           5.270034  \nG:\\Shared drives\\PFE - ING3 Mlamali\\DrumClassif...           5.105602  \nG:\\Shared drives\\PFE - ING3 Mlamali\\DrumClassif...           5.013560  \nG:\\Shared drives\\PFE - ING3 Mlamali\\DrumClassif...           5.536690  \nG:\\Shared drives\\PFE - ING3 Mlamali\\DrumClassif...           5.624652  \n\n[10062 rows x 100 columns]",
      "text/html": "<div>\n<style scoped>\n    .dataframe tbody tr th:only-of-type {\n        vertical-align: middle;\n    }\n\n    .dataframe tbody tr th {\n        vertical-align: top;\n    }\n\n    .dataframe thead th {\n        text-align: right;\n    }\n</style>\n<table border=\"1\" class=\"dataframe\">\n  <thead>\n    <tr style=\"text-align: right;\">\n      <th></th>\n      <th>file_name</th>\n      <th>file_extension</th>\n      <th>class</th>\n      <th>split</th>\n      <th>duration</th>\n      <th>log_sum_rms</th>\n      <th>log_mean_rms</th>\n      <th>log_max_rms</th>\n      <th>rms_log_std</th>\n      <th>rms_log_diff_mean</th>\n      <th>...</th>\n      <th>spec_cent_mean</th>\n      <th>spec_cent_std</th>\n      <th>spec_bw_mean</th>\n      <th>spec_bw_std</th>\n      <th>spec_flatness_mean</th>\n      <th>spec_flatness_std</th>\n      <th>spec_rolloff_mean</th>\n      <th>spec_rolloff_std</th>\n      <th>spec_contrast_mean</th>\n      <th>spec_contrast_std</th>\n    </tr>\n    <tr>\n      <th>file_path</th>\n      <th></th>\n      <th></th>\n      <th></th>\n      <th></th>\n      <th></th>\n      <th></th>\n      <th></th>\n      <th></th>\n      <th></th>\n      <th></th>\n      <th></th>\n      <th></th>\n      <th></th>\n      <th></th>\n      <th></th>\n      <th></th>\n      <th></th>\n      <th></th>\n      <th></th>\n      <th></th>\n      <th></th>\n    </tr>\n  </thead>\n  <tbody>\n    <tr>\n      <th>G:\\Shared drives\\PFE - ING3 Mlamali\\DrumClassifier - Sounds Dataset\\Conga\\KAMAL - Conga (1).wav</th>\n      <td>KAMAL - Conga (1)</td>\n      <td>.wav</td>\n      <td>Conga</td>\n      <td>train</td>\n      <td>0.221905</td>\n      <td>-36.586320</td>\n      <td>-1.829316</td>\n      <td>-0.739824</td>\n      <td>1.237576</td>\n      <td>0.269076</td>\n      <td>...</td>\n      <td>2771.188810</td>\n      <td>2460.565926</td>\n      <td>3513.523659</td>\n      <td>1573.305322</td>\n      <td>0.011382</td>\n      <td>0.027191</td>\n      <td>322.998047</td>\n      <td>135.162666</td>\n      <td>16.910134</td>\n      <td>6.121380</td>\n    </tr>\n    <tr>\n      <th>G:\\Shared drives\\PFE - ING3 Mlamali\\DrumClassifier - Sounds Dataset\\Conga\\KAMAL - Conga (2).wav</th>\n      <td>KAMAL - Conga (2)</td>\n      <td>.wav</td>\n      <td>Conga</td>\n      <td>test</td>\n      <td>0.075170</td>\n      <td>-5.535370</td>\n      <td>-0.790767</td>\n      <td>-0.269122</td>\n      <td>0.479259</td>\n      <td>0.253621</td>\n      <td>...</td>\n      <td>5363.585376</td>\n      <td>1400.401081</td>\n      <td>6281.286529</td>\n      <td>869.637190</td>\n      <td>0.006250</td>\n      <td>0.002458</td>\n      <td>461.425781</td>\n      <td>25.366763</td>\n      <td>13.454006</td>\n      <td>5.019219</td>\n    </tr>\n    <tr>\n      <th>G:\\Shared drives\\PFE - ING3 Mlamali\\DrumClassifier - Sounds Dataset\\Conga\\KAMAL - Conga (3).wav</th>\n      <td>KAMAL - Conga (3)</td>\n      <td>.wav</td>\n      <td>Conga</td>\n      <td>train</td>\n      <td>0.086417</td>\n      <td>-6.860503</td>\n      <td>-0.857563</td>\n      <td>-0.265424</td>\n      <td>0.504127</td>\n      <td>0.226923</td>\n      <td>...</td>\n      <td>1688.612761</td>\n      <td>562.744633</td>\n      <td>2684.366488</td>\n      <td>708.933286</td>\n      <td>0.000881</td>\n      <td>0.001732</td>\n      <td>406.439209</td>\n      <td>12.908702</td>\n      <td>15.434837</td>\n      <td>6.394566</td>\n    </tr>\n    <tr>\n      <th>G:\\Shared drives\\PFE - ING3 Mlamali\\DrumClassifier - Sounds Dataset\\Conga\\KAMAL - Conga (4).wav</th>\n      <td>KAMAL - Conga (4)</td>\n      <td>.wav</td>\n      <td>Conga</td>\n      <td>train</td>\n      <td>0.063810</td>\n      <td>-9.422018</td>\n      <td>-1.570336</td>\n      <td>-0.670527</td>\n      <td>0.721422</td>\n      <td>0.379499</td>\n      <td>...</td>\n      <td>3074.094357</td>\n      <td>675.055216</td>\n      <td>3106.637318</td>\n      <td>440.107261</td>\n      <td>0.005416</td>\n      <td>0.005467</td>\n      <td>509.619141</td>\n      <td>152.600726</td>\n      <td>15.496504</td>\n      <td>6.475287</td>\n    </tr>\n    <tr>\n      <th>G:\\Shared drives\\PFE - ING3 Mlamali\\DrumClassifier - Sounds Dataset\\Conga\\KAMAL - Conga (5).wav</th>\n      <td>KAMAL - Conga (5)</td>\n      <td>.wav</td>\n      <td>Conga</td>\n      <td>train</td>\n      <td>0.258231</td>\n      <td>-23.961166</td>\n      <td>-1.041790</td>\n      <td>-0.465791</td>\n      <td>0.610694</td>\n      <td>0.136201</td>\n      <td>...</td>\n      <td>3994.841115</td>\n      <td>1705.392297</td>\n      <td>4126.019895</td>\n      <td>665.609861</td>\n      <td>0.001800</td>\n      <td>0.003827</td>\n      <td>197.543733</td>\n      <td>17.565161</td>\n      <td>20.689341</td>\n      <td>9.458610</td>\n    </tr>\n    <tr>\n      <th>...</th>\n      <td>...</td>\n      <td>...</td>\n      <td>...</td>\n      <td>...</td>\n      <td>...</td>\n      <td>...</td>\n      <td>...</td>\n      <td>...</td>\n      <td>...</td>\n      <td>...</td>\n      <td>...</td>\n      <td>...</td>\n      <td>...</td>\n      <td>...</td>\n      <td>...</td>\n      <td>...</td>\n      <td>...</td>\n      <td>...</td>\n      <td>...</td>\n      <td>...</td>\n      <td>...</td>\n    </tr>\n    <tr>\n      <th>G:\\Shared drives\\PFE - ING3 Mlamali\\DrumClassifier - Sounds Dataset\\Shaker\\Mid Seed Shaker 9.aif</th>\n      <td>Mid Seed Shaker 9</td>\n      <td>.aif</td>\n      <td>Shaker</td>\n      <td>train</td>\n      <td>0.672880</td>\n      <td>-172.912320</td>\n      <td>-2.981247</td>\n      <td>-0.822484</td>\n      <td>1.529523</td>\n      <td>0.173720</td>\n      <td>...</td>\n      <td>8552.850170</td>\n      <td>1995.923836</td>\n      <td>4688.603735</td>\n      <td>1248.938149</td>\n      <td>0.154277</td>\n      <td>0.100315</td>\n      <td>3548.523370</td>\n      <td>1844.713284</td>\n      <td>13.433769</td>\n      <td>5.270034</td>\n    </tr>\n    <tr>\n      <th>G:\\Shared drives\\PFE - ING3 Mlamali\\DrumClassifier - Sounds Dataset\\Shaker\\Mid Seed Shaker 10.aif</th>\n      <td>Mid Seed Shaker 10</td>\n      <td>.aif</td>\n      <td>Shaker</td>\n      <td>train</td>\n      <td>0.929456</td>\n      <td>-273.343200</td>\n      <td>-3.374607</td>\n      <td>-0.728820</td>\n      <td>1.568116</td>\n      <td>0.125416</td>\n      <td>...</td>\n      <td>9341.562555</td>\n      <td>2284.763279</td>\n      <td>5029.911848</td>\n      <td>1418.301615</td>\n      <td>0.202218</td>\n      <td>0.129527</td>\n      <td>3778.412543</td>\n      <td>2690.802937</td>\n      <td>13.046287</td>\n      <td>5.105602</td>\n    </tr>\n    <tr>\n      <th>G:\\Shared drives\\PFE - ING3 Mlamali\\DrumClassifier - Sounds Dataset\\Shaker\\Mid Seed Shaker 11.aif</th>\n      <td>Mid Seed Shaker 11</td>\n      <td>.aif</td>\n      <td>Shaker</td>\n      <td>train</td>\n      <td>0.875011</td>\n      <td>-244.603880</td>\n      <td>-3.218472</td>\n      <td>-0.734002</td>\n      <td>1.524488</td>\n      <td>0.125789</td>\n      <td>...</td>\n      <td>9270.489384</td>\n      <td>1901.198482</td>\n      <td>5027.825233</td>\n      <td>1365.491043</td>\n      <td>0.198355</td>\n      <td>0.105156</td>\n      <td>3781.343801</td>\n      <td>2479.147790</td>\n      <td>12.827034</td>\n      <td>5.013560</td>\n    </tr>\n    <tr>\n      <th>G:\\Shared drives\\PFE - ING3 Mlamali\\DrumClassifier - Sounds Dataset\\Shaker\\Mid Seed Shaker 12.aif</th>\n      <td>Mid Seed Shaker 12</td>\n      <td>.aif</td>\n      <td>Shaker</td>\n      <td>train</td>\n      <td>0.875011</td>\n      <td>-246.982820</td>\n      <td>-3.249774</td>\n      <td>-0.720161</td>\n      <td>1.605657</td>\n      <td>0.150438</td>\n      <td>...</td>\n      <td>9135.135614</td>\n      <td>2430.710085</td>\n      <td>4792.150083</td>\n      <td>1420.777824</td>\n      <td>0.175519</td>\n      <td>0.128083</td>\n      <td>3836.593467</td>\n      <td>2557.461554</td>\n      <td>13.166101</td>\n      <td>5.536690</td>\n    </tr>\n    <tr>\n      <th>G:\\Shared drives\\PFE - ING3 Mlamali\\DrumClassifier - Sounds Dataset\\Shaker\\Mid Seed Shaker 13.aif</th>\n      <td>Mid Seed Shaker 13</td>\n      <td>.aif</td>\n      <td>Shaker</td>\n      <td>test</td>\n      <td>0.596576</td>\n      <td>-154.541100</td>\n      <td>-2.971944</td>\n      <td>-0.724052</td>\n      <td>1.567551</td>\n      <td>0.157930</td>\n      <td>...</td>\n      <td>8850.324918</td>\n      <td>2022.008011</td>\n      <td>4661.250245</td>\n      <td>1210.422452</td>\n      <td>0.162604</td>\n      <td>0.102460</td>\n      <td>3854.029259</td>\n      <td>2275.831355</td>\n      <td>13.113481</td>\n      <td>5.624652</td>\n    </tr>\n  </tbody>\n</table>\n<p>10062 rows × 100 columns</p>\n</div>"
     },
     "execution_count": 33,
     "metadata": {},
     "output_type": "execute_result"
    }
   ],
   "source": [
    "# Copiez votre DataFrame pour ne pas modifier l'original\n",
    "cleaned_df_drums = df_drums.copy()\n",
    "# Supprimez les autres fichiers audio du groupe de doublons du DataFrame\n",
    "cleaned_df_drums = cleaned_df_drums.drop(file_path for file_path in duplicates_file_to_delete)\n",
    "\n",
    "# cleaned_df contient maintenant les données sans les doublons indésirables\n",
    "print(\n",
    "    f\"Nombre de lignes dupliquées (focus on features) : {cleaned_df_drums.duplicated(subset=columns_float).sum()} lignes (qu'on peut potentiellement supprimer)\")\n",
    "cleaned_df_drums"
   ],
   "metadata": {
    "collapsed": false,
    "ExecuteTime": {
     "start_time": "2023-04-24T17:59:42.810061Z",
     "end_time": "2023-04-24T17:59:43.285948Z"
    }
   }
  },
  {
   "cell_type": "markdown",
   "source": [],
   "metadata": {
    "collapsed": false
   }
  },
  {
   "cell_type": "markdown",
   "source": [
    "sauvegarder dans un fichier csv les données dupliquées (pour les supprimer manuellement)"
   ],
   "metadata": {
    "collapsed": false
   }
  },
  {
   "cell_type": "code",
   "execution_count": 34,
   "outputs": [],
   "source": [
    "# save duplicates in txt file\n",
    "with open(os.path.join(SOUNDS_DATASET_PATH, \"__duplicates.txt\"), \"w\", encoding=\"utf-8\") as f:\n",
    "    for file_path in duplicates_file_to_delete:\n",
    "        f.write(f\"{file_path} {file_to_delete_num_group_map[file_path]}\" + os.linesep)"
   ],
   "metadata": {
    "collapsed": false,
    "ExecuteTime": {
     "start_time": "2023-04-24T17:59:42.916791Z",
     "end_time": "2023-04-24T17:59:43.335490Z"
    }
   }
  },
  {
   "cell_type": "markdown",
   "source": [
    "### Duplicates file_name"
   ],
   "metadata": {
    "collapsed": false
   }
  },
  {
   "cell_type": "code",
   "execution_count": 35,
   "outputs": [
    {
     "name": "stdout",
     "output_type": "stream",
     "text": [
      "Nombre de lignes dupliquées sur la colonne 'file_name' : 0 lignes (qu'on peut potentiellement supprimer)\n"
     ]
    },
    {
     "data": {
      "text/plain": "Empty DataFrame\nColumns: [file_name, file_extension, class, split, duration, log_sum_rms, log_mean_rms, log_max_rms, rms_log_std, rms_log_diff_mean, log_crest_factor, zcr_sum, zcr_mean, zcr_std, zcr_loudest_frame, temp_cent, attack_time, pitch, mfcc_mean_1, mfcc_mean_2, mfcc_mean_3, mfcc_mean_4, mfcc_mean_5, mfcc_mean_6, mfcc_mean_7, mfcc_mean_8, mfcc_mean_9, mfcc_mean_10, mfcc_mean_11, mfcc_mean_12, mfcc_std_1, mfcc_std_2, mfcc_std_3, mfcc_std_4, mfcc_std_5, mfcc_std_6, mfcc_std_7, mfcc_std_8, mfcc_std_9, mfcc_std_10, mfcc_std_11, mfcc_std_12, mfcc_max_1, mfcc_max_2, mfcc_max_3, mfcc_max_4, mfcc_max_5, mfcc_max_6, mfcc_max_7, mfcc_max_8, mfcc_max_9, mfcc_max_10, mfcc_max_11, mfcc_max_12, mfcc_min_1, mfcc_min_2, mfcc_min_3, mfcc_min_4, mfcc_min_5, mfcc_min_6, mfcc_min_7, mfcc_min_8, mfcc_min_9, mfcc_min_10, mfcc_min_11, mfcc_min_12, mfcc_skew_1, mfcc_skew_2, mfcc_skew_3, mfcc_skew_4, mfcc_skew_5, mfcc_skew_6, mfcc_skew_7, mfcc_skew_8, mfcc_skew_9, mfcc_skew_10, mfcc_skew_11, mfcc_skew_12, mfcc_kurtosis_1, mfcc_kurtosis_2, mfcc_kurtosis_3, mfcc_kurtosis_4, mfcc_kurtosis_5, mfcc_kurtosis_6, mfcc_kurtosis_7, mfcc_kurtosis_8, mfcc_kurtosis_9, mfcc_kurtosis_10, mfcc_kurtosis_11, mfcc_kurtosis_12, spec_cent_mean, spec_cent_std, spec_bw_mean, spec_bw_std, spec_flatness_mean, spec_flatness_std, spec_rolloff_mean, spec_rolloff_std, spec_contrast_mean, spec_contrast_std]\nIndex: []\n\n[0 rows x 100 columns]",
      "text/html": "<div>\n<style scoped>\n    .dataframe tbody tr th:only-of-type {\n        vertical-align: middle;\n    }\n\n    .dataframe tbody tr th {\n        vertical-align: top;\n    }\n\n    .dataframe thead th {\n        text-align: right;\n    }\n</style>\n<table border=\"1\" class=\"dataframe\">\n  <thead>\n    <tr style=\"text-align: right;\">\n      <th></th>\n      <th>file_name</th>\n      <th>file_extension</th>\n      <th>class</th>\n      <th>split</th>\n      <th>duration</th>\n      <th>log_sum_rms</th>\n      <th>log_mean_rms</th>\n      <th>log_max_rms</th>\n      <th>rms_log_std</th>\n      <th>rms_log_diff_mean</th>\n      <th>...</th>\n      <th>spec_cent_mean</th>\n      <th>spec_cent_std</th>\n      <th>spec_bw_mean</th>\n      <th>spec_bw_std</th>\n      <th>spec_flatness_mean</th>\n      <th>spec_flatness_std</th>\n      <th>spec_rolloff_mean</th>\n      <th>spec_rolloff_std</th>\n      <th>spec_contrast_mean</th>\n      <th>spec_contrast_std</th>\n    </tr>\n    <tr>\n      <th>file_path</th>\n      <th></th>\n      <th></th>\n      <th></th>\n      <th></th>\n      <th></th>\n      <th></th>\n      <th></th>\n      <th></th>\n      <th></th>\n      <th></th>\n      <th></th>\n      <th></th>\n      <th></th>\n      <th></th>\n      <th></th>\n      <th></th>\n      <th></th>\n      <th></th>\n      <th></th>\n      <th></th>\n      <th></th>\n    </tr>\n  </thead>\n  <tbody>\n  </tbody>\n</table>\n<p>0 rows × 100 columns</p>\n</div>"
     },
     "execution_count": 35,
     "metadata": {},
     "output_type": "execute_result"
    }
   ],
   "source": [
    "print(\n",
    "    f\"Nombre de lignes dupliquées sur la colonne 'file_name' : {cleaned_df_drums.duplicated(subset=['file_name', 'file_extension']).sum()} lignes (qu'on peut potentiellement supprimer)\")\n",
    "\n",
    "cleaned_df_drums[cleaned_df_drums.duplicated(subset=['file_name', 'file_extension'], keep=False)].sort_values(\n",
    "    by=['file_name', 'file_extension'])"
   ],
   "metadata": {
    "collapsed": false,
    "ExecuteTime": {
     "start_time": "2023-04-24T17:59:42.956209Z",
     "end_time": "2023-04-24T17:59:43.336491Z"
    }
   }
  },
  {
   "cell_type": "markdown",
   "source": [
    "### Duplicates (too similar) audio content\n",
    "\n",
    "Pour détecter les fichiers audio dupliqués,  on va comparer les caractéristiques audio de chaque fichier audio. Si les caractéristiques audio sont identiques, alors les fichiers audio sont dupliqués."
   ],
   "metadata": {
    "collapsed": false
   }
  },
  {
   "cell_type": "code",
   "execution_count": null,
   "outputs": [
    {
     "name": "stderr",
     "output_type": "stream",
     "text": [
      "\n",
      "  0%|          | 0/10062 [00:00<?, ?it/s]\u001B[A\n",
      "  0%|          | 8/10062 [00:02<58:10,  2.88it/s]\u001B[A\n",
      "  0%|          | 12/10062 [00:03<46:05,  3.63it/s]\u001B[A\n",
      "  0%|          | 16/10062 [00:04<39:43,  4.21it/s]\u001B[A\n",
      "  0%|          | 20/10062 [00:04<35:11,  4.76it/s]\u001B[A\n",
      "  0%|          | 24/10062 [00:05<31:47,  5.26it/s]\u001B[A\n",
      "  0%|          | 28/10062 [00:06<30:26,  5.49it/s]\u001B[A\n",
      "  0%|          | 32/10062 [00:06<29:39,  5.64it/s]\u001B[A\n",
      "  0%|          | 36/10062 [00:07<28:20,  5.90it/s]\u001B[A\n",
      "  0%|          | 40/10062 [00:08<28:59,  5.76it/s]\u001B[A\n",
      "  0%|          | 44/10062 [00:09<36:46,  4.54it/s]\u001B[A\n",
      "  0%|          | 48/10062 [00:10<38:57,  4.28it/s]\u001B[A\n",
      "  1%|          | 52/10062 [00:11<39:26,  4.23it/s]\u001B[A\n",
      "  1%|          | 56/10062 [00:12<39:01,  4.27it/s]\u001B[A\n",
      "  1%|          | 60/10062 [00:13<39:49,  4.19it/s]\u001B[A\n",
      "  1%|          | 64/10062 [00:14<40:40,  4.10it/s]\u001B[A\n",
      "  1%|          | 68/10062 [00:15<40:41,  4.09it/s]\u001B[A\n",
      "  1%|          | 72/10062 [00:16<40:11,  4.14it/s]\u001B[A"
     ]
    }
   ],
   "source": [
    "# euclidean distance with np.linalg.norm\n",
    "def euclidean_distance(vector1: np.ndarray, vector2: np.ndarray):\n",
    "    \"\"\"\n",
    "    Compute euclidean distance between two vectors\n",
    "    \"\"\"\n",
    "    return np.linalg.norm(vector1 - vector2)\n",
    "\n",
    "\n",
    "# cosine similarity with np.dot\n",
    "def cosine_similarity(vector1: np.ndarray, vector2: np.ndarray):\n",
    "    \"\"\"\n",
    "    Compute cosine similarity between two vectors\n",
    "    \"\"\"\n",
    "    return np.dot(vector1, vector2) / (np.linalg.norm(vector1) * np.linalg.norm(vector2))\n",
    "\n",
    "\n",
    "def similarity(vector1: np.ndarray, vector2: np.ndarray, metric: str = \"euclidean\"):\n",
    "    \"\"\"\n",
    "    Compute similarity between two vectors using the specified metric. Use numpy functions.\n",
    "    \"\"\"\n",
    "    if metric == \"cosine\":\n",
    "        sim = cosine_similarity(vector1, vector2)\n",
    "        return sim\n",
    "        # Normalize cosine similarity to [0, 1]\n",
    "        #return (sim + 1) / 2\n",
    "    elif metric == \"euclidean\":\n",
    "        dist = euclidean_distance(vector1, vector2)\n",
    "        # Normalize euclidean distance to [0, 1] by dividing by the maximum possible distance\n",
    "        max_dist = np.sqrt(len(vector1))\n",
    "        return 1 - (dist / max_dist)\n",
    "    else:\n",
    "        raise ValueError(f\"Unknown metric: {metric}\")\n",
    "\n",
    "\n",
    "def compute_similarity_pair(file_i, row_i, df_X, metric=\"euclidean\", threshold : float = None):\n",
    "\n",
    "    if threshold is None:\n",
    "        threshold = 0 if metric == \"cosine\" else 0.5\n",
    "\n",
    "\n",
    "    similarities = {}\n",
    "    for file_j, row_j in df_X.iterrows():\n",
    "        if file_i == file_j:\n",
    "            continue\n",
    "        if (file_i, file_j) in similarities or (file_j, file_i) in similarities:\n",
    "            continue\n",
    "        vectori = row_i.to_numpy()\n",
    "        vectorj = row_j.to_numpy()\n",
    "        sim = similarity(vectori, vectorj, metric=metric)\n",
    "        if sim >= threshold:\n",
    "            similarities[(file_i, file_j)] = sim\n",
    "\n",
    "    return similarities\n",
    "\n",
    "\n",
    "def compute_similarities_parallel(df_X: pd.DataFrame, metric: str = \"euclidean\", threshold : float = None, n_jobs: int = -1):\n",
    "    similarities = {}\n",
    "    #n_jobs = -1  # Utilisez tous les cœurs disponibles\n",
    "    results = Parallel(n_jobs=n_jobs)(\n",
    "        delayed(compute_similarity_pair)(file_i, row_i, df_X, metric=metric, threshold=threshold)\n",
    "        for file_i, row_i in tqdm(df_X.iterrows(), total=len(df_X))\n",
    "    )\n",
    "    for r in results:\n",
    "        similarities.update(r)\n",
    "    return similarities\n",
    "\n",
    "\n",
    "def compute_df_similarities(df_X: pd.DataFrame, metric: str = \"euclidean\", threshold : float = None, n_jobs: int = -1):\n",
    "    similarities = compute_similarities_parallel(df_X, metric=metric, threshold=threshold, n_jobs=n_jobs)\n",
    "\n",
    "    df_similarities = pd.DataFrame.from_dict(\n",
    "        similarities, orient='index', columns=['similarity']\n",
    "    ).sort_values(by=['similarity'], ascending=False)\n",
    "\n",
    "    df_similarities.reset_index(inplace=True)\n",
    "    df_similarities[\"file_i\"] = df_similarities[\"index\"].apply(lambda x: x[0])\n",
    "    df_similarities[\"file_j\"] = df_similarities[\"index\"].apply(lambda x: x[1])\n",
    "    df_similarities.drop(columns=[\"index\"], inplace=True)\n",
    "\n",
    "\n",
    "    return df_similarities\n",
    "\n",
    "\n",
    "\n",
    "\n",
    "df_similarities = compute_df_similarities(cleaned_df_drums[columns_float], metric=\"cosine\", threshold=0.7, n_jobs=2)\n",
    "df_similarities"
   ],
   "metadata": {
    "collapsed": false,
    "ExecuteTime": {
     "start_time": "2023-04-24T00:13:22.849062Z",
     "end_time": "2023-04-24T00:13:27.205493Z"
    }
   }
  },
  {
   "cell_type": "markdown",
   "source": [
    "#### Similary > 0.999"
   ],
   "metadata": {
    "collapsed": false
   }
  },
  {
   "cell_type": "code",
   "execution_count": null,
   "outputs": [],
   "source": [
    "df_similarities_0_999 = df_similarities.query(\"similarity > 0.999\")\n",
    "df_similarities_0_999"
   ],
   "metadata": {
    "collapsed": false,
    "ExecuteTime": {
     "start_time": "2023-04-24T00:13:28.588434Z",
     "end_time": "2023-04-24T00:13:28.697345Z"
    }
   }
  },
  {
   "cell_type": "code",
   "execution_count": null,
   "outputs": [],
   "source": [
    "# play some audio files with similarity > 0.999\n",
    "for i, row in df_similarities_0_999.sample(10).iterrows():\n",
    "    print(f\"#### similarity: {row['similarity']}\")\n",
    "    play_audio(row[\"file_i\"])\n",
    "    play_audio(row[\"file_j\"])"
   ],
   "metadata": {
    "collapsed": false,
    "ExecuteTime": {
     "start_time": "2023-04-24T00:00:24.696425Z",
     "end_time": "2023-04-24T00:00:25.762836Z"
    }
   }
  },
  {
   "cell_type": "markdown",
   "source": [
    "#### Delete similar files"
   ],
   "metadata": {
    "collapsed": false
   }
  },
  {
   "cell_type": "code",
   "execution_count": null,
   "outputs": [],
   "source": [
    "# pandas display full table\n",
    "#pd.set_option('display.max_rows', None)\n",
    "table_loser_0_999 = pd.Series(\n",
    "    df_similarities_0_999[\"file_i\"].to_list() + df_similarities_0_999[\"file_j\"].to_list()).value_counts()\n",
    "table_loser_0_999"
   ],
   "metadata": {
    "collapsed": false,
    "ExecuteTime": {
     "start_time": "2023-04-24T00:13:54.540529Z",
     "end_time": "2023-04-24T00:13:54.644378Z"
    }
   }
  },
  {
   "cell_type": "code",
   "execution_count": null,
   "outputs": [],
   "source": [
    "play_audio(\"G:\\Shared drives\\PFE - ING3 Mlamali\\DrumClassifier - Sounds Dataset\\Conga\\Conga (119).wav\")\n",
    "play_audio(\"G:\\Shared drives\\PFE - ING3 Mlamali\\DrumClassifier - Sounds Dataset\\Conga\\Conga (118).wav\")"
   ],
   "metadata": {
    "collapsed": false,
    "ExecuteTime": {
     "start_time": "2023-04-24T00:09:20.489308Z",
     "end_time": "2023-04-24T00:09:20.653258Z"
    }
   }
  },
  {
   "cell_type": "code",
   "execution_count": null,
   "outputs": [],
   "source": [
    "similar_file_to_delete = []  # list of file to delete\n",
    "for i, row in df_similarities_0_999.iterrows():\n",
    "    if row[\"file_i\"] in similar_file_to_delete or row[\"file_j\"] in similar_file_to_delete:\n",
    "        continue\n",
    "    if table_loser_0_999[row[\"file_j\"]] > table_loser_0_999[row[\"file_i\"]]:\n",
    "        #print(f\"{os.path.basename(row['file_j'])} lose vs. {os.path.basename(row['file_i'])} (because {table_loser_0_999[row['file_j']]} > {table_loser_0_999[row['file_i']]})\")\n",
    "        similar_file_to_delete.append(row[\"file_j\"])\n",
    "    else:\n",
    "        #print(f\"{os.path.basename(row['file_i'])} lose vs. {os.path.basename(row['file_j'])} (because {table_loser_0_999[row['file_i']]} > {table_loser_0_999[row['file_j']]})\")\n",
    "        similar_file_to_delete.append(row[\"file_i\"])\n",
    "\n",
    "len(similar_file_to_delete)"
   ],
   "metadata": {
    "collapsed": false,
    "ExecuteTime": {
     "start_time": "2023-04-24T00:10:39.275762Z",
     "end_time": "2023-04-24T00:10:39.450249Z"
    }
   }
  },
  {
   "cell_type": "code",
   "execution_count": null,
   "outputs": [],
   "source": [
    "# delete similar files from cleaned_df_drums\n",
    "cleaned_df_drums = cleaned_df_drums.drop(similar_file_to_delete)\n",
    "cleaned_df_drums"
   ],
   "metadata": {
    "collapsed": false,
    "ExecuteTime": {
     "start_time": "2023-04-24T00:01:11.781119Z",
     "end_time": "2023-04-24T00:01:11.816410Z"
    }
   }
  },
  {
   "cell_type": "markdown",
   "source": [
    "on affiche maintenant les fichiers qui ont été supprimés, pour aller les supprimer manuellement"
   ],
   "metadata": {
    "collapsed": false
   }
  },
  {
   "cell_type": "code",
   "execution_count": null,
   "outputs": [],
   "source": [
    "similar_file_to_delete"
   ],
   "metadata": {
    "collapsed": false
   }
  },
  {
   "cell_type": "markdown",
   "source": [
    "## Missing values Processing\n",
    "Traitement des valeurs manquantes"
   ],
   "metadata": {
    "collapsed": false
   }
  },
  {
   "cell_type": "code",
   "execution_count": null,
   "outputs": [],
   "source": [
    "cleaned_df_drums.isnull().any()"
   ],
   "metadata": {
    "collapsed": false,
    "ExecuteTime": {
     "start_time": "2023-04-24T00:18:12.105356Z",
     "end_time": "2023-04-24T00:18:13.147009Z"
    }
   }
  },
  {
   "cell_type": "code",
   "execution_count": null,
   "outputs": [],
   "source": [
    "cleaned_df_drums.isnull().sum()"
   ],
   "metadata": {
    "collapsed": false,
    "ExecuteTime": {
     "start_time": "2023-04-24T00:19:52.785090Z",
     "end_time": "2023-04-24T00:19:53.200840Z"
    }
   }
  },
  {
   "cell_type": "code",
   "execution_count": null,
   "outputs": [],
   "source": [
    "cleaned_df_drums.describe().T"
   ],
   "metadata": {
    "collapsed": false,
    "ExecuteTime": {
     "start_time": "2023-04-24T00:20:58.876138Z",
     "end_time": "2023-04-24T00:21:01.911135Z"
    }
   }
  },
  {
   "cell_type": "code",
   "execution_count": null,
   "outputs": [],
   "source": [
    "cleaned_df_drums.loc"
   ],
   "metadata": {
    "collapsed": false,
    "ExecuteTime": {
     "start_time": "2023-04-24T00:20:20.010000Z",
     "end_time": "2023-04-24T00:20:20.460899Z"
    }
   }
  },
  {
   "cell_type": "markdown",
   "source": [
    "## Outliers\n",
    "\n",
    "Un outlier (ou valeur aberrante) est une observation qui se situe à une distance anormalement grande des autres observations dans un ensemble de données. Les outliers peuvent être causés par des erreurs de mesure, des erreurs d'enregistrement, ou par des variations naturelles dans les données. Ils peuvent avoir un impact significatif sur l'analyse et la modélisation des données, en introduisant des biais et en réduisant la performance des modèles prédictifs.\n",
    "\n",
    "Dans le contexte de notre projet, les outliers peuvent correspondre à des sons de batterie ayant des caractéristiques très différentes des autres sons, qui pourraient rendre difficile la classification ou l'analyse ultérieure."
   ],
   "metadata": {
    "collapsed": false
   }
  },
  {
   "cell_type": "code",
   "execution_count": null,
   "outputs": [],
   "source": [
    "cleaned_df_drums.describe().T"
   ],
   "metadata": {
    "collapsed": false,
    "ExecuteTime": {
     "start_time": "2023-04-24T00:26:40.682666Z",
     "end_time": "2023-04-24T00:26:42.724899Z"
    }
   }
  },
  {
   "cell_type": "code",
   "execution_count": null,
   "outputs": [],
   "source": [
    "cleaned_df_drums[\"duration\"].boxplot()"
   ],
   "metadata": {
    "collapsed": false,
    "ExecuteTime": {
     "start_time": "2023-04-24T00:36:02.515543Z",
     "end_time": "2023-04-24T00:36:33.767857Z"
    }
   }
  },
  {
   "cell_type": "code",
   "execution_count": null,
   "outputs": [],
   "source": [
    "from collections import Counter\n",
    "\n",
    "\n",
    "def get_outliers_iqr_per_class(df, column, class_column, multiplier=1.5):\n",
    "    outliers_indices = []\n",
    "\n",
    "    # Divisez le dataframe en sous-groupes en fonction des classes.\n",
    "    for class_value in df[class_column].unique():\n",
    "        class_df = df[df[class_column] == class_value]\n",
    "\n",
    "        # Appliquez la méthode IQR pour chaque sous-groupe.\n",
    "        Q1 = class_df[column].quantile(0.25)\n",
    "        Q3 = class_df[column].quantile(0.75)\n",
    "        IQR = Q3 - Q1\n",
    "        lower_bound = Q1 - multiplier * IQR\n",
    "        upper_bound = Q3 + multiplier * IQR\n",
    "        outliers_class_df = class_df[(class_df[column] < lower_bound) | (class_df[column] > upper_bound)]\n",
    "\n",
    "        outliers_indices.extend(outliers_class_df.index.tolist())\n",
    "\n",
    "    return outliers_indices\n",
    "\n",
    "\n",
    "# Remplacez 'class_column' par le nom de la colonne contenant les classes dans votre dataframe.\n",
    "class_column = 'class'\n",
    "\n",
    "# Parcourez toutes les colonnes de cleaned_df_drums pour lesquelles vous souhaitez détecter les outliers.\n",
    "outliers_counter = Counter()\n",
    "for col in tqdm(columns_float):\n",
    "    outliers_indices = get_outliers_iqr_per_class(cleaned_df_drums, col, class_column)\n",
    "    outliers_counter.update(outliers_indices)\n",
    "\n",
    "limit_outliers_count = 15\n",
    "# Trouvez les index des lignes qui ont été détectées au moins 3 fois comme outliers.\n",
    "outliers_to_remove = [index for index, count in outliers_counter.items() if count >= limit_outliers_count]\n",
    "print(f\"Nombre d'outliers à supprimer: {len(outliers_to_remove)}\")\n",
    "\n",
    "for file_outlier in outliers_to_remove[:10]:\n",
    "    play_audio(file_outlier)"
   ],
   "metadata": {
    "collapsed": false,
    "ExecuteTime": {
     "start_time": "2023-04-24T01:07:01.565441Z",
     "end_time": "2023-04-24T01:07:07.744901Z"
    }
   }
  },
  {
   "cell_type": "code",
   "execution_count": null,
   "outputs": [],
   "source": [
    "# Supprimez les outliers du dataframe.\n",
    "cleaned_df_drums = cleaned_df_drums.drop(outliers_to_remove)\n",
    "print(f\"Nombre de lignes restantes: {len(cleaned_df_drums)}\")\n",
    "cleaned_df_drums"
   ],
   "metadata": {
    "collapsed": false
   }
  },
  {
   "cell_type": "markdown",
   "source": [
    "## Save cleaned dataframe"
   ],
   "metadata": {
    "collapsed": false
   }
  },
  {
   "cell_type": "code",
   "execution_count": null,
   "outputs": [],
   "source": [
    "now_str = datetime.now().strftime(\"%Y%m%d\")\n",
    "cleaned_df_drums.to_csv(os.path.join(SOUNDS_DATASET_PATH, \"dataset_cleaned_features_extracted.csv\"), index=False)"
   ],
   "metadata": {
    "collapsed": false,
    "ExecuteTime": {
     "start_time": "2023-04-24T01:10:38.960271Z",
     "end_time": "2023-04-24T01:10:40.589485Z"
    }
   }
  }
 ],
 "metadata": {
  "kernelspec": {
   "display_name": "Python 3",
   "language": "python",
   "name": "python3"
  },
  "language_info": {
   "codemirror_mode": {
    "name": "ipython",
    "version": 2
   },
   "file_extension": ".py",
   "mimetype": "text/x-python",
   "name": "python",
   "nbconvert_exporter": "python",
   "pygments_lexer": "ipython2",
   "version": "2.7.6"
  }
 },
 "nbformat": 4,
 "nbformat_minor": 0
}
