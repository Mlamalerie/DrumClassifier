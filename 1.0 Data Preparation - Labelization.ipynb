{
 "cells": [
  {
   "cell_type": "code",
   "execution_count": 2,
   "metadata": {
    "collapsed": true,
    "ExecuteTime": {
     "start_time": "2023-04-23T00:08:28.086874Z",
     "end_time": "2023-04-23T00:08:28.263161Z"
    }
   },
   "outputs": [],
   "source": [
    "import IPython.display as ipd\n",
    "import librosa\n",
    "from params import SOUNDS_DATASET_PATH\n",
    "from pigeon import annotate\n",
    "from glob import glob\n",
    "import os\n",
    "from tools import play_audio\n",
    "import pandas as pd\n"
   ]
  },
  {
   "cell_type": "code",
   "execution_count": 3,
   "outputs": [
    {
     "name": "stdout",
     "output_type": "stream",
     "text": [
      "Found 15 classes: ['Clap', 'Conga', 'Crash (Cymbal)', 'Hat Closed (Cymbal)', 'Hat Open (Cymbal)', 'Kick', 'Metal', 'Ride (Cymbal)', 'Snare', 'Tom', 'Snap', '808', 'Bell', 'Triangle', 'Shaker']\n"
     ]
    }
   ],
   "source": [
    "class_names = [dir_name for dir_name in os.listdir(SOUNDS_DATASET_PATH) if\n",
    "               os.path.isdir(os.path.join(SOUNDS_DATASET_PATH, dir_name))]\n",
    "print(f\"Found {len(class_names)} classes: {class_names}\")"
   ],
   "metadata": {
    "collapsed": false,
    "ExecuteTime": {
     "start_time": "2023-04-23T00:08:28.177683Z",
     "end_time": "2023-04-23T00:08:28.268159Z"
    }
   }
  },
  {
   "cell_type": "code",
   "execution_count": 8,
   "outputs": [
    {
     "name": "stdout",
     "output_type": "stream",
     "text": [
      "Found 483 audio files\n"
     ]
    }
   ],
   "source": [
    "def get_all_audios_files(dir_path, audio_extensions=[\".wav\", \".mp3\", \".ogg\", \".flac\"]):\n",
    "    files = []\n",
    "    for extension in audio_extensions:\n",
    "        files.extend(glob(os.path.join(dir_path, \"**\", \"*\" + extension), recursive=True))\n",
    "    return files\n",
    "\n",
    "\n",
    "audios_files = get_all_audios_files(SOUNDS_DATASET_PATH + \"/Metal\")\n",
    "print(f\"Found {len(audios_files)} audio files\")"
   ],
   "metadata": {
    "collapsed": false,
    "ExecuteTime": {
     "start_time": "2023-04-23T00:10:14.633133Z",
     "end_time": "2023-04-23T00:10:14.723544Z"
    }
   }
  },
  {
   "cell_type": "markdown",
   "source": [],
   "metadata": {
    "collapsed": false
   }
  },
  {
   "cell_type": "code",
   "execution_count": null,
   "outputs": [
    {
     "data": {
      "text/plain": "HTML(value='0 examples annotated, 484 examples left')",
      "application/vnd.jupyter.widget-view+json": {
       "version_major": 2,
       "version_minor": 0,
       "model_id": "500adcb4567b4c8bb28a148cb3f2a51e"
      }
     },
     "metadata": {},
     "output_type": "display_data"
    },
    {
     "data": {
      "text/plain": "Dropdown(options=('Clap', 'Conga', 'Crash (Cymbal)', 'Hat Closed (Cymbal)', 'Hat Open (Cymbal)', 'Kick', 'Meta…",
      "application/vnd.jupyter.widget-view+json": {
       "version_major": 2,
       "version_minor": 0,
       "model_id": "05405eff5d8f4cfb964ae0d618effbe7"
      }
     },
     "metadata": {},
     "output_type": "display_data"
    },
    {
     "data": {
      "text/plain": "HBox(children=(Button(description='submit', style=ButtonStyle()), Button(description='skip', style=ButtonStyle…",
      "application/vnd.jupyter.widget-view+json": {
       "version_major": 2,
       "version_minor": 0,
       "model_id": "afa37102dda74f18b728d121a614098b"
      }
     },
     "metadata": {},
     "output_type": "display_data"
    },
    {
     "data": {
      "text/plain": "Output()",
      "application/vnd.jupyter.widget-view+json": {
       "version_major": 2,
       "version_minor": 0,
       "model_id": "d0639d2287884383af813ed49d75354c"
      }
     },
     "metadata": {},
     "output_type": "display_data"
    }
   ],
   "source": [
    "\n",
    "annotations = annotate(audios_files,\n",
    "                       options=class_names,\n",
    "                       display_fn=lambda file_path: play_audio(file_path),\n",
    "                       shuffle=True)\n"
   ],
   "metadata": {
    "collapsed": false,
    "ExecuteTime": {
     "start_time": "2023-04-23T00:08:31.195001Z",
     "end_time": "2023-04-23T00:08:34.274966Z"
    },
    "pycharm": {
     "is_executing": true
    }
   }
  },
  {
   "cell_type": "code",
   "execution_count": 11,
   "outputs": [
    {
     "data": {
      "text/plain": "                                                   0     1\n0  G:\\Shared drives\\PFE - ING3 Mlamali\\DrumClassi...  Kick",
      "text/html": "<div>\n<style scoped>\n    .dataframe tbody tr th:only-of-type {\n        vertical-align: middle;\n    }\n\n    .dataframe tbody tr th {\n        vertical-align: top;\n    }\n\n    .dataframe thead th {\n        text-align: right;\n    }\n</style>\n<table border=\"1\" class=\"dataframe\">\n  <thead>\n    <tr style=\"text-align: right;\">\n      <th></th>\n      <th>0</th>\n      <th>1</th>\n    </tr>\n  </thead>\n  <tbody>\n    <tr>\n      <th>0</th>\n      <td>G:\\Shared drives\\PFE - ING3 Mlamali\\DrumClassi...</td>\n      <td>Kick</td>\n    </tr>\n  </tbody>\n</table>\n</div>"
     },
     "execution_count": 11,
     "metadata": {},
     "output_type": "execute_result"
    }
   ],
   "source": [
    "# save annotations\n",
    "\n",
    "df_annotation = pd.DataFrame(annotations)\n",
    "df_annotation"
   ],
   "metadata": {
    "collapsed": false,
    "ExecuteTime": {
     "start_time": "2023-04-23T00:11:50.826245Z",
     "end_time": "2023-04-23T00:11:50.863784Z"
    }
   }
  },
  {
   "cell_type": "markdown",
   "source": [
    "## Move files\n",
    "move files to their class folder"
   ],
   "metadata": {
    "collapsed": false
   }
  },
  {
   "cell_type": "code",
   "execution_count": 16,
   "outputs": [
    {
     "name": "stdout",
     "output_type": "stream",
     "text": [
      "> Found 1 annotations\n",
      " (y/n) Are you sure you want to move : \n",
      " - 'Metal/Metal 0070.flac' to 'Kick/' ?\n",
      "... Moved G:\\Shared drives\\PFE - ING3 Mlamali\\DrumClassifier - Sounds Dataset/Metal\\Metal 0070.flac to G:\\Shared drives\\PFE - ING3 Mlamali\\DrumClassifier - Sounds Dataset\\Kick\\Metal 0070.flac\n"
     ]
    }
   ],
   "source": [
    "def move_file(file_path, class_name):\n",
    "\n",
    "    new_file_path = os.path.join(SOUNDS_DATASET_PATH, class_name, os.path.basename(file_path))\n",
    "    try:\n",
    "        os.rename(file_path, new_file_path)\n",
    "    except FileExistsError:\n",
    "        print(f\" ! File {new_file_path} already exists, renaming it\")\n",
    "    except FileNotFoundError:\n",
    "        print(f\" ! File {file_path} not found\")\n",
    "        return\n",
    "    except PermissionError:\n",
    "        print(f\" ! Permission denied for {file_path}\")\n",
    "        return\n",
    "    else:\n",
    "        print(f\"... Moved {file_path} to {new_file_path}\")\n",
    "    return new_file_path\n",
    "    os.rename(file_path, new_file_path)\n",
    "    return new_file_path\n",
    "\n",
    "def ask_for_confirmation(annotations):\n",
    "    print(f\" (y/n) Are you sure you want to move : \")\n",
    "    for file_path, class_name in annotations:\n",
    "        file_name = os.path.basename(file_path)\n",
    "        parent_dir = os.path.basename(os.path.dirname(file_path))\n",
    "        surname = f\"'{parent_dir}/{file_name}'\"\n",
    "        print(f\" - {surname} to '{class_name}/' ?\")\n",
    "        answer = input()\n",
    "    if answer == \"y\":\n",
    "        return True\n",
    "    elif answer == \"n\":\n",
    "        return False\n",
    "    else:\n",
    "        print(\"Please answer y or n\")\n",
    "        return False\n",
    "\n",
    "\n",
    "def move_files_to_class_folders(annotations):\n",
    "    print(f\"> Found {len(annotations)} annotations\")\n",
    "    if ask_for_confirmation(annotations):\n",
    "        for file_path, class_name in annotations:\n",
    "            move_file(file_path, class_name)\n",
    "    else:\n",
    "        print(\"> Aborting\")\n",
    "\n",
    "move_files_to_class_folders(annotations)"
   ],
   "metadata": {
    "collapsed": false,
    "ExecuteTime": {
     "start_time": "2023-04-23T00:17:33.887912Z",
     "end_time": "2023-04-23T00:17:40.541634Z"
    }
   }
  }
 ],
 "metadata": {
  "kernelspec": {
   "display_name": "Python 3",
   "language": "python",
   "name": "python3"
  },
  "language_info": {
   "codemirror_mode": {
    "name": "ipython",
    "version": 2
   },
   "file_extension": ".py",
   "mimetype": "text/x-python",
   "name": "python",
   "nbconvert_exporter": "python",
   "pygments_lexer": "ipython2",
   "version": "2.7.6"
  }
 },
 "nbformat": 4,
 "nbformat_minor": 0
}
